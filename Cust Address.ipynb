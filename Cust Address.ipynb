{
 "cells": [
  {
   "cell_type": "code",
   "execution_count": 1,
   "metadata": {},
   "outputs": [],
   "source": [
    "import pandas as pd\n",
    "import matplotlib.pyplot as plt\n",
    "import seaborn as sns\n",
    "%matplotlib inline"
   ]
  },
  {
   "cell_type": "code",
   "execution_count": 2,
   "metadata": {},
   "outputs": [],
   "source": [
    "df = pd.read_excel('KPMG.xlsx', sheet_name = 'CustomerAddress')"
   ]
  },
  {
   "cell_type": "code",
   "execution_count": 4,
   "metadata": {},
   "outputs": [
    {
     "data": {
      "text/html": [
       "<div>\n",
       "<style scoped>\n",
       "    .dataframe tbody tr th:only-of-type {\n",
       "        vertical-align: middle;\n",
       "    }\n",
       "\n",
       "    .dataframe tbody tr th {\n",
       "        vertical-align: top;\n",
       "    }\n",
       "\n",
       "    .dataframe thead th {\n",
       "        text-align: right;\n",
       "    }\n",
       "</style>\n",
       "<table border=\"1\" class=\"dataframe\">\n",
       "  <thead>\n",
       "    <tr style=\"text-align: right;\">\n",
       "      <th></th>\n",
       "      <th>Note: The data and information in this document is reflective of a hypothetical situation and client. This document is to be used for KPMG Virtual Internship purposes only.</th>\n",
       "      <th>Unnamed: 1</th>\n",
       "      <th>Unnamed: 2</th>\n",
       "      <th>Unnamed: 3</th>\n",
       "      <th>Unnamed: 4</th>\n",
       "      <th>Unnamed: 5</th>\n",
       "    </tr>\n",
       "  </thead>\n",
       "  <tbody>\n",
       "    <tr>\n",
       "      <td>0</td>\n",
       "      <td>customer_id</td>\n",
       "      <td>address</td>\n",
       "      <td>postcode</td>\n",
       "      <td>state</td>\n",
       "      <td>country</td>\n",
       "      <td>property_valuation</td>\n",
       "    </tr>\n",
       "    <tr>\n",
       "      <td>1</td>\n",
       "      <td>1</td>\n",
       "      <td>060 Morning Avenue</td>\n",
       "      <td>2016</td>\n",
       "      <td>New South Wales</td>\n",
       "      <td>Australia</td>\n",
       "      <td>10</td>\n",
       "    </tr>\n",
       "    <tr>\n",
       "      <td>2</td>\n",
       "      <td>2</td>\n",
       "      <td>6 Meadow Vale Court</td>\n",
       "      <td>2153</td>\n",
       "      <td>New South Wales</td>\n",
       "      <td>Australia</td>\n",
       "      <td>10</td>\n",
       "    </tr>\n",
       "    <tr>\n",
       "      <td>3</td>\n",
       "      <td>4</td>\n",
       "      <td>0 Holy Cross Court</td>\n",
       "      <td>4211</td>\n",
       "      <td>QLD</td>\n",
       "      <td>Australia</td>\n",
       "      <td>9</td>\n",
       "    </tr>\n",
       "    <tr>\n",
       "      <td>4</td>\n",
       "      <td>5</td>\n",
       "      <td>17979 Del Mar Point</td>\n",
       "      <td>2448</td>\n",
       "      <td>New South Wales</td>\n",
       "      <td>Australia</td>\n",
       "      <td>4</td>\n",
       "    </tr>\n",
       "  </tbody>\n",
       "</table>\n",
       "</div>"
      ],
      "text/plain": [
       "  Note: The data and information in this document is reflective of a hypothetical situation and client. This document is to be used for KPMG Virtual Internship purposes only.   \\\n",
       "0                                        customer_id                                                                                                                              \n",
       "1                                                  1                                                                                                                              \n",
       "2                                                  2                                                                                                                              \n",
       "3                                                  4                                                                                                                              \n",
       "4                                                  5                                                                                                                              \n",
       "\n",
       "            Unnamed: 1 Unnamed: 2       Unnamed: 3 Unnamed: 4  \\\n",
       "0              address   postcode            state    country   \n",
       "1   060 Morning Avenue       2016  New South Wales  Australia   \n",
       "2  6 Meadow Vale Court       2153  New South Wales  Australia   \n",
       "3   0 Holy Cross Court       4211              QLD  Australia   \n",
       "4  17979 Del Mar Point       2448  New South Wales  Australia   \n",
       "\n",
       "           Unnamed: 5  \n",
       "0  property_valuation  \n",
       "1                  10  \n",
       "2                  10  \n",
       "3                   9  \n",
       "4                   4  "
      ]
     },
     "execution_count": 4,
     "metadata": {},
     "output_type": "execute_result"
    }
   ],
   "source": [
    "df.head()"
   ]
  },
  {
   "cell_type": "code",
   "execution_count": 31,
   "metadata": {},
   "outputs": [
    {
     "data": {
      "text/plain": [
       "(3999, 6)"
      ]
     },
     "execution_count": 31,
     "metadata": {},
     "output_type": "execute_result"
    }
   ],
   "source": [
    "df.shape"
   ]
  },
  {
   "cell_type": "markdown",
   "metadata": {},
   "source": [
    "# Converting column headings into appropriate values"
   ]
  },
  {
   "cell_type": "code",
   "execution_count": 9,
   "metadata": {},
   "outputs": [],
   "source": [
    "df.rename(columns ={'Note: The data and information in this document is reflective of a hypothetical situation and client. This document is to be used for KPMG Virtual Internship purposes only. ':'customer_id',\n",
    "                   'Unnamed: 1':'address','Unnamed: 2':'postcode','Unnamed: 3':'state','Unnamed: 4':'country','Unnamed: 5':'property_valuation'},inplace = True)"
   ]
  },
  {
   "cell_type": "code",
   "execution_count": 10,
   "metadata": {},
   "outputs": [
    {
     "data": {
      "text/html": [
       "<div>\n",
       "<style scoped>\n",
       "    .dataframe tbody tr th:only-of-type {\n",
       "        vertical-align: middle;\n",
       "    }\n",
       "\n",
       "    .dataframe tbody tr th {\n",
       "        vertical-align: top;\n",
       "    }\n",
       "\n",
       "    .dataframe thead th {\n",
       "        text-align: right;\n",
       "    }\n",
       "</style>\n",
       "<table border=\"1\" class=\"dataframe\">\n",
       "  <thead>\n",
       "    <tr style=\"text-align: right;\">\n",
       "      <th></th>\n",
       "      <th>customer_id</th>\n",
       "      <th>address</th>\n",
       "      <th>postcode</th>\n",
       "      <th>state</th>\n",
       "      <th>country</th>\n",
       "      <th>property_valuation</th>\n",
       "    </tr>\n",
       "  </thead>\n",
       "  <tbody>\n",
       "    <tr>\n",
       "      <td>0</td>\n",
       "      <td>customer_id</td>\n",
       "      <td>address</td>\n",
       "      <td>postcode</td>\n",
       "      <td>state</td>\n",
       "      <td>country</td>\n",
       "      <td>property_valuation</td>\n",
       "    </tr>\n",
       "    <tr>\n",
       "      <td>1</td>\n",
       "      <td>1</td>\n",
       "      <td>060 Morning Avenue</td>\n",
       "      <td>2016</td>\n",
       "      <td>New South Wales</td>\n",
       "      <td>Australia</td>\n",
       "      <td>10</td>\n",
       "    </tr>\n",
       "    <tr>\n",
       "      <td>2</td>\n",
       "      <td>2</td>\n",
       "      <td>6 Meadow Vale Court</td>\n",
       "      <td>2153</td>\n",
       "      <td>New South Wales</td>\n",
       "      <td>Australia</td>\n",
       "      <td>10</td>\n",
       "    </tr>\n",
       "    <tr>\n",
       "      <td>3</td>\n",
       "      <td>4</td>\n",
       "      <td>0 Holy Cross Court</td>\n",
       "      <td>4211</td>\n",
       "      <td>QLD</td>\n",
       "      <td>Australia</td>\n",
       "      <td>9</td>\n",
       "    </tr>\n",
       "    <tr>\n",
       "      <td>4</td>\n",
       "      <td>5</td>\n",
       "      <td>17979 Del Mar Point</td>\n",
       "      <td>2448</td>\n",
       "      <td>New South Wales</td>\n",
       "      <td>Australia</td>\n",
       "      <td>4</td>\n",
       "    </tr>\n",
       "  </tbody>\n",
       "</table>\n",
       "</div>"
      ],
      "text/plain": [
       "   customer_id              address  postcode            state    country  \\\n",
       "0  customer_id              address  postcode            state    country   \n",
       "1            1   060 Morning Avenue      2016  New South Wales  Australia   \n",
       "2            2  6 Meadow Vale Court      2153  New South Wales  Australia   \n",
       "3            4   0 Holy Cross Court      4211              QLD  Australia   \n",
       "4            5  17979 Del Mar Point      2448  New South Wales  Australia   \n",
       "\n",
       "   property_valuation  \n",
       "0  property_valuation  \n",
       "1                  10  \n",
       "2                  10  \n",
       "3                   9  \n",
       "4                   4  "
      ]
     },
     "execution_count": 10,
     "metadata": {},
     "output_type": "execute_result"
    }
   ],
   "source": [
    "df.head()"
   ]
  },
  {
   "cell_type": "code",
   "execution_count": 12,
   "metadata": {},
   "outputs": [],
   "source": [
    "df.drop(df.index[0],inplace = True)"
   ]
  },
  {
   "cell_type": "code",
   "execution_count": 30,
   "metadata": {},
   "outputs": [
    {
     "data": {
      "text/html": [
       "<div>\n",
       "<style scoped>\n",
       "    .dataframe tbody tr th:only-of-type {\n",
       "        vertical-align: middle;\n",
       "    }\n",
       "\n",
       "    .dataframe tbody tr th {\n",
       "        vertical-align: top;\n",
       "    }\n",
       "\n",
       "    .dataframe thead th {\n",
       "        text-align: right;\n",
       "    }\n",
       "</style>\n",
       "<table border=\"1\" class=\"dataframe\">\n",
       "  <thead>\n",
       "    <tr style=\"text-align: right;\">\n",
       "      <th></th>\n",
       "      <th>customer_id</th>\n",
       "      <th>address</th>\n",
       "      <th>postcode</th>\n",
       "      <th>state</th>\n",
       "      <th>country</th>\n",
       "      <th>property_valuation</th>\n",
       "    </tr>\n",
       "  </thead>\n",
       "  <tbody>\n",
       "    <tr>\n",
       "      <td>3995</td>\n",
       "      <td>3999</td>\n",
       "      <td>1482 Hauk Trail</td>\n",
       "      <td>3064</td>\n",
       "      <td>VIC</td>\n",
       "      <td>Australia</td>\n",
       "      <td>3</td>\n",
       "    </tr>\n",
       "    <tr>\n",
       "      <td>3996</td>\n",
       "      <td>4000</td>\n",
       "      <td>57042 Village Green Point</td>\n",
       "      <td>4511</td>\n",
       "      <td>QLD</td>\n",
       "      <td>Australia</td>\n",
       "      <td>6</td>\n",
       "    </tr>\n",
       "    <tr>\n",
       "      <td>3997</td>\n",
       "      <td>4001</td>\n",
       "      <td>87 Crescent Oaks Alley</td>\n",
       "      <td>2756</td>\n",
       "      <td>NSW</td>\n",
       "      <td>Australia</td>\n",
       "      <td>10</td>\n",
       "    </tr>\n",
       "    <tr>\n",
       "      <td>3998</td>\n",
       "      <td>4002</td>\n",
       "      <td>8194 Lien Street</td>\n",
       "      <td>4032</td>\n",
       "      <td>QLD</td>\n",
       "      <td>Australia</td>\n",
       "      <td>7</td>\n",
       "    </tr>\n",
       "    <tr>\n",
       "      <td>3999</td>\n",
       "      <td>4003</td>\n",
       "      <td>320 Acker Drive</td>\n",
       "      <td>2251</td>\n",
       "      <td>NSW</td>\n",
       "      <td>Australia</td>\n",
       "      <td>7</td>\n",
       "    </tr>\n",
       "  </tbody>\n",
       "</table>\n",
       "</div>"
      ],
      "text/plain": [
       "     customer_id                    address postcode state    country  \\\n",
       "3995        3999            1482 Hauk Trail     3064   VIC  Australia   \n",
       "3996        4000  57042 Village Green Point     4511   QLD  Australia   \n",
       "3997        4001     87 Crescent Oaks Alley     2756   NSW  Australia   \n",
       "3998        4002           8194 Lien Street     4032   QLD  Australia   \n",
       "3999        4003            320 Acker Drive     2251   NSW  Australia   \n",
       "\n",
       "     property_valuation  \n",
       "3995                  3  \n",
       "3996                  6  \n",
       "3997                 10  \n",
       "3998                  7  \n",
       "3999                  7  "
      ]
     },
     "execution_count": 30,
     "metadata": {},
     "output_type": "execute_result"
    }
   ],
   "source": [
    "df.tail()"
   ]
  },
  {
   "cell_type": "markdown",
   "metadata": {},
   "source": [
    "# Checking for COMPLETENESS dimension"
   ]
  },
  {
   "cell_type": "code",
   "execution_count": 32,
   "metadata": {},
   "outputs": [
    {
     "data": {
      "text/plain": [
       "customer_id           0\n",
       "address               0\n",
       "postcode              0\n",
       "state                 0\n",
       "country               0\n",
       "property_valuation    0\n",
       "dtype: int64"
      ]
     },
     "execution_count": 32,
     "metadata": {},
     "output_type": "execute_result"
    }
   ],
   "source": [
    "df.isnull().sum()"
   ]
  },
  {
   "cell_type": "code",
   "execution_count": 33,
   "metadata": {},
   "outputs": [
    {
     "data": {
      "text/plain": [
       "<matplotlib.axes._subplots.AxesSubplot at 0x271c7857908>"
      ]
     },
     "execution_count": 33,
     "metadata": {},
     "output_type": "execute_result"
    },
    {
     "data": {
      "image/png": "[encoded data removed]",
      "text/plain": [
       "<Figure size 1080x360 with 2 Axes>"
      ]
     },
     "metadata": {},
     "output_type": "display_data"
    }
   ],
   "source": [
    "sns.set(rc={'figure.figsize':(15,5)})\n",
    "\n",
    "sns.heatmap(df.isnull(),yticklabels=False)"
   ]
  },
  {
   "cell_type": "markdown",
   "metadata": {},
   "source": [
    "There are no null values present in the column."
   ]
  },
  {
   "cell_type": "markdown",
   "metadata": {},
   "source": [
    "# Checking for ACCURACY, CONSISTENCY, CURRENCY, RELEVANCY, VALIDITY & UNIQUENESS"
   ]
  },
  {
   "cell_type": "code",
   "execution_count": 34,
   "metadata": {},
   "outputs": [
    {
     "data": {
      "text/plain": [
       "array([1, 2, 4, ..., 4001, 4002, 4003], dtype=object)"
      ]
     },
     "execution_count": 34,
     "metadata": {},
     "output_type": "execute_result"
    }
   ],
   "source": [
    "df.customer_id.unique()"
   ]
  },
  {
   "cell_type": "code",
   "execution_count": 35,
   "metadata": {},
   "outputs": [
    {
     "data": {
      "text/plain": [
       "4003    1\n",
       "1332    1\n",
       "1345    1\n",
       "1344    1\n",
       "1343    1\n",
       "       ..\n",
       "2665    1\n",
       "2664    1\n",
       "2663    1\n",
       "2662    1\n",
       "1       1\n",
       "Name: customer_id, Length: 3999, dtype: int64"
      ]
     },
     "execution_count": 35,
     "metadata": {},
     "output_type": "execute_result"
    }
   ],
   "source": [
    "df['customer_id'].value_counts()"
   ]
  },
  {
   "cell_type": "code",
   "execution_count": 36,
   "metadata": {},
   "outputs": [
    {
     "data": {
      "text/plain": [
       "array([2016, 2153, 4211, 2448, 3216, 2210, 2650, 2023, 3044, 4557, 3799,\n",
       "       2760, 2428, 3331, 3058, 2135, 2233, 2444, 4413, 4740, 3218, 4868,\n",
       "       4116, 2519, 2756, 2170, 4005, 4127, 2535, 4726, 4805, 2212, 2207,\n",
       "       3350, 3931, 4018, 4670, 2480, 3212, 2322, 3198, 2047, 4503, 2145,\n",
       "       4350, 2142, 2029, 2127, 4280, 2166, 2046, 2026, 2765, 2749, 2745,\n",
       "       3752, 2217, 2230, 3046, 3183, 2070, 2213, 4208, 2774, 4133, 4213,\n",
       "       4170, 2073, 3561, 2330, 3977, 2204, 2086, 2226, 2075, 2038, 2069,\n",
       "       2100, 3133, 3070, 2777, 2125, 2766, 2209, 2160, 2065, 2150, 2168,\n",
       "       4171, 2155, 2517, 2096, 2750, 2093, 3204, 4300, 3844, 4226, 3192,\n",
       "       2485, 2097, 4817, 2516, 3074, 4508, 4405, 2452, 2205, 4132, 4744,\n",
       "       2158, 3201, 4178, 2112, 2033, 4401, 3186, 4017, 2315, 2285, 2219,\n",
       "       4509, 2759, 2747, 2227, 2025, 3191, 3025, 2263, 2154, 2119, 3016,\n",
       "       4113, 2032, 4352, 3020, 2116, 3057, 2099, 3749, 2148, 3145, 2021,\n",
       "       2333, 2783, 2280, 4120, 3638, 2074, 2880, 2430, 4560, 2088, 2220,\n",
       "       3031, 2250, 2261, 3196, 4680, 3143, 2063, 3021, 2138, 4811, 2085,\n",
       "       3084, 3170, 2066, 4078, 2222, 3152, 2159, 4655, 4220, 4012, 2015,\n",
       "       2776, 3011, 2761, 2502, 2110, 2566, 2506, 2508, 2036, 2018, 3666,\n",
       "       4514, 2525, 4152, 2200, 3023, 3500, 2283, 2102, 2040, 2304, 2340,\n",
       "       3580, 3355, 2287, 2324, 2323, 2320, 2346, 2031, 2064, 2176, 3195,\n",
       "       2010, 2768, 2752, 3802, 3071, 4735, 3081, 3205, 2165, 3125, 4214,\n",
       "       2030, 2767, 2798, 2117, 4551, 3064, 3810, 4151, 2830, 3030, 4812,\n",
       "       2141, 3029, 2173, 3199, 4506, 2035, 3340, 3182, 2450, 2216, 3796,\n",
       "       3197, 2232, 2365, 4701, 4210, 2223, 4122, 2515, 3437, 3338, 2203,\n",
       "       3356, 3223, 3032, 3105, 3101, 2763, 2089, 2126, 2147, 2251, 3127,\n",
       "       3087, 3131, 3134, 2193, 4055, 2530, 4217, 4020, 2179, 3130, 4570,\n",
       "       3215, 3165, 3936, 2265, 3034, 2062, 2162, 3033, 2144, 3805, 2642,\n",
       "       3228, 3444, 2076, 4124, 4305, 2579, 2835, 3337, 2536, 2770, 2646,\n",
       "       4558, 2211, 2570, 4552, 3082, 2360, 4223, 4370, 3150, 2549, 3040,\n",
       "       4209, 4173, 2068, 3806, 2259, 2260, 4074, 4215, 3008, 2748, 2567,\n",
       "       3015, 4221, 3121, 4870, 2118, 2050, 2120, 3812, 3111, 3012, 2197,\n",
       "       3162, 2037, 3141, 3178, 3564, 3550, 3775, 3004, 3185, 2447, 3910,\n",
       "       3621, 4702, 2133, 3075, 3911, 2487, 4123, 2151, 3156, 3126, 2027,\n",
       "       3124, 2564, 2049, 3690, 3282, 2576, 3108, 4165, 2218, 2190, 2337,\n",
       "       2307, 2121, 2716, 3168, 3076, 2478, 2560, 2087, 4505, 2630, 2225,\n",
       "       3013, 3136, 2111, 2106, 3930, 2291, 2305, 2300, 4179, 2539, 3207,\n",
       "       4340, 3137, 3068, 4580, 2041, 4504, 2306, 4075, 3975, 4114, 4341,\n",
       "       4022, 4820, 3028, 4035, 2326, 3429, 4218, 2380, 3171, 2565, 3850,\n",
       "       3807, 4800, 2577, 2199, 2134, 4053, 2800, 2048, 2194, 2557, 2548,\n",
       "       2262, 2463, 2481, 2072, 3155, 3095, 4207, 4110, 2017, 2769, 4562,\n",
       "       2571, 3480, 3551, 2753, 3093, 4615, 3174, 2192, 2290, 3073, 4810,\n",
       "       4121, 2229, 4118, 2594, 3750, 4019, 2540, 2293, 2143, 3630, 2164,\n",
       "       4869, 2137, 2354, 4814, 2282, 2292, 2171, 2077, 4873, 4006, 2754,\n",
       "       2152, 2067, 2122, 3976, 2000, 3175, 2156, 2228, 3187, 2680, 2527,\n",
       "       2163, 2336, 4415, 3139, 3147, 3623, 4356, 2034, 2196, 2177, 2234,\n",
       "       2537, 4720, 3765, 2486, 4511, 2795, 3188, 3730, 3060, 4131, 2518,\n",
       "       3158, 2477, 2195, 2575, 3400, 3037, 4507, 2113, 2443, 3177, 2641,\n",
       "       4212, 3241, 3428, 4227, 4034, 2558, 2460, 3173, 2289, 4500, 4825,\n",
       "       4161, 3757, 2871, 2146, 4380, 3024, 3934, 3109, 2136, 2484, 3225,\n",
       "       4068, 2214, 3809, 2454, 4556, 4573, 2131, 3184, 2619, 3138, 3441,\n",
       "       2101, 4510, 2647, 2731, 3284, 2573, 2206, 4815, 2526, 4502, 2710,\n",
       "       2090, 3038, 3142, 3442, 4064, 2529, 3039, 2061, 3644, 2104, 2044,\n",
       "       3043, 2873, 2541, 2321, 2079, 3072, 2007, 2620, 2231, 2580, 2020,\n",
       "       2852, 3677, 4818, 4519, 4806, 4610, 4512, 4306, 4304, 4301, 4205,\n",
       "       4051, 4130, 4115, 4164, 4128, 3940, 3939, 3840, 3804, 2582, 3747,\n",
       "       3620, 3151, 3380, 3280, 3224, 3222, 3226, 3190, 3169, 3163, 3161,\n",
       "       3791, 4119, 3140, 3818, 3106, 3099, 3754, 3756, 3061, 3048, 3036,\n",
       "       3107, 3022, 3049, 2870, 2762, 2794, 2773, 2640, 2439, 2528, 2440,\n",
       "       2325, 2161, 2848, 4878, 2775, 2224, 3219, 2441, 4877, 3264, 2681,\n",
       "       3018, 2043, 2107, 4567, 4011, 2221, 2028, 3941, 3146, 3585, 4105,\n",
       "       2094, 2284, 3808, 3149, 3114, 3352, 3129, 4154, 2114, 4721, 2011,\n",
       "       4157, 4799, 2095, 3103, 4224, 4344, 2009, 3144, 3181, 2665, 2474,\n",
       "       3166, 2820, 4059, 4160, 3189, 4030, 2042, 4032, 4103, 2868, 2358,\n",
       "       2449, 2299, 4014, 3056, 2281, 4007, 2318, 3821, 4109, 4216, 2470,\n",
       "       2563, 2264, 2445, 4060, 3214, 4077, 2327, 4104, 3172, 2505, 2115,\n",
       "       2469, 2705, 3088, 3966, 3912, 2446, 2810, 4061, 3083, 3915, 4153,\n",
       "       2267, 3458, 4421, 3505, 3006, 4037, 3918, 2335, 3079, 2400, 3148,\n",
       "       2092, 2714, 3555, 2008, 3631, 4228, 4101, 2022, 4568, 3115, 4343,\n",
       "       3116, 2208, 4125, 4070, 3194, 2533, 2758, 4159, 4879, 2500, 2298,\n",
       "       2178, 3240, 2671, 4455, 4650, 3160, 3250, 3342, 3523, 2350, 2785,\n",
       "       3995, 3351, 3000, 2462, 3041, 3260, 2534, 4565, 3618, 2780, 2167,\n",
       "       3279, 4106, 4700, 2799, 4564, 4860, 3922, 2256, 4031, 2779, 4660,\n",
       "       4073, 3067, 2843, 3027, 3066, 2572, 2128, 4054, 4069, 2343, 3377,\n",
       "       3065, 2295, 4270, 2316, 3179, 3933, 4883, 2081, 2471, 3053, 4285,\n",
       "       2546, 4275, 3132, 3042, 3085, 2071, 2821, 4390, 3793, 3128, 2869,\n",
       "       3616, 4750, 3059, 3153, 2130, 3213, 3862, 3610, 4102, 2060, 3786,\n",
       "       2019, 2191, 2713, 3094, 3122, 2850, 4272, 3051, 3634, 3803, 4515,\n",
       "       2700, 3123, 2294, 3978, 3305, 2198, 2778, 4730, 4155, 4000, 4225,\n",
       "       3556, 4575, 4715, 2429, 4555, 2132, 2045, 2024, 4076, 3321, 3193,\n",
       "       2390, 2806, 2257, 4172, 3078, 3104, 3860, 2658, 3052, 4163, 2590,\n",
       "       2550, 2877, 4311, 3089], dtype=object)"
      ]
     },
     "execution_count": 36,
     "metadata": {},
     "output_type": "execute_result"
    }
   ],
   "source": [
    "df.postcode.unique()"
   ]
  },
  {
   "cell_type": "code",
   "execution_count": 37,
   "metadata": {},
   "outputs": [
    {
     "data": {
      "text/plain": [
       "2170    31\n",
       "2145    30\n",
       "2155    30\n",
       "2153    29\n",
       "2560    26\n",
       "        ..\n",
       "2469     1\n",
       "4155     1\n",
       "2474     1\n",
       "3093     1\n",
       "3094     1\n",
       "Name: postcode, Length: 873, dtype: int64"
      ]
     },
     "execution_count": 37,
     "metadata": {},
     "output_type": "execute_result"
    }
   ],
   "source": [
    "df['postcode'].value_counts()"
   ]
  },
  {
   "cell_type": "code",
   "execution_count": 38,
   "metadata": {},
   "outputs": [
    {
     "data": {
      "text/plain": [
       "array(['New South Wales', 'QLD', 'VIC', 'NSW', 'Victoria'], dtype=object)"
      ]
     },
     "execution_count": 38,
     "metadata": {},
     "output_type": "execute_result"
    }
   ],
   "source": [
    "df.state.unique()"
   ]
  },
  {
   "cell_type": "code",
   "execution_count": 39,
   "metadata": {},
   "outputs": [
    {
     "data": {
      "text/plain": [
       "NSW                2054\n",
       "VIC                 939\n",
       "QLD                 838\n",
       "New South Wales      86\n",
       "Victoria             82\n",
       "Name: state, dtype: int64"
      ]
     },
     "execution_count": 39,
     "metadata": {},
     "output_type": "execute_result"
    }
   ],
   "source": [
    "df['state'].value_counts()"
   ]
  },
  {
   "cell_type": "code",
   "execution_count": 40,
   "metadata": {},
   "outputs": [
    {
     "data": {
      "text/plain": [
       "array(['Australia'], dtype=object)"
      ]
     },
     "execution_count": 40,
     "metadata": {},
     "output_type": "execute_result"
    }
   ],
   "source": [
    "df.country.unique()"
   ]
  },
  {
   "cell_type": "code",
   "execution_count": 41,
   "metadata": {},
   "outputs": [
    {
     "data": {
      "text/plain": [
       "array([10, 9, 4, 12, 8, 6, 7, 3, 5, 11, 1, 2], dtype=object)"
      ]
     },
     "execution_count": 41,
     "metadata": {},
     "output_type": "execute_result"
    }
   ],
   "source": [
    "df.property_valuation.unique()"
   ]
  },
  {
   "cell_type": "code",
   "execution_count": 42,
   "metadata": {},
   "outputs": [
    {
     "data": {
      "text/plain": [
       "9     647\n",
       "8     646\n",
       "10    577\n",
       "7     493\n",
       "11    281\n",
       "6     238\n",
       "5     225\n",
       "4     214\n",
       "12    195\n",
       "3     186\n",
       "1     154\n",
       "2     143\n",
       "Name: property_valuation, dtype: int64"
      ]
     },
     "execution_count": 42,
     "metadata": {},
     "output_type": "execute_result"
    }
   ],
   "source": [
    "df['property_valuation'].value_counts()"
   ]
  },
  {
   "cell_type": "code",
   "execution_count": 43,
   "metadata": {},
   "outputs": [
    {
     "data": {
      "text/plain": [
       "<matplotlib.axes._subplots.AxesSubplot at 0x271c7885f88>"
      ]
     },
     "execution_count": 43,
     "metadata": {},
     "output_type": "execute_result"
    },
    {
     "data": {
      "image/png": "[encoded data removed]",
      "text/plain": [
       "<Figure size 1080x360 with 1 Axes>"
      ]
     },
     "metadata": {},
     "output_type": "display_data"
    }
   ],
   "source": [
    "sns.countplot(x = \"state\", data = df)"
   ]
  },
  {
   "cell_type": "code",
   "execution_count": 44,
   "metadata": {},
   "outputs": [
    {
     "data": {
      "text/plain": [
       "<matplotlib.axes._subplots.AxesSubplot at 0x271c954fa08>"
      ]
     },
     "execution_count": 44,
     "metadata": {},
     "output_type": "execute_result"
    },
    {
     "data": {
      "image/png": "[encoded data removed]",
      "text/plain": [
       "<Figure size 1080x360 with 1 Axes>"
      ]
     },
     "metadata": {},
     "output_type": "display_data"
    }
   ],
   "source": [
    "sns.countplot(x = \"property_valuation\", data = df)"
   ]
  },
  {
   "cell_type": "markdown",
   "metadata": {},
   "source": [
    "This dataset is the cleanest with no Null Values and all the values have been collected wonderfully with no outliers. This dataset can be easily used without any need for Feature Engineering."
   ]
  },
  {
   "cell_type": "markdown",
   "metadata": {},
   "source": [
    "The values are having \n",
    "\n",
    "1.) Good accurate values with column specified values.\n",
    "\n",
    "2.) The values are consistent in their respective columns with proper feed.\n",
    "\n",
    "3.) The values are up to date from the year they are collected and are valid for that year.\n",
    "\n",
    "4.) Relevant values related to the customers are present in the field with no extra values that take up unecessary space.\n",
    "\n",
    "5.) Valid values are present inside the columns which makes the dataset suitbale for usage with a brief editing.\n",
    "\n",
    "6.) Unique valuesa are present in the dataframe as showned above."
   ]
  },
  {
   "cell_type": "code",
   "execution_count": null,
   "metadata": {},
   "outputs": [],
   "source": []
  }
 ],
 "metadata": {
  "kernelspec": {
   "display_name": "Python 3",
   "language": "python",
   "name": "python3"
  },
  "language_info": {
   "codemirror_mode": {
    "name": "ipython",
    "version": 3
   },
   "file_extension": ".py",
   "mimetype": "text/x-python",
   "name": "python",
   "nbconvert_exporter": "python",
   "pygments_lexer": "ipython3",
   "version": "3.7.4"
  }
 },
 "nbformat": 4,
 "nbformat_minor": 2
}
