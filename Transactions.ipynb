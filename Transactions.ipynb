{
 "cells": [
  {
   "cell_type": "code",
   "execution_count": 92,
   "metadata": {},
   "outputs": [],
   "source": [
    "import pandas as pd\n",
    "import matplotlib.pyplot as plt\n",
    "import seaborn as sns\n",
    "%matplotlib inline"
   ]
  },
  {
   "cell_type": "code",
   "execution_count": 93,
   "metadata": {},
   "outputs": [],
   "source": [
    "df = pd.read_excel('KPMG.xlsx', sheet_name = 'Transactions')"
   ]
  },
  {
   "cell_type": "code",
   "execution_count": 94,
   "metadata": {},
   "outputs": [
    {
     "data": {
      "text/html": [
       "<div>\n",
       "<style scoped>\n",
       "    .dataframe tbody tr th:only-of-type {\n",
       "        vertical-align: middle;\n",
       "    }\n",
       "\n",
       "    .dataframe tbody tr th {\n",
       "        vertical-align: top;\n",
       "    }\n",
       "\n",
       "    .dataframe thead th {\n",
       "        text-align: right;\n",
       "    }\n",
       "</style>\n",
       "<table border=\"1\" class=\"dataframe\">\n",
       "  <thead>\n",
       "    <tr style=\"text-align: right;\">\n",
       "      <th></th>\n",
       "      <th>Note: The data and information in this document is reflective of a hypothetical situation and client. This document is to be used for KPMG Virtual Internship purposes only.</th>\n",
       "      <th>Unnamed: 1</th>\n",
       "      <th>Unnamed: 2</th>\n",
       "      <th>Unnamed: 3</th>\n",
       "      <th>Unnamed: 4</th>\n",
       "      <th>Unnamed: 5</th>\n",
       "      <th>Unnamed: 6</th>\n",
       "      <th>Unnamed: 7</th>\n",
       "      <th>Unnamed: 8</th>\n",
       "      <th>Unnamed: 9</th>\n",
       "      <th>Unnamed: 10</th>\n",
       "      <th>Unnamed: 11</th>\n",
       "      <th>Unnamed: 12</th>\n",
       "    </tr>\n",
       "  </thead>\n",
       "  <tbody>\n",
       "    <tr>\n",
       "      <td>0</td>\n",
       "      <td>transaction_id</td>\n",
       "      <td>product_id</td>\n",
       "      <td>customer_id</td>\n",
       "      <td>transaction_date</td>\n",
       "      <td>online_order</td>\n",
       "      <td>order_status</td>\n",
       "      <td>brand</td>\n",
       "      <td>product_line</td>\n",
       "      <td>product_class</td>\n",
       "      <td>product_size</td>\n",
       "      <td>list_price</td>\n",
       "      <td>standard_cost</td>\n",
       "      <td>product_first_sold_date</td>\n",
       "    </tr>\n",
       "    <tr>\n",
       "      <td>1</td>\n",
       "      <td>1</td>\n",
       "      <td>2</td>\n",
       "      <td>2950</td>\n",
       "      <td>2017-02-25 00:00:00</td>\n",
       "      <td>False</td>\n",
       "      <td>Approved</td>\n",
       "      <td>Solex</td>\n",
       "      <td>Standard</td>\n",
       "      <td>medium</td>\n",
       "      <td>medium</td>\n",
       "      <td>71.49</td>\n",
       "      <td>53.62</td>\n",
       "      <td>41245</td>\n",
       "    </tr>\n",
       "    <tr>\n",
       "      <td>2</td>\n",
       "      <td>2</td>\n",
       "      <td>3</td>\n",
       "      <td>3120</td>\n",
       "      <td>2017-05-21 00:00:00</td>\n",
       "      <td>True</td>\n",
       "      <td>Approved</td>\n",
       "      <td>Trek Bicycles</td>\n",
       "      <td>Standard</td>\n",
       "      <td>medium</td>\n",
       "      <td>large</td>\n",
       "      <td>2091.47</td>\n",
       "      <td>388.92</td>\n",
       "      <td>41701</td>\n",
       "    </tr>\n",
       "    <tr>\n",
       "      <td>3</td>\n",
       "      <td>3</td>\n",
       "      <td>37</td>\n",
       "      <td>402</td>\n",
       "      <td>2017-10-16 00:00:00</td>\n",
       "      <td>False</td>\n",
       "      <td>Approved</td>\n",
       "      <td>OHM Cycles</td>\n",
       "      <td>Standard</td>\n",
       "      <td>low</td>\n",
       "      <td>medium</td>\n",
       "      <td>1793.43</td>\n",
       "      <td>248.82</td>\n",
       "      <td>36361</td>\n",
       "    </tr>\n",
       "    <tr>\n",
       "      <td>4</td>\n",
       "      <td>4</td>\n",
       "      <td>88</td>\n",
       "      <td>3135</td>\n",
       "      <td>2017-08-31 00:00:00</td>\n",
       "      <td>False</td>\n",
       "      <td>Approved</td>\n",
       "      <td>Norco Bicycles</td>\n",
       "      <td>Standard</td>\n",
       "      <td>medium</td>\n",
       "      <td>medium</td>\n",
       "      <td>1198.46</td>\n",
       "      <td>381.1</td>\n",
       "      <td>36145</td>\n",
       "    </tr>\n",
       "  </tbody>\n",
       "</table>\n",
       "</div>"
      ],
      "text/plain": [
       "  Note: The data and information in this document is reflective of a hypothetical situation and client. This document is to be used for KPMG Virtual Internship purposes only.   \\\n",
       "0                                     transaction_id                                                                                                                              \n",
       "1                                                  1                                                                                                                              \n",
       "2                                                  2                                                                                                                              \n",
       "3                                                  3                                                                                                                              \n",
       "4                                                  4                                                                                                                              \n",
       "\n",
       "   Unnamed: 1   Unnamed: 2           Unnamed: 3    Unnamed: 4    Unnamed: 5  \\\n",
       "0  product_id  customer_id     transaction_date  online_order  order_status   \n",
       "1           2         2950  2017-02-25 00:00:00         False      Approved   \n",
       "2           3         3120  2017-05-21 00:00:00          True      Approved   \n",
       "3          37          402  2017-10-16 00:00:00         False      Approved   \n",
       "4          88         3135  2017-08-31 00:00:00         False      Approved   \n",
       "\n",
       "       Unnamed: 6    Unnamed: 7     Unnamed: 8    Unnamed: 9 Unnamed: 10  \\\n",
       "0           brand  product_line  product_class  product_size  list_price   \n",
       "1           Solex      Standard         medium        medium       71.49   \n",
       "2   Trek Bicycles      Standard         medium         large     2091.47   \n",
       "3      OHM Cycles      Standard            low        medium     1793.43   \n",
       "4  Norco Bicycles      Standard         medium        medium     1198.46   \n",
       "\n",
       "     Unnamed: 11              Unnamed: 12  \n",
       "0  standard_cost  product_first_sold_date  \n",
       "1          53.62                    41245  \n",
       "2         388.92                    41701  \n",
       "3         248.82                    36361  \n",
       "4          381.1                    36145  "
      ]
     },
     "execution_count": 94,
     "metadata": {},
     "output_type": "execute_result"
    }
   ],
   "source": [
    "df.head()"
   ]
  },
  {
   "cell_type": "markdown",
   "metadata": {},
   "source": [
    "# Converting Column headings into appropriate names"
   ]
  },
  {
   "cell_type": "code",
   "execution_count": 95,
   "metadata": {},
   "outputs": [],
   "source": [
    "df_new = df.rename(columns={'Unnamed: 1' : 'product_id','Unnamed: 2':'customer_id','Unnamed: 3':'transaction_date','Unnamed: 4':'online_order',\n",
    "                           'Unnamed: 5':'order_status','Unnamed: 6':'brand','Unnamed: 7':'product_line','Unnamed: 8':'product_class',\n",
    "                           'Unnamed: 9':'product_size','Unnamed: 10':'list_price','Unnamed: 11':'standard_cost','Unnamed: 12':'product_first_sold_date'})"
   ]
  },
  {
   "cell_type": "code",
   "execution_count": 96,
   "metadata": {},
   "outputs": [],
   "source": [
    "df_new = df_new.rename(columns = {'Note: The data and information in this document is reflective of a hypothetical situation and client. This document is to be used for KPMG Virtual Internship purposes only. ':'transaction_id'})\n"
   ]
  },
  {
   "cell_type": "code",
   "execution_count": 97,
   "metadata": {},
   "outputs": [],
   "source": [
    "df_new.drop(df_new.index[0],inplace = True)"
   ]
  },
  {
   "cell_type": "code",
   "execution_count": 98,
   "metadata": {},
   "outputs": [
    {
     "data": {
      "text/html": [
       "<div>\n",
       "<style scoped>\n",
       "    .dataframe tbody tr th:only-of-type {\n",
       "        vertical-align: middle;\n",
       "    }\n",
       "\n",
       "    .dataframe tbody tr th {\n",
       "        vertical-align: top;\n",
       "    }\n",
       "\n",
       "    .dataframe thead th {\n",
       "        text-align: right;\n",
       "    }\n",
       "</style>\n",
       "<table border=\"1\" class=\"dataframe\">\n",
       "  <thead>\n",
       "    <tr style=\"text-align: right;\">\n",
       "      <th></th>\n",
       "      <th>transaction_id</th>\n",
       "      <th>product_id</th>\n",
       "      <th>customer_id</th>\n",
       "      <th>transaction_date</th>\n",
       "      <th>online_order</th>\n",
       "      <th>order_status</th>\n",
       "      <th>brand</th>\n",
       "      <th>product_line</th>\n",
       "      <th>product_class</th>\n",
       "      <th>product_size</th>\n",
       "      <th>list_price</th>\n",
       "      <th>standard_cost</th>\n",
       "      <th>product_first_sold_date</th>\n",
       "    </tr>\n",
       "  </thead>\n",
       "  <tbody>\n",
       "    <tr>\n",
       "      <td>1</td>\n",
       "      <td>1</td>\n",
       "      <td>2</td>\n",
       "      <td>2950</td>\n",
       "      <td>2017-02-25 00:00:00</td>\n",
       "      <td>False</td>\n",
       "      <td>Approved</td>\n",
       "      <td>Solex</td>\n",
       "      <td>Standard</td>\n",
       "      <td>medium</td>\n",
       "      <td>medium</td>\n",
       "      <td>71.49</td>\n",
       "      <td>53.62</td>\n",
       "      <td>41245</td>\n",
       "    </tr>\n",
       "    <tr>\n",
       "      <td>2</td>\n",
       "      <td>2</td>\n",
       "      <td>3</td>\n",
       "      <td>3120</td>\n",
       "      <td>2017-05-21 00:00:00</td>\n",
       "      <td>True</td>\n",
       "      <td>Approved</td>\n",
       "      <td>Trek Bicycles</td>\n",
       "      <td>Standard</td>\n",
       "      <td>medium</td>\n",
       "      <td>large</td>\n",
       "      <td>2091.47</td>\n",
       "      <td>388.92</td>\n",
       "      <td>41701</td>\n",
       "    </tr>\n",
       "    <tr>\n",
       "      <td>3</td>\n",
       "      <td>3</td>\n",
       "      <td>37</td>\n",
       "      <td>402</td>\n",
       "      <td>2017-10-16 00:00:00</td>\n",
       "      <td>False</td>\n",
       "      <td>Approved</td>\n",
       "      <td>OHM Cycles</td>\n",
       "      <td>Standard</td>\n",
       "      <td>low</td>\n",
       "      <td>medium</td>\n",
       "      <td>1793.43</td>\n",
       "      <td>248.82</td>\n",
       "      <td>36361</td>\n",
       "    </tr>\n",
       "    <tr>\n",
       "      <td>4</td>\n",
       "      <td>4</td>\n",
       "      <td>88</td>\n",
       "      <td>3135</td>\n",
       "      <td>2017-08-31 00:00:00</td>\n",
       "      <td>False</td>\n",
       "      <td>Approved</td>\n",
       "      <td>Norco Bicycles</td>\n",
       "      <td>Standard</td>\n",
       "      <td>medium</td>\n",
       "      <td>medium</td>\n",
       "      <td>1198.46</td>\n",
       "      <td>381.1</td>\n",
       "      <td>36145</td>\n",
       "    </tr>\n",
       "    <tr>\n",
       "      <td>5</td>\n",
       "      <td>5</td>\n",
       "      <td>78</td>\n",
       "      <td>787</td>\n",
       "      <td>2017-10-01 00:00:00</td>\n",
       "      <td>True</td>\n",
       "      <td>Approved</td>\n",
       "      <td>Giant Bicycles</td>\n",
       "      <td>Standard</td>\n",
       "      <td>medium</td>\n",
       "      <td>large</td>\n",
       "      <td>1765.3</td>\n",
       "      <td>709.48</td>\n",
       "      <td>42226</td>\n",
       "    </tr>\n",
       "  </tbody>\n",
       "</table>\n",
       "</div>"
      ],
      "text/plain": [
       "  transaction_id product_id customer_id     transaction_date online_order  \\\n",
       "1              1          2        2950  2017-02-25 00:00:00        False   \n",
       "2              2          3        3120  2017-05-21 00:00:00         True   \n",
       "3              3         37         402  2017-10-16 00:00:00        False   \n",
       "4              4         88        3135  2017-08-31 00:00:00        False   \n",
       "5              5         78         787  2017-10-01 00:00:00         True   \n",
       "\n",
       "  order_status           brand product_line product_class product_size  \\\n",
       "1     Approved           Solex     Standard        medium       medium   \n",
       "2     Approved   Trek Bicycles     Standard        medium        large   \n",
       "3     Approved      OHM Cycles     Standard           low       medium   \n",
       "4     Approved  Norco Bicycles     Standard        medium       medium   \n",
       "5     Approved  Giant Bicycles     Standard        medium        large   \n",
       "\n",
       "  list_price standard_cost product_first_sold_date  \n",
       "1      71.49         53.62                   41245  \n",
       "2    2091.47        388.92                   41701  \n",
       "3    1793.43        248.82                   36361  \n",
       "4    1198.46         381.1                   36145  \n",
       "5     1765.3        709.48                   42226  "
      ]
     },
     "execution_count": 98,
     "metadata": {},
     "output_type": "execute_result"
    }
   ],
   "source": [
    "df_new.head()"
   ]
  },
  {
   "cell_type": "code",
   "execution_count": 99,
   "metadata": {},
   "outputs": [
    {
     "data": {
      "text/plain": [
       "(20000, 13)"
      ]
     },
     "execution_count": 99,
     "metadata": {},
     "output_type": "execute_result"
    }
   ],
   "source": [
    "df_new.shape"
   ]
  },
  {
   "cell_type": "markdown",
   "metadata": {},
   "source": [
    "# Checking for COMPLETENESS Dimension"
   ]
  },
  {
   "cell_type": "code",
   "execution_count": 159,
   "metadata": {
    "scrolled": true
   },
   "outputs": [
    {
     "data": {
      "text/plain": [
       "transaction_id               0\n",
       "product_id                   0\n",
       "customer_id                  0\n",
       "transaction_date             0\n",
       "online_order               360\n",
       "order_status                 0\n",
       "brand                      197\n",
       "product_line               197\n",
       "product_class              197\n",
       "product_size               197\n",
       "list_price                   0\n",
       "standard_cost              197\n",
       "product_first_sold_date    197\n",
       "dtype: int64"
      ]
     },
     "execution_count": 159,
     "metadata": {},
     "output_type": "execute_result"
    }
   ],
   "source": [
    "df_new.isnull().sum()"
   ]
  },
  {
   "cell_type": "code",
   "execution_count": 169,
   "metadata": {},
   "outputs": [
    {
     "data": {
      "text/plain": [
       "<matplotlib.axes._subplots.AxesSubplot at 0x25c1cb73b08>"
      ]
     },
     "execution_count": 169,
     "metadata": {},
     "output_type": "execute_result"
    },
    {
     "data": {
      "image/png": "[encoded data removed]",
      "text/plain": [
       "<Figure size 720x360 with 2 Axes>"
      ]
     },
     "metadata": {},
     "output_type": "display_data"
    }
   ],
   "source": [
    "sns.set(rc={'figure.figsize':(10,5)})\n",
    "sns.heatmap(df_new.isnull(),yticklabels=False)"
   ]
  },
  {
   "cell_type": "markdown",
   "metadata": {},
   "source": [
    "As we can see, there are numerous empty values present in the dataset in sheet 1. The heatmap shows where the values are null."
   ]
  },
  {
   "cell_type": "markdown",
   "metadata": {},
   "source": [
    "# Checking for ACCURACY, CONSISTENCY, CURRENCY, RELEVANCY, VALIDITY "
   ]
  },
  {
   "cell_type": "code",
   "execution_count": 101,
   "metadata": {},
   "outputs": [
    {
     "data": {
      "text/plain": [
       "array([1, 2, 3, ..., 19998, 19999, 20000], dtype=object)"
      ]
     },
     "execution_count": 101,
     "metadata": {},
     "output_type": "execute_result"
    }
   ],
   "source": [
    "df_new.transaction_id.unique()"
   ]
  },
  {
   "cell_type": "code",
   "execution_count": 102,
   "metadata": {},
   "outputs": [
    {
     "data": {
      "text/plain": [
       "(20000,)"
      ]
     },
     "execution_count": 102,
     "metadata": {},
     "output_type": "execute_result"
    }
   ],
   "source": [
    "df_new.transaction_id.unique().shape"
   ]
  },
  {
   "cell_type": "markdown",
   "metadata": {},
   "source": [
    "As seen the transaction ID's are consistent."
   ]
  },
  {
   "cell_type": "code",
   "execution_count": 103,
   "metadata": {},
   "outputs": [
    {
     "data": {
      "text/plain": [
       "array([2, 3, 37, 88, 78, 25, 22, 15, 67, 12, 5, 61, 35, 16, 79, 33, 54,\n",
       "       27, 82, 89, 64, 19, 72, 91, 1, 99, 0, 92, 14, 44, 76, 46, 55, 66,\n",
       "       81, 86, 32, 77, 96, 6, 47, 94, 93, 60, 28, 4, 38, 56, 58, 50, 80,\n",
       "       87, 84, 21, 31, 62, 17, 73, 45, 49, 95, 18, 70, 26, 39, 36, 98, 75,\n",
       "       42, 20, 24, 53, 65, 29, 11, 10, 7, 41, 9, 69, 90, 97, 100, 74, 71,\n",
       "       34, 57, 23, 51, 59, 63, 40, 8, 13, 30, 48, 68, 83, 43, 52, 85],\n",
       "      dtype=object)"
      ]
     },
     "execution_count": 103,
     "metadata": {},
     "output_type": "execute_result"
    }
   ],
   "source": [
    "df_new.product_id.unique()"
   ]
  },
  {
   "cell_type": "markdown",
   "metadata": {},
   "source": [
    "This shows all the Unique ID's present."
   ]
  },
  {
   "cell_type": "code",
   "execution_count": 104,
   "metadata": {},
   "outputs": [
    {
     "data": {
      "text/plain": [
       "array([2950, 3120, 402, ..., 130, 2789, 3446], dtype=object)"
      ]
     },
     "execution_count": 104,
     "metadata": {},
     "output_type": "execute_result"
    }
   ],
   "source": [
    "df_new.customer_id.unique()"
   ]
  },
  {
   "cell_type": "code",
   "execution_count": 105,
   "metadata": {},
   "outputs": [
    {
     "data": {
      "text/plain": [
       "(3494,)"
      ]
     },
     "execution_count": 105,
     "metadata": {},
     "output_type": "execute_result"
    }
   ],
   "source": [
    "df_new.customer_id.unique().shape"
   ]
  },
  {
   "cell_type": "markdown",
   "metadata": {},
   "source": [
    "This shows the unique Customer's ID"
   ]
  },
  {
   "cell_type": "code",
   "execution_count": 106,
   "metadata": {},
   "outputs": [
    {
     "data": {
      "text/plain": [
       "array([datetime.datetime(2017, 2, 25, 0, 0),\n",
       "       datetime.datetime(2017, 5, 21, 0, 0),\n",
       "       datetime.datetime(2017, 10, 16, 0, 0),\n",
       "       datetime.datetime(2017, 8, 31, 0, 0),\n",
       "       datetime.datetime(2017, 10, 1, 0, 0),\n",
       "       datetime.datetime(2017, 3, 8, 0, 0),\n",
       "       datetime.datetime(2017, 4, 21, 0, 0),\n",
       "       datetime.datetime(2017, 7, 15, 0, 0),\n",
       "       datetime.datetime(2017, 8, 10, 0, 0),\n",
       "       datetime.datetime(2017, 8, 30, 0, 0),\n",
       "       datetime.datetime(2017, 1, 17, 0, 0),\n",
       "       datetime.datetime(2017, 1, 5, 0, 0),\n",
       "       datetime.datetime(2017, 2, 26, 0, 0),\n",
       "       datetime.datetime(2017, 9, 10, 0, 0),\n",
       "       datetime.datetime(2017, 6, 11, 0, 0),\n",
       "       datetime.datetime(2017, 10, 10, 0, 0),\n",
       "       datetime.datetime(2017, 4, 3, 0, 0),\n",
       "       datetime.datetime(2017, 6, 2, 0, 0),\n",
       "       datetime.datetime(2017, 4, 6, 0, 0),\n",
       "       datetime.datetime(2017, 1, 28, 0, 0),\n",
       "       datetime.datetime(2017, 10, 9, 0, 0),\n",
       "       datetime.datetime(2017, 6, 29, 0, 0),\n",
       "       datetime.datetime(2017, 4, 8, 0, 0),\n",
       "       datetime.datetime(2017, 10, 18, 0, 0),\n",
       "       datetime.datetime(2017, 1, 10, 0, 0),\n",
       "       datetime.datetime(2017, 4, 11, 0, 0),\n",
       "       datetime.datetime(2017, 12, 23, 0, 0),\n",
       "       datetime.datetime(2017, 10, 13, 0, 0),\n",
       "       datetime.datetime(2017, 3, 15, 0, 0),\n",
       "       datetime.datetime(2017, 9, 5, 0, 0),\n",
       "       datetime.datetime(2017, 2, 18, 0, 0),\n",
       "       datetime.datetime(2017, 3, 20, 0, 0),\n",
       "       datetime.datetime(2017, 2, 28, 0, 0),\n",
       "       datetime.datetime(2017, 8, 20, 0, 0),\n",
       "       datetime.datetime(2017, 7, 7, 0, 0),\n",
       "       datetime.datetime(2017, 1, 9, 0, 0),\n",
       "       datetime.datetime(2017, 12, 6, 0, 0),\n",
       "       datetime.datetime(2017, 9, 12, 0, 0),\n",
       "       datetime.datetime(2017, 11, 28, 0, 0),\n",
       "       datetime.datetime(2017, 5, 8, 0, 0),\n",
       "       datetime.datetime(2017, 5, 14, 0, 0),\n",
       "       datetime.datetime(2017, 3, 17, 0, 0),\n",
       "       datetime.datetime(2017, 12, 22, 0, 0),\n",
       "       datetime.datetime(2017, 6, 7, 0, 0),\n",
       "       datetime.datetime(2017, 6, 20, 0, 0),\n",
       "       datetime.datetime(2017, 5, 7, 0, 0),\n",
       "       datetime.datetime(2017, 6, 10, 0, 0),\n",
       "       datetime.datetime(2017, 6, 17, 0, 0),\n",
       "       datetime.datetime(2017, 5, 10, 0, 0),\n",
       "       datetime.datetime(2017, 3, 24, 0, 0),\n",
       "       datetime.datetime(2017, 11, 27, 0, 0),\n",
       "       datetime.datetime(2017, 12, 21, 0, 0),\n",
       "       datetime.datetime(2017, 2, 9, 0, 0),\n",
       "       datetime.datetime(2017, 9, 18, 0, 0),\n",
       "       datetime.datetime(2017, 11, 14, 0, 0),\n",
       "       datetime.datetime(2017, 2, 15, 0, 0),\n",
       "       datetime.datetime(2017, 12, 18, 0, 0),\n",
       "       datetime.datetime(2017, 2, 24, 0, 0),\n",
       "       datetime.datetime(2017, 12, 17, 0, 0),\n",
       "       datetime.datetime(2017, 7, 8, 0, 0),\n",
       "       datetime.datetime(2017, 5, 16, 0, 0),\n",
       "       datetime.datetime(2017, 2, 23, 0, 0),\n",
       "       datetime.datetime(2017, 7, 3, 0, 0),\n",
       "       datetime.datetime(2017, 9, 30, 0, 0),\n",
       "       datetime.datetime(2017, 10, 21, 0, 0),\n",
       "       datetime.datetime(2017, 5, 6, 0, 0),\n",
       "       datetime.datetime(2017, 1, 3, 0, 0),\n",
       "       datetime.datetime(2017, 5, 9, 0, 0),\n",
       "       datetime.datetime(2017, 7, 23, 0, 0),\n",
       "       datetime.datetime(2017, 1, 21, 0, 0),\n",
       "       datetime.datetime(2017, 3, 10, 0, 0),\n",
       "       datetime.datetime(2017, 11, 7, 0, 0),\n",
       "       datetime.datetime(2017, 12, 16, 0, 0),\n",
       "       datetime.datetime(2017, 10, 7, 0, 0),\n",
       "       datetime.datetime(2017, 4, 27, 0, 0),\n",
       "       datetime.datetime(2017, 4, 1, 0, 0),\n",
       "       datetime.datetime(2017, 11, 2, 0, 0),\n",
       "       datetime.datetime(2017, 2, 13, 0, 0),\n",
       "       datetime.datetime(2017, 7, 19, 0, 0),\n",
       "       datetime.datetime(2017, 5, 23, 0, 0),\n",
       "       datetime.datetime(2017, 8, 6, 0, 0),\n",
       "       datetime.datetime(2017, 4, 4, 0, 0),\n",
       "       datetime.datetime(2017, 8, 15, 0, 0),\n",
       "       datetime.datetime(2017, 4, 15, 0, 0),\n",
       "       datetime.datetime(2017, 7, 25, 0, 0),\n",
       "       datetime.datetime(2017, 2, 21, 0, 0),\n",
       "       datetime.datetime(2017, 5, 31, 0, 0),\n",
       "       datetime.datetime(2017, 6, 23, 0, 0),\n",
       "       datetime.datetime(2017, 3, 26, 0, 0),\n",
       "       datetime.datetime(2017, 7, 31, 0, 0),\n",
       "       datetime.datetime(2017, 7, 27, 0, 0),\n",
       "       datetime.datetime(2017, 4, 14, 0, 0),\n",
       "       datetime.datetime(2017, 11, 12, 0, 0),\n",
       "       datetime.datetime(2017, 10, 26, 0, 0),\n",
       "       datetime.datetime(2017, 10, 11, 0, 0),\n",
       "       datetime.datetime(2017, 3, 27, 0, 0),\n",
       "       datetime.datetime(2017, 11, 4, 0, 0),\n",
       "       datetime.datetime(2017, 10, 24, 0, 0),\n",
       "       datetime.datetime(2017, 5, 1, 0, 0),\n",
       "       datetime.datetime(2017, 11, 21, 0, 0),\n",
       "       datetime.datetime(2017, 3, 21, 0, 0),\n",
       "       datetime.datetime(2017, 2, 20, 0, 0),\n",
       "       datetime.datetime(2017, 6, 16, 0, 0),\n",
       "       datetime.datetime(2017, 12, 4, 0, 0),\n",
       "       datetime.datetime(2017, 12, 1, 0, 0),\n",
       "       datetime.datetime(2017, 3, 5, 0, 0),\n",
       "       datetime.datetime(2017, 3, 16, 0, 0),\n",
       "       datetime.datetime(2017, 6, 5, 0, 0),\n",
       "       datetime.datetime(2017, 9, 4, 0, 0),\n",
       "       datetime.datetime(2017, 1, 18, 0, 0),\n",
       "       datetime.datetime(2017, 9, 28, 0, 0),\n",
       "       datetime.datetime(2017, 9, 2, 0, 0),\n",
       "       datetime.datetime(2017, 10, 17, 0, 0),\n",
       "       datetime.datetime(2017, 4, 25, 0, 0),\n",
       "       datetime.datetime(2017, 9, 23, 0, 0),\n",
       "       datetime.datetime(2017, 8, 2, 0, 0),\n",
       "       datetime.datetime(2017, 3, 25, 0, 0),\n",
       "       datetime.datetime(2017, 1, 1, 0, 0),\n",
       "       datetime.datetime(2017, 12, 25, 0, 0),\n",
       "       datetime.datetime(2017, 1, 26, 0, 0),\n",
       "       datetime.datetime(2017, 12, 20, 0, 0),\n",
       "       datetime.datetime(2017, 1, 13, 0, 0),\n",
       "       datetime.datetime(2017, 11, 11, 0, 0),\n",
       "       datetime.datetime(2017, 8, 19, 0, 0),\n",
       "       datetime.datetime(2017, 8, 22, 0, 0),\n",
       "       datetime.datetime(2017, 9, 15, 0, 0),\n",
       "       datetime.datetime(2017, 3, 1, 0, 0),\n",
       "       datetime.datetime(2017, 8, 16, 0, 0),\n",
       "       datetime.datetime(2017, 8, 27, 0, 0),\n",
       "       datetime.datetime(2017, 7, 10, 0, 0),\n",
       "       datetime.datetime(2017, 12, 11, 0, 0),\n",
       "       datetime.datetime(2017, 5, 20, 0, 0),\n",
       "       datetime.datetime(2017, 7, 30, 0, 0),\n",
       "       datetime.datetime(2017, 10, 25, 0, 0),\n",
       "       datetime.datetime(2017, 4, 26, 0, 0),\n",
       "       datetime.datetime(2017, 2, 2, 0, 0),\n",
       "       datetime.datetime(2017, 5, 2, 0, 0),\n",
       "       datetime.datetime(2017, 10, 22, 0, 0),\n",
       "       datetime.datetime(2017, 11, 16, 0, 0),\n",
       "       datetime.datetime(2017, 3, 30, 0, 0),\n",
       "       datetime.datetime(2017, 4, 13, 0, 0),\n",
       "       datetime.datetime(2017, 1, 31, 0, 0),\n",
       "       datetime.datetime(2017, 3, 18, 0, 0),\n",
       "       datetime.datetime(2017, 1, 7, 0, 0),\n",
       "       datetime.datetime(2017, 7, 5, 0, 0),\n",
       "       datetime.datetime(2017, 11, 19, 0, 0),\n",
       "       datetime.datetime(2017, 11, 8, 0, 0),\n",
       "       datetime.datetime(2017, 7, 24, 0, 0),\n",
       "       datetime.datetime(2017, 1, 15, 0, 0),\n",
       "       datetime.datetime(2017, 1, 12, 0, 0),\n",
       "       datetime.datetime(2017, 6, 30, 0, 0),\n",
       "       datetime.datetime(2017, 6, 22, 0, 0),\n",
       "       datetime.datetime(2017, 12, 27, 0, 0),\n",
       "       datetime.datetime(2017, 6, 8, 0, 0),\n",
       "       datetime.datetime(2017, 7, 29, 0, 0),\n",
       "       datetime.datetime(2017, 5, 27, 0, 0),\n",
       "       datetime.datetime(2017, 5, 5, 0, 0),\n",
       "       datetime.datetime(2017, 9, 9, 0, 0),\n",
       "       datetime.datetime(2017, 9, 22, 0, 0),\n",
       "       datetime.datetime(2017, 4, 12, 0, 0),\n",
       "       datetime.datetime(2017, 12, 14, 0, 0),\n",
       "       datetime.datetime(2017, 3, 22, 0, 0),\n",
       "       datetime.datetime(2017, 11, 29, 0, 0),\n",
       "       datetime.datetime(2017, 6, 9, 0, 0),\n",
       "       datetime.datetime(2017, 11, 13, 0, 0),\n",
       "       datetime.datetime(2017, 4, 9, 0, 0),\n",
       "       datetime.datetime(2017, 11, 30, 0, 0),\n",
       "       datetime.datetime(2017, 3, 13, 0, 0),\n",
       "       datetime.datetime(2017, 8, 12, 0, 0),\n",
       "       datetime.datetime(2017, 8, 4, 0, 0),\n",
       "       datetime.datetime(2017, 9, 1, 0, 0),\n",
       "       datetime.datetime(2017, 7, 2, 0, 0),\n",
       "       datetime.datetime(2017, 3, 11, 0, 0),\n",
       "       datetime.datetime(2017, 10, 8, 0, 0),\n",
       "       datetime.datetime(2017, 11, 23, 0, 0),\n",
       "       datetime.datetime(2017, 1, 22, 0, 0),\n",
       "       datetime.datetime(2017, 1, 29, 0, 0),\n",
       "       datetime.datetime(2017, 7, 21, 0, 0),\n",
       "       datetime.datetime(2017, 2, 10, 0, 0),\n",
       "       datetime.datetime(2017, 11, 25, 0, 0),\n",
       "       datetime.datetime(2017, 12, 3, 0, 0),\n",
       "       datetime.datetime(2017, 12, 30, 0, 0),\n",
       "       datetime.datetime(2017, 7, 26, 0, 0),\n",
       "       datetime.datetime(2017, 6, 15, 0, 0),\n",
       "       datetime.datetime(2017, 7, 6, 0, 0),\n",
       "       datetime.datetime(2017, 12, 28, 0, 0),\n",
       "       datetime.datetime(2017, 1, 30, 0, 0),\n",
       "       datetime.datetime(2017, 6, 26, 0, 0),\n",
       "       datetime.datetime(2017, 8, 13, 0, 0),\n",
       "       datetime.datetime(2017, 1, 25, 0, 0),\n",
       "       datetime.datetime(2017, 7, 11, 0, 0),\n",
       "       datetime.datetime(2017, 4, 30, 0, 0),\n",
       "       datetime.datetime(2017, 5, 19, 0, 0),\n",
       "       datetime.datetime(2017, 5, 26, 0, 0),\n",
       "       datetime.datetime(2017, 2, 3, 0, 0),\n",
       "       datetime.datetime(2017, 4, 28, 0, 0),\n",
       "       datetime.datetime(2017, 3, 23, 0, 0),\n",
       "       datetime.datetime(2017, 6, 3, 0, 0),\n",
       "       datetime.datetime(2017, 5, 4, 0, 0),\n",
       "       datetime.datetime(2017, 3, 29, 0, 0),\n",
       "       datetime.datetime(2017, 10, 3, 0, 0),\n",
       "       datetime.datetime(2017, 8, 7, 0, 0),\n",
       "       datetime.datetime(2017, 2, 7, 0, 0),\n",
       "       datetime.datetime(2017, 11, 20, 0, 0),\n",
       "       datetime.datetime(2017, 4, 5, 0, 0),\n",
       "       datetime.datetime(2017, 10, 28, 0, 0),\n",
       "       datetime.datetime(2017, 8, 25, 0, 0),\n",
       "       datetime.datetime(2017, 1, 20, 0, 0),\n",
       "       datetime.datetime(2017, 3, 14, 0, 0),\n",
       "       datetime.datetime(2017, 5, 24, 0, 0),\n",
       "       datetime.datetime(2017, 11, 18, 0, 0),\n",
       "       datetime.datetime(2017, 4, 7, 0, 0),\n",
       "       datetime.datetime(2017, 1, 4, 0, 0),\n",
       "       datetime.datetime(2017, 12, 13, 0, 0),\n",
       "       datetime.datetime(2017, 4, 20, 0, 0),\n",
       "       datetime.datetime(2017, 3, 7, 0, 0),\n",
       "       datetime.datetime(2017, 8, 1, 0, 0),\n",
       "       datetime.datetime(2017, 6, 19, 0, 0),\n",
       "       datetime.datetime(2017, 1, 23, 0, 0),\n",
       "       datetime.datetime(2017, 4, 19, 0, 0),\n",
       "       datetime.datetime(2017, 8, 11, 0, 0),\n",
       "       datetime.datetime(2017, 11, 15, 0, 0),\n",
       "       datetime.datetime(2017, 11, 1, 0, 0),\n",
       "       datetime.datetime(2017, 10, 5, 0, 0),\n",
       "       datetime.datetime(2017, 10, 30, 0, 0),\n",
       "       datetime.datetime(2017, 1, 2, 0, 0),\n",
       "       datetime.datetime(2017, 7, 9, 0, 0),\n",
       "       datetime.datetime(2017, 10, 20, 0, 0),\n",
       "       datetime.datetime(2017, 11, 10, 0, 0),\n",
       "       datetime.datetime(2017, 8, 14, 0, 0),\n",
       "       datetime.datetime(2017, 9, 13, 0, 0),\n",
       "       datetime.datetime(2017, 5, 3, 0, 0),\n",
       "       datetime.datetime(2017, 1, 24, 0, 0),\n",
       "       datetime.datetime(2017, 8, 3, 0, 0),\n",
       "       datetime.datetime(2017, 8, 28, 0, 0),\n",
       "       datetime.datetime(2017, 6, 24, 0, 0),\n",
       "       datetime.datetime(2017, 10, 27, 0, 0),\n",
       "       datetime.datetime(2017, 3, 3, 0, 0),\n",
       "       datetime.datetime(2017, 12, 2, 0, 0),\n",
       "       datetime.datetime(2017, 10, 15, 0, 0),\n",
       "       datetime.datetime(2017, 10, 12, 0, 0),\n",
       "       datetime.datetime(2017, 3, 19, 0, 0),\n",
       "       datetime.datetime(2017, 6, 27, 0, 0),\n",
       "       datetime.datetime(2017, 2, 27, 0, 0),\n",
       "       datetime.datetime(2017, 3, 12, 0, 0),\n",
       "       datetime.datetime(2017, 6, 14, 0, 0),\n",
       "       datetime.datetime(2017, 2, 17, 0, 0),\n",
       "       datetime.datetime(2017, 9, 14, 0, 0),\n",
       "       datetime.datetime(2017, 4, 17, 0, 0),\n",
       "       datetime.datetime(2017, 5, 11, 0, 0),\n",
       "       datetime.datetime(2017, 11, 3, 0, 0),\n",
       "       datetime.datetime(2017, 10, 2, 0, 0),\n",
       "       datetime.datetime(2017, 12, 10, 0, 0),\n",
       "       datetime.datetime(2017, 5, 25, 0, 0),\n",
       "       datetime.datetime(2017, 8, 26, 0, 0),\n",
       "       datetime.datetime(2017, 9, 6, 0, 0),\n",
       "       datetime.datetime(2017, 4, 24, 0, 0),\n",
       "       datetime.datetime(2017, 12, 15, 0, 0),\n",
       "       datetime.datetime(2017, 2, 12, 0, 0),\n",
       "       datetime.datetime(2017, 7, 22, 0, 0),\n",
       "       datetime.datetime(2017, 9, 26, 0, 0),\n",
       "       datetime.datetime(2017, 12, 5, 0, 0),\n",
       "       datetime.datetime(2017, 3, 31, 0, 0),\n",
       "       datetime.datetime(2017, 11, 22, 0, 0),\n",
       "       datetime.datetime(2017, 4, 29, 0, 0),\n",
       "       datetime.datetime(2017, 7, 14, 0, 0),\n",
       "       datetime.datetime(2017, 9, 8, 0, 0),\n",
       "       datetime.datetime(2017, 4, 22, 0, 0),\n",
       "       datetime.datetime(2017, 1, 11, 0, 0),\n",
       "       datetime.datetime(2017, 8, 9, 0, 0),\n",
       "       datetime.datetime(2017, 5, 29, 0, 0),\n",
       "       datetime.datetime(2017, 6, 13, 0, 0),\n",
       "       datetime.datetime(2017, 7, 28, 0, 0),\n",
       "       datetime.datetime(2017, 4, 23, 0, 0),\n",
       "       datetime.datetime(2017, 7, 4, 0, 0),\n",
       "       datetime.datetime(2017, 10, 19, 0, 0),\n",
       "       datetime.datetime(2017, 9, 21, 0, 0),\n",
       "       datetime.datetime(2017, 4, 2, 0, 0),\n",
       "       datetime.datetime(2017, 8, 18, 0, 0),\n",
       "       datetime.datetime(2017, 8, 21, 0, 0),\n",
       "       datetime.datetime(2017, 3, 6, 0, 0),\n",
       "       datetime.datetime(2017, 1, 16, 0, 0),\n",
       "       datetime.datetime(2017, 2, 22, 0, 0),\n",
       "       datetime.datetime(2017, 3, 9, 0, 0),\n",
       "       datetime.datetime(2017, 1, 27, 0, 0),\n",
       "       datetime.datetime(2017, 12, 19, 0, 0),\n",
       "       datetime.datetime(2017, 4, 16, 0, 0),\n",
       "       datetime.datetime(2017, 10, 4, 0, 0),\n",
       "       datetime.datetime(2017, 2, 16, 0, 0),\n",
       "       datetime.datetime(2017, 8, 17, 0, 0),\n",
       "       datetime.datetime(2017, 2, 1, 0, 0),\n",
       "       datetime.datetime(2017, 12, 8, 0, 0),\n",
       "       datetime.datetime(2017, 8, 23, 0, 0),\n",
       "       datetime.datetime(2017, 5, 12, 0, 0),\n",
       "       datetime.datetime(2017, 3, 4, 0, 0),\n",
       "       datetime.datetime(2017, 5, 28, 0, 0),\n",
       "       datetime.datetime(2017, 7, 20, 0, 0),\n",
       "       datetime.datetime(2017, 7, 13, 0, 0),\n",
       "       datetime.datetime(2017, 10, 14, 0, 0),\n",
       "       datetime.datetime(2017, 6, 12, 0, 0),\n",
       "       datetime.datetime(2017, 2, 14, 0, 0),\n",
       "       datetime.datetime(2017, 2, 11, 0, 0),\n",
       "       datetime.datetime(2017, 10, 23, 0, 0),\n",
       "       datetime.datetime(2017, 6, 28, 0, 0),\n",
       "       datetime.datetime(2017, 6, 4, 0, 0),\n",
       "       datetime.datetime(2017, 4, 18, 0, 0),\n",
       "       datetime.datetime(2017, 9, 16, 0, 0),\n",
       "       datetime.datetime(2017, 5, 15, 0, 0),\n",
       "       datetime.datetime(2017, 5, 22, 0, 0),\n",
       "       datetime.datetime(2017, 6, 6, 0, 0),\n",
       "       datetime.datetime(2017, 12, 9, 0, 0),\n",
       "       datetime.datetime(2017, 7, 18, 0, 0),\n",
       "       datetime.datetime(2017, 2, 6, 0, 0),\n",
       "       datetime.datetime(2017, 11, 9, 0, 0),\n",
       "       datetime.datetime(2017, 6, 21, 0, 0),\n",
       "       datetime.datetime(2017, 7, 17, 0, 0),\n",
       "       datetime.datetime(2017, 10, 29, 0, 0),\n",
       "       datetime.datetime(2017, 5, 13, 0, 0),\n",
       "       datetime.datetime(2017, 10, 6, 0, 0),\n",
       "       datetime.datetime(2017, 2, 4, 0, 0),\n",
       "       datetime.datetime(2017, 11, 5, 0, 0),\n",
       "       datetime.datetime(2017, 2, 8, 0, 0),\n",
       "       datetime.datetime(2017, 11, 6, 0, 0),\n",
       "       datetime.datetime(2017, 9, 20, 0, 0),\n",
       "       datetime.datetime(2017, 4, 10, 0, 0),\n",
       "       datetime.datetime(2017, 11, 17, 0, 0),\n",
       "       datetime.datetime(2017, 12, 7, 0, 0),\n",
       "       datetime.datetime(2017, 12, 12, 0, 0),\n",
       "       datetime.datetime(2017, 1, 19, 0, 0),\n",
       "       datetime.datetime(2017, 5, 17, 0, 0),\n",
       "       datetime.datetime(2017, 2, 19, 0, 0),\n",
       "       datetime.datetime(2017, 9, 19, 0, 0),\n",
       "       datetime.datetime(2017, 9, 29, 0, 0),\n",
       "       datetime.datetime(2017, 5, 18, 0, 0),\n",
       "       datetime.datetime(2017, 7, 1, 0, 0),\n",
       "       datetime.datetime(2017, 12, 29, 0, 0),\n",
       "       datetime.datetime(2017, 11, 24, 0, 0),\n",
       "       datetime.datetime(2017, 1, 8, 0, 0),\n",
       "       datetime.datetime(2017, 8, 24, 0, 0),\n",
       "       datetime.datetime(2017, 7, 12, 0, 0),\n",
       "       datetime.datetime(2017, 8, 8, 0, 0),\n",
       "       datetime.datetime(2017, 2, 5, 0, 0),\n",
       "       datetime.datetime(2017, 7, 16, 0, 0),\n",
       "       datetime.datetime(2017, 9, 27, 0, 0),\n",
       "       datetime.datetime(2017, 1, 14, 0, 0),\n",
       "       datetime.datetime(2017, 3, 28, 0, 0),\n",
       "       datetime.datetime(2017, 8, 29, 0, 0),\n",
       "       datetime.datetime(2017, 9, 24, 0, 0),\n",
       "       datetime.datetime(2017, 10, 31, 0, 0),\n",
       "       datetime.datetime(2017, 12, 24, 0, 0),\n",
       "       datetime.datetime(2017, 9, 3, 0, 0),\n",
       "       datetime.datetime(2017, 9, 17, 0, 0),\n",
       "       datetime.datetime(2017, 8, 5, 0, 0),\n",
       "       datetime.datetime(2017, 6, 18, 0, 0),\n",
       "       datetime.datetime(2017, 9, 7, 0, 0),\n",
       "       datetime.datetime(2017, 9, 25, 0, 0),\n",
       "       datetime.datetime(2017, 6, 1, 0, 0),\n",
       "       datetime.datetime(2017, 11, 26, 0, 0),\n",
       "       datetime.datetime(2017, 9, 11, 0, 0),\n",
       "       datetime.datetime(2017, 1, 6, 0, 0),\n",
       "       datetime.datetime(2017, 12, 26, 0, 0),\n",
       "       datetime.datetime(2017, 3, 2, 0, 0),\n",
       "       datetime.datetime(2017, 5, 30, 0, 0),\n",
       "       datetime.datetime(2017, 6, 25, 0, 0)], dtype=object)"
      ]
     },
     "execution_count": 106,
     "metadata": {},
     "output_type": "execute_result"
    }
   ],
   "source": [
    "df_new.transaction_date.unique()"
   ]
  },
  {
   "cell_type": "markdown",
   "metadata": {},
   "source": [
    "This shows the 2017 data for Different dates encasing when were the transactions made."
   ]
  },
  {
   "cell_type": "code",
   "execution_count": 107,
   "metadata": {},
   "outputs": [
    {
     "data": {
      "text/plain": [
       "array([False, True, nan], dtype=object)"
      ]
     },
     "execution_count": 107,
     "metadata": {},
     "output_type": "execute_result"
    }
   ],
   "source": [
    "df_new.online_order.unique()"
   ]
  },
  {
   "cell_type": "markdown",
   "metadata": {},
   "source": [
    "The total unique values for Online Order which shows False, True and Nan for incomplete data."
   ]
  },
  {
   "cell_type": "code",
   "execution_count": 130,
   "metadata": {},
   "outputs": [
    {
     "data": {
      "text/plain": [
       "array(['Approved', 'Cancelled'], dtype=object)"
      ]
     },
     "execution_count": 130,
     "metadata": {},
     "output_type": "execute_result"
    }
   ],
   "source": [
    "df_new.order_status.unique()"
   ]
  },
  {
   "cell_type": "markdown",
   "metadata": {},
   "source": [
    "This shows the order status for orders."
   ]
  },
  {
   "cell_type": "code",
   "execution_count": 109,
   "metadata": {},
   "outputs": [
    {
     "data": {
      "text/plain": [
       "array(['Solex', 'Trek Bicycles', 'OHM Cycles', 'Norco Bicycles',\n",
       "       'Giant Bicycles', 'WeareA2B', nan], dtype=object)"
      ]
     },
     "execution_count": 109,
     "metadata": {},
     "output_type": "execute_result"
    }
   ],
   "source": [
    "df_new.brand.unique()"
   ]
  },
  {
   "cell_type": "markdown",
   "metadata": {},
   "source": [
    "This shows the Bicycles ordered and their branding"
   ]
  },
  {
   "cell_type": "code",
   "execution_count": 110,
   "metadata": {},
   "outputs": [
    {
     "data": {
      "text/plain": [
       "array(['Standard', 'Road', 'Mountain', 'Touring', nan], dtype=object)"
      ]
     },
     "execution_count": 110,
     "metadata": {},
     "output_type": "execute_result"
    }
   ],
   "source": [
    "df_new.product_line.unique()"
   ]
  },
  {
   "cell_type": "markdown",
   "metadata": {},
   "source": [
    "This shows the purpose for which the Bike is being ordered."
   ]
  },
  {
   "cell_type": "code",
   "execution_count": 111,
   "metadata": {},
   "outputs": [
    {
     "data": {
      "text/plain": [
       "array(['medium', 'low', 'high', nan], dtype=object)"
      ]
     },
     "execution_count": 111,
     "metadata": {},
     "output_type": "execute_result"
    }
   ],
   "source": [
    "df_new.product_class.unique()"
   ]
  },
  {
   "cell_type": "markdown",
   "metadata": {},
   "source": [
    "The price category that the product belongs to."
   ]
  },
  {
   "cell_type": "code",
   "execution_count": 112,
   "metadata": {},
   "outputs": [
    {
     "data": {
      "text/plain": [
       "array(['medium', 'large', 'small', nan], dtype=object)"
      ]
     },
     "execution_count": 112,
     "metadata": {},
     "output_type": "execute_result"
    }
   ],
   "source": [
    "df_new.product_size.unique()"
   ]
  },
  {
   "cell_type": "markdown",
   "metadata": {},
   "source": [
    "The product size is shown."
   ]
  },
  {
   "cell_type": "code",
   "execution_count": 113,
   "metadata": {},
   "outputs": [
    {
     "data": {
      "text/plain": [
       "array([71.49, 2091.47, 1793.43, 1198.46, 1765.3, 1538.99, 60.34, 1292.84,\n",
       "       1071.23, 1231.15, 574.64, 71.16, 1057.51, 1661.92, 1555.58,\n",
       "       1311.44, 499.53, 1362.99, 1469.44, 360.4, 642.31, 1403.5, 1720.7,\n",
       "       544.05, 1415.01, 1842.92, 1769.64, 2083.94, 1289.85, 1894.19,\n",
       "       1163.89, 1151.96, 235.63, 642.7, 1240.31, 1635.3, 227.88, 363.01,\n",
       "       100.35, 1458.17, 1977.36, 12.01, 1216.14, 1129.13, 183.86, 912.52,\n",
       "       175.89, 1073.07, 1179, 958.74, 792.9, 290.62, 752.64, 478.16,\n",
       "       1024.66, 1945.43, 441.49, 533.51, 569.56, 1148.64, 495.72, 1992.93,\n",
       "       1812.75, 945.04, 358.39, 1873.97, 1810, 1775.81, 1777.8, 795.34,\n",
       "       575.27, 1172.78, 1065.03, 1807.45, 1942.61, 1274.93, 1890.39,\n",
       "       980.37, 416.98, 1386.84, 742.54, 230.91, 688.63, 748.17, 1466.68,\n",
       "       1656.86, 202.62, 1036.59, 1228.07, 774.53, 586.45, 1762.96,\n",
       "       2005.66, 1483.2, 590.26, 1703.52, 1577.53, 1636.9, 1280.28,\n",
       "       1061.56, 850.89, 710.59, 543.39, 1227.34, 1972.01, 311.54, 205.84,\n",
       "       605.54, 756.31, 850, 571.27, 294.35, 149.3, 447.25, 1348.41,\n",
       "       1021.43, 1163.77, 1294.66, 638.29, 1202.34, 326.86, 814.86,\n",
       "       1102.68, 1880.4, 1541.62, 639.38, 402.14, 710.55, 1142.89, 813.6,\n",
       "       1833.17, 1285.47, 1678.71, 437.51, 366.22, 1199.26, 1888.45,\n",
       "       237.44, 317.3, 1527.25, 1563.94, 1146.42, 1192.33, 1672.07,\n",
       "       1099.68, 1281.6, 1220.66, 1061.92, 1502.93, 398.08, 101.55,\n",
       "       1957.87, 1095.66, 1776.08, 752.36, 172.09, 1740.16, 1734.3, 240.72,\n",
       "       1958.34, 330.36, 1709.26, 60.72, 1193.44, 2037.77, 1349.47, 56.21,\n",
       "       126.36, 1300.96, 1697.27, 26.15, 875.99, 1862.82, 2028.26, 678.25,\n",
       "       890.28, 1084.18, 1107.08, 1790.31, 724.37, 1095.65, 1223.24,\n",
       "       541.44, 470.07, 2052.92, 1817.13, 1473.09, 1480.76, 2012.84,\n",
       "       1711.35, 753.76, 840.02, 1922.94, 1759.3, 330.91, 1029.36, 1487.8,\n",
       "       1624.69, 1719.95, 899.52, 554.38, 960.51, 1978.64, 36.78, 74.89,\n",
       "       1091.51, 695.23, 1148.41, 750.25, 1997.68, 1392.76, 1294.37,\n",
       "       311.57, 899.92, 162.87, 1678.51, 1703.18, 675.28, 487.8, 1292.13,\n",
       "       1578.52, 922.15, 122.74, 435.66, 1409.68, 1315.16, 1233.12, 758.73,\n",
       "       405.94, 1026.7, 687.9, 494.96, 1181.89, 465.71, 880.3, 1989.3,\n",
       "       1413.98, 483.12, 753.01, 883.91, 1216.4, 32.44, 16.08, 1184,\n",
       "       587.02, 1919.23, 1660.68, 1224.41, 1535.84, 150.51, 2062.95,\n",
       "       1689.63, 1934.41, 889.05, 1617.32, 1788.93, 2064.08, 2020.14,\n",
       "       489.58, 2076.81, 2061.38, 877.44, 1374.2, 731.41, 1034.17, 156.56,\n",
       "       643.95, 517.53, 226.94, 1196.65, 634.57, 1571.83, 1999.54, 1562.88,\n",
       "       1150.59, 356.05, 1780.22, 1438.9, 966.91, 918.43, 1541.1, 1476.88,\n",
       "       1023.39, 310.57, 356.39, 1695.42, 877.6, 1401.63, 2086.07, 1761.75,\n",
       "       1615.62, 744.54, 1098.18, 868.56, 1497.43, 867.92], dtype=object)"
      ]
     },
     "execution_count": 113,
     "metadata": {},
     "output_type": "execute_result"
    }
   ],
   "source": [
    "df_new.list_price.unique()"
   ]
  },
  {
   "cell_type": "code",
   "execution_count": 114,
   "metadata": {},
   "outputs": [
    {
     "data": {
      "text/plain": [
       "array([53.62, 388.92, 248.82, 381.1, 709.48, 829.65, 45.26, 13.44, 380.74,\n",
       "       161.6, 459.71, 56.93, 154.4, 1479.11, 818.01, 1167.18, 388.72,\n",
       "       57.74, 596.55, 270.3, 513.85, 954.82, 1531.42, 376.84, 1259.36,\n",
       "       1105.75, 108.76, 675.03, 74.51, 598.76, 589.27, 649.49, 125.07,\n",
       "       211.37, 795.1, 993.66, 136.73, 290.41, 75.26, 874.9, 1759.85, 7.21,\n",
       "       1082.36, 677.48, 137.9, 141.4, 131.92, 933.84, 707.4, 748.9,\n",
       "       594.68, 215.14, 205.36, 298.72, 614.8, 333.18, 84.99, 400.13,\n",
       "       528.43, 689.18, 297.43, 762.63, 582.48, 507.58, 215.03, 863.95,\n",
       "       1610.9, 1580.47, 820.78, 101.58, 431.45, 1043.77, 230.09, 778.69,\n",
       "       nan, 764.96, 260.14, 234.43, 312.74, 1234.29, 667.4, 173.18,\n",
       "       612.88, 448.9, 363.25, 151.96, 206.35, 400.91, 464.72, 521.94,\n",
       "       950.52, 1203.4, 99.59, 525.33, 1516.13, 826.51, 44.71, 829.51,\n",
       "       733.58, 407.54, 770.89, 312.7350159, 270.2999878, 667.4000244],\n",
       "      dtype=object)"
      ]
     },
     "execution_count": 114,
     "metadata": {},
     "output_type": "execute_result"
    }
   ],
   "source": [
    "df_new.standard_cost.unique()"
   ]
  },
  {
   "cell_type": "code",
   "execution_count": 115,
   "metadata": {},
   "outputs": [
    {
     "data": {
      "text/plain": [
       "array([41245, 41701, 36361, 36145, 42226, 39031, 34165, 39915, 33455,\n",
       "       38216, 40784, 42172, 34527, 34586, 38193, 37873, 38206, 33888,\n",
       "       37337, 36334, 42145, 42404, 34079, 41047, 42560, 42710, 41922,\n",
       "       37539, 42688, 38991, 38647, 37874, 34996, 33549, 38693, 37668,\n",
       "       41533, 41009, 40553, 39427, 38482, 35470, 41434, 36367, 38750,\n",
       "       41848, 34244, 42696, 38258, 41167, 40672, 35707, 42295, 33552,\n",
       "       35667, 33879, 40670, 37626, 38339, 40303, 34143, 35160, 36668,\n",
       "       36498, 34071, 40649, 37823, 36146, 42105, 34115, 35052, 33364,\n",
       "       42218, 41345, 33429, 38859, nan, 36833, 37499, 41064, 33259, 35560,\n",
       "       37838, 37698, 35378, 38573, 38002, 39526, 39880, 40487, 40336,\n",
       "       40618, 34170, 40410, 42458, 39298, 35455, 37220, 37659, 40779,\n",
       "       34556], dtype=object)"
      ]
     },
     "execution_count": 115,
     "metadata": {},
     "output_type": "execute_result"
    }
   ],
   "source": [
    "df_new.product_first_sold_date.unique()"
   ]
  },
  {
   "cell_type": "code",
   "execution_count": null,
   "metadata": {},
   "outputs": [],
   "source": []
  },
  {
   "cell_type": "markdown",
   "metadata": {},
   "source": [
    "The above three values shows the last three columns for different bicycles."
   ]
  },
  {
   "cell_type": "markdown",
   "metadata": {},
   "source": [
    "# Graphically Presentation of Data"
   ]
  },
  {
   "cell_type": "code",
   "execution_count": null,
   "metadata": {},
   "outputs": [],
   "source": []
  },
  {
   "cell_type": "code",
   "execution_count": 148,
   "metadata": {},
   "outputs": [
    {
     "data": {
      "text/plain": [
       "<matplotlib.axes._subplots.AxesSubplot at 0x25c18946bc8>"
      ]
     },
     "execution_count": 148,
     "metadata": {},
     "output_type": "execute_result"
    },
    {
     "data": {
      "image/png": "[encoded data removed]",
      "text/plain": [
       "<Figure size 720x360 with 1 Axes>"
      ]
     },
     "metadata": {},
     "output_type": "display_data"
    }
   ],
   "source": [
    "df_new['product_id'].plot.hist(bins = 20)"
   ]
  },
  {
   "cell_type": "code",
   "execution_count": 149,
   "metadata": {},
   "outputs": [
    {
     "data": {
      "text/plain": [
       "<matplotlib.axes._subplots.AxesSubplot at 0x25c190469c8>"
      ]
     },
     "execution_count": 149,
     "metadata": {},
     "output_type": "execute_result"
    },
    {
     "data": {
      "image/png": "[encoded data removed]",
      "text/plain": [
       "<Figure size 720x360 with 1 Axes>"
      ]
     },
     "metadata": {},
     "output_type": "display_data"
    }
   ],
   "source": [
    "df_new['customer_id'].plot.hist(bins = 20, figsize = (10,5))"
   ]
  },
  {
   "cell_type": "code",
   "execution_count": 150,
   "metadata": {},
   "outputs": [
    {
     "data": {
      "text/plain": [
       "<matplotlib.axes._subplots.AxesSubplot at 0x25c187b2cc8>"
      ]
     },
     "execution_count": 150,
     "metadata": {},
     "output_type": "execute_result"
    },
    {
     "data": {
      "image/png": "[encoded data removed]",
      "text/plain": [
       "<Figure size 720x360 with 1 Axes>"
      ]
     },
     "metadata": {},
     "output_type": "display_data"
    }
   ],
   "source": [
    "sns.countplot(x = \"online_order\", data = df_new)"
   ]
  },
  {
   "cell_type": "code",
   "execution_count": 151,
   "metadata": {},
   "outputs": [
    {
     "data": {
      "text/plain": [
       "<matplotlib.axes._subplots.AxesSubplot at 0x25c1898d988>"
      ]
     },
     "execution_count": 151,
     "metadata": {},
     "output_type": "execute_result"
    },
    {
     "data": {
      "image/png": "[encoded data removed]",
      "text/plain": [
       "<Figure size 720x360 with 1 Axes>"
      ]
     },
     "metadata": {},
     "output_type": "display_data"
    }
   ],
   "source": [
    "sns.countplot(x = \"order_status\", data = df_new)"
   ]
  },
  {
   "cell_type": "code",
   "execution_count": 152,
   "metadata": {},
   "outputs": [
    {
     "data": {
      "text/plain": [
       "<matplotlib.axes._subplots.AxesSubplot at 0x25c18a37248>"
      ]
     },
     "execution_count": 152,
     "metadata": {},
     "output_type": "execute_result"
    },
    {
     "data": {
      "image/png": "[encoded data removed]",
      "text/plain": [
       "<Figure size 720x360 with 1 Axes>"
      ]
     },
     "metadata": {},
     "output_type": "display_data"
    }
   ],
   "source": [
    "sns.countplot(x = \"brand\", data = df_new)"
   ]
  },
  {
   "cell_type": "code",
   "execution_count": 153,
   "metadata": {},
   "outputs": [
    {
     "data": {
      "text/plain": [
       "<matplotlib.axes._subplots.AxesSubplot at 0x25c18ac7788>"
      ]
     },
     "execution_count": 153,
     "metadata": {},
     "output_type": "execute_result"
    },
    {
     "data": {
      "image/png": "[encoded data removed]",
      "text/plain": [
       "<Figure size 720x360 with 1 Axes>"
      ]
     },
     "metadata": {},
     "output_type": "display_data"
    }
   ],
   "source": [
    "sns.countplot(x = \"product_line\", data = df_new)"
   ]
  },
  {
   "cell_type": "code",
   "execution_count": 154,
   "metadata": {},
   "outputs": [
    {
     "data": {
      "text/plain": [
       "<matplotlib.axes._subplots.AxesSubplot at 0x25c18cf01c8>"
      ]
     },
     "execution_count": 154,
     "metadata": {},
     "output_type": "execute_result"
    },
    {
     "data": {
      "image/png": "[encoded data removed]",
      "text/plain": [
       "<Figure size 720x360 with 1 Axes>"
      ]
     },
     "metadata": {},
     "output_type": "display_data"
    }
   ],
   "source": [
    "sns.countplot(x = \"product_class\", data = df_new)"
   ]
  },
  {
   "cell_type": "code",
   "execution_count": 155,
   "metadata": {},
   "outputs": [
    {
     "data": {
      "text/plain": [
       "<matplotlib.axes._subplots.AxesSubplot at 0x25c18836308>"
      ]
     },
     "execution_count": 155,
     "metadata": {},
     "output_type": "execute_result"
    },
    {
     "data": {
      "image/png": "[encoded data removed]",
      "text/plain": [
       "<Figure size 720x360 with 1 Axes>"
      ]
     },
     "metadata": {},
     "output_type": "display_data"
    }
   ],
   "source": [
    "sns.countplot(x = \"product_size\", data = df_new)"
   ]
  },
  {
   "cell_type": "code",
   "execution_count": 156,
   "metadata": {},
   "outputs": [
    {
     "data": {
      "text/plain": [
       "<matplotlib.axes._subplots.AxesSubplot at 0x25c189daf88>"
      ]
     },
     "execution_count": 156,
     "metadata": {},
     "output_type": "execute_result"
    },
    {
     "data": {
      "image/png": "[encoded data removed]",
      "text/plain": [
       "<Figure size 720x360 with 1 Axes>"
      ]
     },
     "metadata": {},
     "output_type": "display_data"
    }
   ],
   "source": [
    "df_new['list_price'].plot.hist(bins = 20)"
   ]
  },
  {
   "cell_type": "code",
   "execution_count": 157,
   "metadata": {},
   "outputs": [
    {
     "data": {
      "text/plain": [
       "<matplotlib.axes._subplots.AxesSubplot at 0x25c18b05788>"
      ]
     },
     "execution_count": 157,
     "metadata": {},
     "output_type": "execute_result"
    },
    {
     "data": {
      "image/png": "[encoded data removed]",
      "text/plain": [
       "<Figure size 720x360 with 1 Axes>"
      ]
     },
     "metadata": {},
     "output_type": "display_data"
    }
   ],
   "source": [
    "df_new['standard_cost'].plot.hist(bins = 20)"
   ]
  },
  {
   "cell_type": "code",
   "execution_count": 158,
   "metadata": {},
   "outputs": [
    {
     "data": {
      "text/plain": [
       "<matplotlib.axes._subplots.AxesSubplot at 0x25c18bf1f08>"
      ]
     },
     "execution_count": 158,
     "metadata": {},
     "output_type": "execute_result"
    },
    {
     "data": {
      "image/png": "[encoded data removed]",
      "text/plain": [
       "<Figure size 720x360 with 1 Axes>"
      ]
     },
     "metadata": {},
     "output_type": "display_data"
    }
   ],
   "source": [
    "df_new['product_first_sold_date'].plot.hist(bins = 20)"
   ]
  },
  {
   "cell_type": "code",
   "execution_count": 162,
   "metadata": {},
   "outputs": [
    {
     "data": {
      "text/html": [
       "<div>\n",
       "<style scoped>\n",
       "    .dataframe tbody tr th:only-of-type {\n",
       "        vertical-align: middle;\n",
       "    }\n",
       "\n",
       "    .dataframe tbody tr th {\n",
       "        vertical-align: top;\n",
       "    }\n",
       "\n",
       "    .dataframe thead th {\n",
       "        text-align: right;\n",
       "    }\n",
       "</style>\n",
       "<table border=\"1\" class=\"dataframe\">\n",
       "  <thead>\n",
       "    <tr style=\"text-align: right;\">\n",
       "      <th></th>\n",
       "      <th>transaction_id</th>\n",
       "      <th>product_id</th>\n",
       "      <th>customer_id</th>\n",
       "      <th>transaction_date</th>\n",
       "      <th>online_order</th>\n",
       "      <th>order_status</th>\n",
       "      <th>brand</th>\n",
       "      <th>product_line</th>\n",
       "      <th>product_class</th>\n",
       "      <th>product_size</th>\n",
       "      <th>list_price</th>\n",
       "      <th>standard_cost</th>\n",
       "      <th>product_first_sold_date</th>\n",
       "    </tr>\n",
       "  </thead>\n",
       "  <tbody>\n",
       "    <tr>\n",
       "      <td>1</td>\n",
       "      <td>1</td>\n",
       "      <td>2</td>\n",
       "      <td>2950</td>\n",
       "      <td>2017-02-25 00:00:00</td>\n",
       "      <td>False</td>\n",
       "      <td>Approved</td>\n",
       "      <td>Solex</td>\n",
       "      <td>Standard</td>\n",
       "      <td>medium</td>\n",
       "      <td>medium</td>\n",
       "      <td>71.49</td>\n",
       "      <td>53.62</td>\n",
       "      <td>41245</td>\n",
       "    </tr>\n",
       "    <tr>\n",
       "      <td>2</td>\n",
       "      <td>2</td>\n",
       "      <td>3</td>\n",
       "      <td>3120</td>\n",
       "      <td>2017-05-21 00:00:00</td>\n",
       "      <td>True</td>\n",
       "      <td>Approved</td>\n",
       "      <td>Trek Bicycles</td>\n",
       "      <td>Standard</td>\n",
       "      <td>medium</td>\n",
       "      <td>large</td>\n",
       "      <td>2091.47</td>\n",
       "      <td>388.92</td>\n",
       "      <td>41701</td>\n",
       "    </tr>\n",
       "    <tr>\n",
       "      <td>3</td>\n",
       "      <td>3</td>\n",
       "      <td>37</td>\n",
       "      <td>402</td>\n",
       "      <td>2017-10-16 00:00:00</td>\n",
       "      <td>False</td>\n",
       "      <td>Approved</td>\n",
       "      <td>OHM Cycles</td>\n",
       "      <td>Standard</td>\n",
       "      <td>low</td>\n",
       "      <td>medium</td>\n",
       "      <td>1793.43</td>\n",
       "      <td>248.82</td>\n",
       "      <td>36361</td>\n",
       "    </tr>\n",
       "    <tr>\n",
       "      <td>4</td>\n",
       "      <td>4</td>\n",
       "      <td>88</td>\n",
       "      <td>3135</td>\n",
       "      <td>2017-08-31 00:00:00</td>\n",
       "      <td>False</td>\n",
       "      <td>Approved</td>\n",
       "      <td>Norco Bicycles</td>\n",
       "      <td>Standard</td>\n",
       "      <td>medium</td>\n",
       "      <td>medium</td>\n",
       "      <td>1198.46</td>\n",
       "      <td>381.1</td>\n",
       "      <td>36145</td>\n",
       "    </tr>\n",
       "    <tr>\n",
       "      <td>5</td>\n",
       "      <td>5</td>\n",
       "      <td>78</td>\n",
       "      <td>787</td>\n",
       "      <td>2017-10-01 00:00:00</td>\n",
       "      <td>True</td>\n",
       "      <td>Approved</td>\n",
       "      <td>Giant Bicycles</td>\n",
       "      <td>Standard</td>\n",
       "      <td>medium</td>\n",
       "      <td>large</td>\n",
       "      <td>1765.3</td>\n",
       "      <td>709.48</td>\n",
       "      <td>42226</td>\n",
       "    </tr>\n",
       "  </tbody>\n",
       "</table>\n",
       "</div>"
      ],
      "text/plain": [
       "  transaction_id product_id customer_id     transaction_date online_order  \\\n",
       "1              1          2        2950  2017-02-25 00:00:00        False   \n",
       "2              2          3        3120  2017-05-21 00:00:00         True   \n",
       "3              3         37         402  2017-10-16 00:00:00        False   \n",
       "4              4         88        3135  2017-08-31 00:00:00        False   \n",
       "5              5         78         787  2017-10-01 00:00:00         True   \n",
       "\n",
       "  order_status           brand product_line product_class product_size  \\\n",
       "1     Approved           Solex     Standard        medium       medium   \n",
       "2     Approved   Trek Bicycles     Standard        medium        large   \n",
       "3     Approved      OHM Cycles     Standard           low       medium   \n",
       "4     Approved  Norco Bicycles     Standard        medium       medium   \n",
       "5     Approved  Giant Bicycles     Standard        medium        large   \n",
       "\n",
       "  list_price standard_cost product_first_sold_date  \n",
       "1      71.49         53.62                   41245  \n",
       "2    2091.47        388.92                   41701  \n",
       "3    1793.43        248.82                   36361  \n",
       "4    1198.46         381.1                   36145  \n",
       "5     1765.3        709.48                   42226  "
      ]
     },
     "execution_count": 162,
     "metadata": {},
     "output_type": "execute_result"
    }
   ],
   "source": [
    "df_new.head()"
   ]
  },
  {
   "cell_type": "code",
   "execution_count": 165,
   "metadata": {},
   "outputs": [
    {
     "data": {
      "text/plain": [
       "<seaborn.axisgrid.FacetGrid at 0x25c1c927248>"
      ]
     },
     "execution_count": 165,
     "metadata": {},
     "output_type": "execute_result"
    },
    {
     "data": {
      "image/png": "[encoded data removed]",
      "text/plain": [
       "<Figure size 360x360 with 1 Axes>"
      ]
     },
     "metadata": {},
     "output_type": "display_data"
    }
   ],
   "source": [
    "sns.catplot(x='product_line',y='list_price',data=df_new)"
   ]
  },
  {
   "cell_type": "code",
   "execution_count": 166,
   "metadata": {},
   "outputs": [
    {
     "data": {
      "text/plain": [
       "<seaborn.axisgrid.FacetGrid at 0x25c19ae7908>"
      ]
     },
     "execution_count": 166,
     "metadata": {},
     "output_type": "execute_result"
    },
    {
     "data": {
      "image/png": "[encoded data removed]",
      "text/plain": [
       "<Figure size 360x360 with 1 Axes>"
      ]
     },
     "metadata": {},
     "output_type": "display_data"
    }
   ],
   "source": [
    "sns.catplot(x='product_class',y='list_price',data=df_new)"
   ]
  },
  {
   "cell_type": "code",
   "execution_count": 168,
   "metadata": {},
   "outputs": [
    {
     "data": {
      "text/plain": [
       "<seaborn.axisgrid.FacetGrid at 0x25c1c7f90c8>"
      ]
     },
     "execution_count": 168,
     "metadata": {},
     "output_type": "execute_result"
    },
    {
     "data": {
      "image/png": "[encoded data removed]",
      "text/plain": [
       "<Figure size 360x360 with 1 Axes>"
      ]
     },
     "metadata": {},
     "output_type": "display_data"
    }
   ],
   "source": [
    "sns.catplot(x='product_size',y='list_price',data=df_new)"
   ]
  },
  {
   "cell_type": "markdown",
   "metadata": {},
   "source": [
    "The values are having \n",
    "\n",
    "1.) Good accurate values with column specified values.\n",
    "\n",
    "2.) The values are consistent in their respective columns with proper feed.\n",
    "\n",
    "3.) The values are up to date from the year they are collected and are valid for that year.\n",
    "\n",
    "4.) Relevant values related to the customers are present in the field with no extra values that take up unecessary space.\n",
    "\n",
    "5.) Valid values are present inside the columns which makes the dataset suitbale for usage with a brief editing.\n",
    "\n",
    "6.) Unique valuesa are present in the dataframe as showned above."
   ]
  },
  {
   "cell_type": "code",
   "execution_count": null,
   "metadata": {},
   "outputs": [],
   "source": []
  }
 ],
 "metadata": {
  "kernelspec": {
   "display_name": "Python 3",
   "language": "python",
   "name": "python3"
  },
  "language_info": {
   "codemirror_mode": {
    "name": "ipython",
    "version": 3
   },
   "file_extension": ".py",
   "mimetype": "text/x-python",
   "name": "python",
   "nbconvert_exporter": "python",
   "pygments_lexer": "ipython3",
   "version": "3.7.4"
  }
 },
 "nbformat": 4,
 "nbformat_minor": 2
}
