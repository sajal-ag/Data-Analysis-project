{
 "cells": [
  {
   "cell_type": "code",
   "execution_count": 35,
   "metadata": {},
   "outputs": [],
   "source": [
    "import pandas as pd\n",
    "import matplotlib.pyplot as plt\n",
    "import seaborn as sns\n",
    "%matplotlib inline"
   ]
  },
  {
   "cell_type": "code",
   "execution_count": 36,
   "metadata": {},
   "outputs": [],
   "source": [
    "df = pd.read_excel('KPMG.xlsx', sheet_name = 'NewCustomerList')"
   ]
  },
  {
   "cell_type": "code",
   "execution_count": 90,
   "metadata": {},
   "outputs": [
    {
     "data": {
      "text/html": [
       "<div>\n",
       "<style scoped>\n",
       "    .dataframe tbody tr th:only-of-type {\n",
       "        vertical-align: middle;\n",
       "    }\n",
       "\n",
       "    .dataframe tbody tr th {\n",
       "        vertical-align: top;\n",
       "    }\n",
       "\n",
       "    .dataframe thead th {\n",
       "        text-align: right;\n",
       "    }\n",
       "</style>\n",
       "<table border=\"1\" class=\"dataframe\">\n",
       "  <thead>\n",
       "    <tr style=\"text-align: right;\">\n",
       "      <th></th>\n",
       "      <th>first_name</th>\n",
       "      <th>last_name</th>\n",
       "      <th>gender</th>\n",
       "      <th>past_3_years_bike_related_purchases</th>\n",
       "      <th>DOB</th>\n",
       "      <th>job_title</th>\n",
       "      <th>job_industry_category</th>\n",
       "      <th>wealth_segment</th>\n",
       "      <th>deceased_indicator</th>\n",
       "      <th>owns_car</th>\n",
       "      <th>tenure</th>\n",
       "      <th>address</th>\n",
       "      <th>postcode</th>\n",
       "      <th>state</th>\n",
       "      <th>country</th>\n",
       "      <th>property_valuation</th>\n",
       "      <th>Rank</th>\n",
       "      <th>Value</th>\n",
       "    </tr>\n",
       "  </thead>\n",
       "  <tbody>\n",
       "    <tr>\n",
       "      <td>1</td>\n",
       "      <td>Chickie</td>\n",
       "      <td>Brister</td>\n",
       "      <td>Male</td>\n",
       "      <td>86</td>\n",
       "      <td>1957-07-12</td>\n",
       "      <td>General Manager</td>\n",
       "      <td>Manufacturing</td>\n",
       "      <td>Mass Customer</td>\n",
       "      <td>N</td>\n",
       "      <td>Yes</td>\n",
       "      <td>14</td>\n",
       "      <td>45 Shopko Center</td>\n",
       "      <td>4500</td>\n",
       "      <td>QLD</td>\n",
       "      <td>Australia</td>\n",
       "      <td>6</td>\n",
       "      <td>1</td>\n",
       "      <td>1.71875</td>\n",
       "    </tr>\n",
       "    <tr>\n",
       "      <td>2</td>\n",
       "      <td>Morly</td>\n",
       "      <td>Genery</td>\n",
       "      <td>Male</td>\n",
       "      <td>69</td>\n",
       "      <td>1970-03-22</td>\n",
       "      <td>Structural Engineer</td>\n",
       "      <td>Property</td>\n",
       "      <td>Mass Customer</td>\n",
       "      <td>N</td>\n",
       "      <td>No</td>\n",
       "      <td>16</td>\n",
       "      <td>14 Mccormick Park</td>\n",
       "      <td>2113</td>\n",
       "      <td>NSW</td>\n",
       "      <td>Australia</td>\n",
       "      <td>11</td>\n",
       "      <td>1</td>\n",
       "      <td>1.71875</td>\n",
       "    </tr>\n",
       "    <tr>\n",
       "      <td>3</td>\n",
       "      <td>Ardelis</td>\n",
       "      <td>Forrester</td>\n",
       "      <td>Female</td>\n",
       "      <td>10</td>\n",
       "      <td>1974-08-28 00:00:00</td>\n",
       "      <td>Senior Cost Accountant</td>\n",
       "      <td>Financial Services</td>\n",
       "      <td>Affluent Customer</td>\n",
       "      <td>N</td>\n",
       "      <td>No</td>\n",
       "      <td>10</td>\n",
       "      <td>5 Colorado Crossing</td>\n",
       "      <td>3505</td>\n",
       "      <td>VIC</td>\n",
       "      <td>Australia</td>\n",
       "      <td>5</td>\n",
       "      <td>1</td>\n",
       "      <td>1.71875</td>\n",
       "    </tr>\n",
       "    <tr>\n",
       "      <td>4</td>\n",
       "      <td>Lucine</td>\n",
       "      <td>Stutt</td>\n",
       "      <td>Female</td>\n",
       "      <td>64</td>\n",
       "      <td>1979-01-28</td>\n",
       "      <td>Account Representative III</td>\n",
       "      <td>Manufacturing</td>\n",
       "      <td>Affluent Customer</td>\n",
       "      <td>N</td>\n",
       "      <td>Yes</td>\n",
       "      <td>5</td>\n",
       "      <td>207 Annamark Plaza</td>\n",
       "      <td>4814</td>\n",
       "      <td>QLD</td>\n",
       "      <td>Australia</td>\n",
       "      <td>1</td>\n",
       "      <td>4</td>\n",
       "      <td>1.70312</td>\n",
       "    </tr>\n",
       "    <tr>\n",
       "      <td>5</td>\n",
       "      <td>Melinda</td>\n",
       "      <td>Hadlee</td>\n",
       "      <td>Female</td>\n",
       "      <td>34</td>\n",
       "      <td>1965-09-21</td>\n",
       "      <td>Financial Analyst</td>\n",
       "      <td>Financial Services</td>\n",
       "      <td>Affluent Customer</td>\n",
       "      <td>N</td>\n",
       "      <td>No</td>\n",
       "      <td>19</td>\n",
       "      <td>115 Montana Place</td>\n",
       "      <td>2093</td>\n",
       "      <td>NSW</td>\n",
       "      <td>Australia</td>\n",
       "      <td>9</td>\n",
       "      <td>4</td>\n",
       "      <td>1.70312</td>\n",
       "    </tr>\n",
       "  </tbody>\n",
       "</table>\n",
       "</div>"
      ],
      "text/plain": [
       "  first_name  last_name  gender past_3_years_bike_related_purchases  \\\n",
       "1    Chickie    Brister    Male                                  86   \n",
       "2      Morly     Genery    Male                                  69   \n",
       "3    Ardelis  Forrester  Female                                  10   \n",
       "4     Lucine      Stutt  Female                                  64   \n",
       "5    Melinda     Hadlee  Female                                  34   \n",
       "\n",
       "                   DOB                   job_title job_industry_category  \\\n",
       "1           1957-07-12             General Manager         Manufacturing   \n",
       "2           1970-03-22         Structural Engineer              Property   \n",
       "3  1974-08-28 00:00:00      Senior Cost Accountant    Financial Services   \n",
       "4           1979-01-28  Account Representative III         Manufacturing   \n",
       "5           1965-09-21           Financial Analyst    Financial Services   \n",
       "\n",
       "      wealth_segment deceased_indicator owns_car tenure              address  \\\n",
       "1      Mass Customer                  N      Yes     14     45 Shopko Center   \n",
       "2      Mass Customer                  N       No     16    14 Mccormick Park   \n",
       "3  Affluent Customer                  N       No     10  5 Colorado Crossing   \n",
       "4  Affluent Customer                  N      Yes      5   207 Annamark Plaza   \n",
       "5  Affluent Customer                  N       No     19    115 Montana Place   \n",
       "\n",
       "  postcode state    country property_valuation Rank    Value  \n",
       "1     4500   QLD  Australia                  6    1  1.71875  \n",
       "2     2113   NSW  Australia                 11    1  1.71875  \n",
       "3     3505   VIC  Australia                  5    1  1.71875  \n",
       "4     4814   QLD  Australia                  1    4  1.70312  \n",
       "5     2093   NSW  Australia                  9    4  1.70312  "
      ]
     },
     "execution_count": 90,
     "metadata": {},
     "output_type": "execute_result"
    }
   ],
   "source": [
    "df.head()"
   ]
  },
  {
   "cell_type": "markdown",
   "metadata": {},
   "source": [
    "# Converting column headings into appropriate values"
   ]
  },
  {
   "cell_type": "code",
   "execution_count": 38,
   "metadata": {},
   "outputs": [],
   "source": [
    "df = df.rename(columns = {'Unnamed: 1':'last_name','Note: The data and information in this document is reflective of a hypothetical situation and client. This document is to be used for KPMG Virtual Internship purposes only. ':'first_name',\n",
    "                         'Unnamed: 2':'gender','Unnamed: 3':'past_3_years_bike_related_purchases','Unnamed: 4':'DOB','Unnamed: 5':'job_title',\n",
    "                         'Unnamed: 6':'job_industry_category','Unnamed: 7':'wealth_segment','Unnamed: 8':'deceased_indicator','Unnamed: 9':'owns_car',\n",
    "                         'Unnamed: 13':'state','Unnamed: 14':'country','Unnamed: 15':'property_valuation','Unnamed: 21':'Rank','Unnamed: 22':'Value','Unnamed: 10':'tenure','Unnamed: 11':'address','Unnamed: 12':'postcode'})"
   ]
  },
  {
   "cell_type": "code",
   "execution_count": 39,
   "metadata": {},
   "outputs": [],
   "source": [
    "df.drop(['Unnamed: 16','Unnamed: 17','Unnamed: 18','Unnamed: 19','Unnamed: 20'],axis = 'columns', inplace= True)"
   ]
  },
  {
   "cell_type": "code",
   "execution_count": 40,
   "metadata": {},
   "outputs": [
    {
     "data": {
      "text/html": [
       "<div>\n",
       "<style scoped>\n",
       "    .dataframe tbody tr th:only-of-type {\n",
       "        vertical-align: middle;\n",
       "    }\n",
       "\n",
       "    .dataframe tbody tr th {\n",
       "        vertical-align: top;\n",
       "    }\n",
       "\n",
       "    .dataframe thead th {\n",
       "        text-align: right;\n",
       "    }\n",
       "</style>\n",
       "<table border=\"1\" class=\"dataframe\">\n",
       "  <thead>\n",
       "    <tr style=\"text-align: right;\">\n",
       "      <th></th>\n",
       "      <th>first_name</th>\n",
       "      <th>last_name</th>\n",
       "      <th>gender</th>\n",
       "      <th>past_3_years_bike_related_purchases</th>\n",
       "      <th>DOB</th>\n",
       "      <th>job_title</th>\n",
       "      <th>job_industry_category</th>\n",
       "      <th>wealth_segment</th>\n",
       "      <th>deceased_indicator</th>\n",
       "      <th>owns_car</th>\n",
       "      <th>tenure</th>\n",
       "      <th>address</th>\n",
       "      <th>postcode</th>\n",
       "      <th>state</th>\n",
       "      <th>country</th>\n",
       "      <th>property_valuation</th>\n",
       "      <th>Rank</th>\n",
       "      <th>Value</th>\n",
       "    </tr>\n",
       "  </thead>\n",
       "  <tbody>\n",
       "    <tr>\n",
       "      <td>0</td>\n",
       "      <td>first_name</td>\n",
       "      <td>last_name</td>\n",
       "      <td>gender</td>\n",
       "      <td>past_3_years_bike_related_purchases</td>\n",
       "      <td>DOB</td>\n",
       "      <td>job_title</td>\n",
       "      <td>job_industry_category</td>\n",
       "      <td>wealth_segment</td>\n",
       "      <td>deceased_indicator</td>\n",
       "      <td>owns_car</td>\n",
       "      <td>tenure</td>\n",
       "      <td>address</td>\n",
       "      <td>postcode</td>\n",
       "      <td>state</td>\n",
       "      <td>country</td>\n",
       "      <td>property_valuation</td>\n",
       "      <td>Rank</td>\n",
       "      <td>Value</td>\n",
       "    </tr>\n",
       "    <tr>\n",
       "      <td>1</td>\n",
       "      <td>Chickie</td>\n",
       "      <td>Brister</td>\n",
       "      <td>Male</td>\n",
       "      <td>86</td>\n",
       "      <td>1957-07-12</td>\n",
       "      <td>General Manager</td>\n",
       "      <td>Manufacturing</td>\n",
       "      <td>Mass Customer</td>\n",
       "      <td>N</td>\n",
       "      <td>Yes</td>\n",
       "      <td>14</td>\n",
       "      <td>45 Shopko Center</td>\n",
       "      <td>4500</td>\n",
       "      <td>QLD</td>\n",
       "      <td>Australia</td>\n",
       "      <td>6</td>\n",
       "      <td>1</td>\n",
       "      <td>1.71875</td>\n",
       "    </tr>\n",
       "    <tr>\n",
       "      <td>2</td>\n",
       "      <td>Morly</td>\n",
       "      <td>Genery</td>\n",
       "      <td>Male</td>\n",
       "      <td>69</td>\n",
       "      <td>1970-03-22</td>\n",
       "      <td>Structural Engineer</td>\n",
       "      <td>Property</td>\n",
       "      <td>Mass Customer</td>\n",
       "      <td>N</td>\n",
       "      <td>No</td>\n",
       "      <td>16</td>\n",
       "      <td>14 Mccormick Park</td>\n",
       "      <td>2113</td>\n",
       "      <td>NSW</td>\n",
       "      <td>Australia</td>\n",
       "      <td>11</td>\n",
       "      <td>1</td>\n",
       "      <td>1.71875</td>\n",
       "    </tr>\n",
       "    <tr>\n",
       "      <td>3</td>\n",
       "      <td>Ardelis</td>\n",
       "      <td>Forrester</td>\n",
       "      <td>Female</td>\n",
       "      <td>10</td>\n",
       "      <td>1974-08-28 00:00:00</td>\n",
       "      <td>Senior Cost Accountant</td>\n",
       "      <td>Financial Services</td>\n",
       "      <td>Affluent Customer</td>\n",
       "      <td>N</td>\n",
       "      <td>No</td>\n",
       "      <td>10</td>\n",
       "      <td>5 Colorado Crossing</td>\n",
       "      <td>3505</td>\n",
       "      <td>VIC</td>\n",
       "      <td>Australia</td>\n",
       "      <td>5</td>\n",
       "      <td>1</td>\n",
       "      <td>1.71875</td>\n",
       "    </tr>\n",
       "    <tr>\n",
       "      <td>4</td>\n",
       "      <td>Lucine</td>\n",
       "      <td>Stutt</td>\n",
       "      <td>Female</td>\n",
       "      <td>64</td>\n",
       "      <td>1979-01-28</td>\n",
       "      <td>Account Representative III</td>\n",
       "      <td>Manufacturing</td>\n",
       "      <td>Affluent Customer</td>\n",
       "      <td>N</td>\n",
       "      <td>Yes</td>\n",
       "      <td>5</td>\n",
       "      <td>207 Annamark Plaza</td>\n",
       "      <td>4814</td>\n",
       "      <td>QLD</td>\n",
       "      <td>Australia</td>\n",
       "      <td>1</td>\n",
       "      <td>4</td>\n",
       "      <td>1.70312</td>\n",
       "    </tr>\n",
       "  </tbody>\n",
       "</table>\n",
       "</div>"
      ],
      "text/plain": [
       "   first_name  last_name  gender  past_3_years_bike_related_purchases  \\\n",
       "0  first_name  last_name  gender  past_3_years_bike_related_purchases   \n",
       "1     Chickie    Brister    Male                                   86   \n",
       "2       Morly     Genery    Male                                   69   \n",
       "3     Ardelis  Forrester  Female                                   10   \n",
       "4      Lucine      Stutt  Female                                   64   \n",
       "\n",
       "                   DOB                   job_title  job_industry_category  \\\n",
       "0                  DOB                   job_title  job_industry_category   \n",
       "1           1957-07-12             General Manager          Manufacturing   \n",
       "2           1970-03-22         Structural Engineer               Property   \n",
       "3  1974-08-28 00:00:00      Senior Cost Accountant     Financial Services   \n",
       "4           1979-01-28  Account Representative III          Manufacturing   \n",
       "\n",
       "      wealth_segment  deceased_indicator  owns_car  tenure  \\\n",
       "0     wealth_segment  deceased_indicator  owns_car  tenure   \n",
       "1      Mass Customer                   N       Yes      14   \n",
       "2      Mass Customer                   N        No      16   \n",
       "3  Affluent Customer                   N        No      10   \n",
       "4  Affluent Customer                   N       Yes       5   \n",
       "\n",
       "               address  postcode  state    country  property_valuation  Rank  \\\n",
       "0              address  postcode  state    country  property_valuation  Rank   \n",
       "1     45 Shopko Center      4500    QLD  Australia                   6     1   \n",
       "2    14 Mccormick Park      2113    NSW  Australia                  11     1   \n",
       "3  5 Colorado Crossing      3505    VIC  Australia                   5     1   \n",
       "4   207 Annamark Plaza      4814    QLD  Australia                   1     4   \n",
       "\n",
       "     Value  \n",
       "0    Value  \n",
       "1  1.71875  \n",
       "2  1.71875  \n",
       "3  1.71875  \n",
       "4  1.70312  "
      ]
     },
     "execution_count": 40,
     "metadata": {},
     "output_type": "execute_result"
    }
   ],
   "source": [
    "df.head()"
   ]
  },
  {
   "cell_type": "code",
   "execution_count": 42,
   "metadata": {},
   "outputs": [],
   "source": [
    "df.drop(df.index[0],inplace = True)"
   ]
  },
  {
   "cell_type": "code",
   "execution_count": 43,
   "metadata": {},
   "outputs": [
    {
     "data": {
      "text/html": [
       "<div>\n",
       "<style scoped>\n",
       "    .dataframe tbody tr th:only-of-type {\n",
       "        vertical-align: middle;\n",
       "    }\n",
       "\n",
       "    .dataframe tbody tr th {\n",
       "        vertical-align: top;\n",
       "    }\n",
       "\n",
       "    .dataframe thead th {\n",
       "        text-align: right;\n",
       "    }\n",
       "</style>\n",
       "<table border=\"1\" class=\"dataframe\">\n",
       "  <thead>\n",
       "    <tr style=\"text-align: right;\">\n",
       "      <th></th>\n",
       "      <th>first_name</th>\n",
       "      <th>last_name</th>\n",
       "      <th>gender</th>\n",
       "      <th>past_3_years_bike_related_purchases</th>\n",
       "      <th>DOB</th>\n",
       "      <th>job_title</th>\n",
       "      <th>job_industry_category</th>\n",
       "      <th>wealth_segment</th>\n",
       "      <th>deceased_indicator</th>\n",
       "      <th>owns_car</th>\n",
       "      <th>tenure</th>\n",
       "      <th>address</th>\n",
       "      <th>postcode</th>\n",
       "      <th>state</th>\n",
       "      <th>country</th>\n",
       "      <th>property_valuation</th>\n",
       "      <th>Rank</th>\n",
       "      <th>Value</th>\n",
       "    </tr>\n",
       "  </thead>\n",
       "  <tbody>\n",
       "    <tr>\n",
       "      <td>1</td>\n",
       "      <td>Chickie</td>\n",
       "      <td>Brister</td>\n",
       "      <td>Male</td>\n",
       "      <td>86</td>\n",
       "      <td>1957-07-12</td>\n",
       "      <td>General Manager</td>\n",
       "      <td>Manufacturing</td>\n",
       "      <td>Mass Customer</td>\n",
       "      <td>N</td>\n",
       "      <td>Yes</td>\n",
       "      <td>14</td>\n",
       "      <td>45 Shopko Center</td>\n",
       "      <td>4500</td>\n",
       "      <td>QLD</td>\n",
       "      <td>Australia</td>\n",
       "      <td>6</td>\n",
       "      <td>1</td>\n",
       "      <td>1.71875</td>\n",
       "    </tr>\n",
       "    <tr>\n",
       "      <td>2</td>\n",
       "      <td>Morly</td>\n",
       "      <td>Genery</td>\n",
       "      <td>Male</td>\n",
       "      <td>69</td>\n",
       "      <td>1970-03-22</td>\n",
       "      <td>Structural Engineer</td>\n",
       "      <td>Property</td>\n",
       "      <td>Mass Customer</td>\n",
       "      <td>N</td>\n",
       "      <td>No</td>\n",
       "      <td>16</td>\n",
       "      <td>14 Mccormick Park</td>\n",
       "      <td>2113</td>\n",
       "      <td>NSW</td>\n",
       "      <td>Australia</td>\n",
       "      <td>11</td>\n",
       "      <td>1</td>\n",
       "      <td>1.71875</td>\n",
       "    </tr>\n",
       "    <tr>\n",
       "      <td>3</td>\n",
       "      <td>Ardelis</td>\n",
       "      <td>Forrester</td>\n",
       "      <td>Female</td>\n",
       "      <td>10</td>\n",
       "      <td>1974-08-28 00:00:00</td>\n",
       "      <td>Senior Cost Accountant</td>\n",
       "      <td>Financial Services</td>\n",
       "      <td>Affluent Customer</td>\n",
       "      <td>N</td>\n",
       "      <td>No</td>\n",
       "      <td>10</td>\n",
       "      <td>5 Colorado Crossing</td>\n",
       "      <td>3505</td>\n",
       "      <td>VIC</td>\n",
       "      <td>Australia</td>\n",
       "      <td>5</td>\n",
       "      <td>1</td>\n",
       "      <td>1.71875</td>\n",
       "    </tr>\n",
       "    <tr>\n",
       "      <td>4</td>\n",
       "      <td>Lucine</td>\n",
       "      <td>Stutt</td>\n",
       "      <td>Female</td>\n",
       "      <td>64</td>\n",
       "      <td>1979-01-28</td>\n",
       "      <td>Account Representative III</td>\n",
       "      <td>Manufacturing</td>\n",
       "      <td>Affluent Customer</td>\n",
       "      <td>N</td>\n",
       "      <td>Yes</td>\n",
       "      <td>5</td>\n",
       "      <td>207 Annamark Plaza</td>\n",
       "      <td>4814</td>\n",
       "      <td>QLD</td>\n",
       "      <td>Australia</td>\n",
       "      <td>1</td>\n",
       "      <td>4</td>\n",
       "      <td>1.70312</td>\n",
       "    </tr>\n",
       "    <tr>\n",
       "      <td>5</td>\n",
       "      <td>Melinda</td>\n",
       "      <td>Hadlee</td>\n",
       "      <td>Female</td>\n",
       "      <td>34</td>\n",
       "      <td>1965-09-21</td>\n",
       "      <td>Financial Analyst</td>\n",
       "      <td>Financial Services</td>\n",
       "      <td>Affluent Customer</td>\n",
       "      <td>N</td>\n",
       "      <td>No</td>\n",
       "      <td>19</td>\n",
       "      <td>115 Montana Place</td>\n",
       "      <td>2093</td>\n",
       "      <td>NSW</td>\n",
       "      <td>Australia</td>\n",
       "      <td>9</td>\n",
       "      <td>4</td>\n",
       "      <td>1.70312</td>\n",
       "    </tr>\n",
       "  </tbody>\n",
       "</table>\n",
       "</div>"
      ],
      "text/plain": [
       "  first_name  last_name  gender past_3_years_bike_related_purchases  \\\n",
       "1    Chickie    Brister    Male                                  86   \n",
       "2      Morly     Genery    Male                                  69   \n",
       "3    Ardelis  Forrester  Female                                  10   \n",
       "4     Lucine      Stutt  Female                                  64   \n",
       "5    Melinda     Hadlee  Female                                  34   \n",
       "\n",
       "                   DOB                   job_title job_industry_category  \\\n",
       "1           1957-07-12             General Manager         Manufacturing   \n",
       "2           1970-03-22         Structural Engineer              Property   \n",
       "3  1974-08-28 00:00:00      Senior Cost Accountant    Financial Services   \n",
       "4           1979-01-28  Account Representative III         Manufacturing   \n",
       "5           1965-09-21           Financial Analyst    Financial Services   \n",
       "\n",
       "      wealth_segment deceased_indicator owns_car tenure              address  \\\n",
       "1      Mass Customer                  N      Yes     14     45 Shopko Center   \n",
       "2      Mass Customer                  N       No     16    14 Mccormick Park   \n",
       "3  Affluent Customer                  N       No     10  5 Colorado Crossing   \n",
       "4  Affluent Customer                  N      Yes      5   207 Annamark Plaza   \n",
       "5  Affluent Customer                  N       No     19    115 Montana Place   \n",
       "\n",
       "  postcode state    country property_valuation Rank    Value  \n",
       "1     4500   QLD  Australia                  6    1  1.71875  \n",
       "2     2113   NSW  Australia                 11    1  1.71875  \n",
       "3     3505   VIC  Australia                  5    1  1.71875  \n",
       "4     4814   QLD  Australia                  1    4  1.70312  \n",
       "5     2093   NSW  Australia                  9    4  1.70312  "
      ]
     },
     "execution_count": 43,
     "metadata": {},
     "output_type": "execute_result"
    }
   ],
   "source": [
    "df.head()"
   ]
  },
  {
   "cell_type": "code",
   "execution_count": 91,
   "metadata": {},
   "outputs": [
    {
     "data": {
      "text/plain": [
       "(1000, 18)"
      ]
     },
     "execution_count": 91,
     "metadata": {},
     "output_type": "execute_result"
    }
   ],
   "source": [
    "df.shape"
   ]
  },
  {
   "cell_type": "markdown",
   "metadata": {},
   "source": [
    "# Checking for COMPLETENESS dimension"
   ]
  },
  {
   "cell_type": "code",
   "execution_count": 45,
   "metadata": {},
   "outputs": [
    {
     "data": {
      "text/plain": [
       "first_name                               0\n",
       "last_name                               29\n",
       "gender                                   0\n",
       "past_3_years_bike_related_purchases      0\n",
       "DOB                                     17\n",
       "job_title                              106\n",
       "job_industry_category                  165\n",
       "wealth_segment                           0\n",
       "deceased_indicator                       0\n",
       "owns_car                                 0\n",
       "tenure                                   0\n",
       "address                                  0\n",
       "postcode                                 0\n",
       "state                                    0\n",
       "country                                  0\n",
       "property_valuation                       0\n",
       "Rank                                     0\n",
       "Value                                    0\n",
       "dtype: int64"
      ]
     },
     "execution_count": 45,
     "metadata": {},
     "output_type": "execute_result"
    }
   ],
   "source": [
    "df.isnull().sum()"
   ]
  },
  {
   "cell_type": "code",
   "execution_count": 93,
   "metadata": {},
   "outputs": [
    {
     "data": {
      "text/plain": [
       "<matplotlib.axes._subplots.AxesSubplot at 0x29736f24f88>"
      ]
     },
     "execution_count": 93,
     "metadata": {},
     "output_type": "execute_result"
    },
    {
     "data": {
      "image/png": "[encoded data removed]",
      "text/plain": [
       "<Figure size 720x360 with 2 Axes>"
      ]
     },
     "metadata": {},
     "output_type": "display_data"
    }
   ],
   "source": [
    "sns.set(rc={'figure.figsize':(10,5)})\n",
    "\n",
    "sns.heatmap(df.isnull(),yticklabels=False)"
   ]
  },
  {
   "cell_type": "markdown",
   "metadata": {},
   "source": [
    "This shows null values present in the columns and at which points in the columns.\n"
   ]
  },
  {
   "cell_type": "markdown",
   "metadata": {},
   "source": [
    "# Checking for ACCURACY, CONSISTENCY, CURRENCY, RELEVANCY, VALIDITY & UNIQUENESS"
   ]
  },
  {
   "cell_type": "code",
   "execution_count": 51,
   "metadata": {},
   "outputs": [
    {
     "data": {
      "text/plain": [
       "array(['Chickie', 'Morly', 'Ardelis', 'Lucine', 'Melinda', 'Druci',\n",
       "       'Rutledge', 'Nancie', 'Duff', 'Barthel', 'Rockwell', 'Wheeler',\n",
       "       'Olag', 'Melba', 'Mandie', 'Dukie', 'Marcelia', 'Winnifred',\n",
       "       'Odilia', 'Karly', 'Teddie', 'Gaston', 'Otis', 'Tabbatha', 'Brena',\n",
       "       'Rourke', 'Dyane', 'Claudine', 'Blinnie', 'Rhona', 'Sharron',\n",
       "       'Brien', 'Sybilla', 'Mikel', 'Maisie', 'Arleen', 'Farlie',\n",
       "       'Mitchell', 'Garik', 'Antonin', 'Vinny', 'Colene', 'Neile',\n",
       "       'Corinna', 'Brooke', 'Gipsy', 'Sheena', 'Jobina', 'Gale',\n",
       "       'Thaxter', 'Heinrick', 'Taylor', 'Griswold', 'Odessa', 'Lavena',\n",
       "       'Martelle', 'Briant', 'Marylou', 'Whittaker', 'Normy', 'Lorrie',\n",
       "       'Jedediah', 'Kaine', 'Loise', 'Cristen', 'Dorothy', 'Rosmunda',\n",
       "       'Rozamond', 'Gunner', 'Vivienne', 'Sherilyn', 'Bessie', 'Kevina',\n",
       "       'Yancy', 'Mabelle', 'Hasheem', 'Tobias', 'Glennis', 'Chanda',\n",
       "       'Katheryn', 'Sumner', 'Valerie', 'Esther', 'Gardie', 'Sean',\n",
       "       'Pietra', 'Marysa', 'Kahaleel', 'Ossie', 'Sid', 'Ludovico',\n",
       "       'Patricia', 'Andromache', 'Levy', 'Nobe', 'Jehu', 'Symon',\n",
       "       'Karlik', 'Bengt', 'Evangelin', 'Hanny', 'Gina', 'Reynold',\n",
       "       'Flossy', 'Griffith', 'Jamie', 'Lyon', 'Aridatha', 'Michal',\n",
       "       'Franciska', 'Jordan', 'David', 'Meriel', 'Dolley', 'Frederik',\n",
       "       'Rollo', 'Jerrine', 'Roddy', 'Viki', 'Ashby', 'Alexander', 'Teddy',\n",
       "       'Peria', 'Ludvig', 'Elsworth', 'Rebeca', 'Ricki', 'Georgetta',\n",
       "       'Bambi', 'Aurie', 'Farris', 'Sharline', 'Nowell', 'Lacy',\n",
       "       'Padraig', 'Malorie', 'Shepperd', 'Daryl', 'Norina', 'My', 'Isak',\n",
       "       'Grannie', 'Welby', 'Glenn', 'Nadiya', 'Tyne', 'Christie',\n",
       "       'Agnella', 'Bernardine', 'Daisy', 'Denys', 'Archibald', 'Feodor',\n",
       "       'Skippie', 'Bill', 'Tessa', 'Roseanne', 'Tedra', 'Roberto',\n",
       "       'Nichole', 'Amil', 'Shawna', 'Fonsie', 'Emilie', 'Robert',\n",
       "       'Elvira', 'Juliana', 'Regine', 'Abner', 'Alvira', 'Sawyer',\n",
       "       'Paten', 'Loria', 'Tanya', 'Devonne', 'Omero', 'Iain', 'Keriann',\n",
       "       'Conroy', 'Dorian', 'Quillan', 'Harlin', 'Eustacia', 'Maury',\n",
       "       'Reggie', 'Brigitte', 'Kinna', 'Maurizio', 'Elbertina', 'Franklin',\n",
       "       'Allyson', 'Ermentrude', 'Alanna', 'Vincent', 'Collete', 'Leonid',\n",
       "       'Charlena', 'Alfonso', 'Engracia', 'Glyn', 'Rosemonde', 'Alano',\n",
       "       'Corrine', 'Benoit', 'Jeanne', 'Jenelle', 'Tannie', 'Mick',\n",
       "       'Abbie', 'Tabbie', 'Shane', 'Roberta', 'Kippy', 'Rosalinde',\n",
       "       'Cami', 'Hunfredo', 'Giorgi', 'Kort', 'Gretna', 'Tobiah',\n",
       "       'Wallace', 'Hersh', 'Hatti', 'Wyn', 'Maribeth', 'Abigale',\n",
       "       'Gothart', 'Danny', 'Vittorio', 'Deborah', 'Agace', 'Rolland',\n",
       "       'Latrena', 'Mariquilla', 'Leticia', 'Harman', 'Farra', 'Robenia',\n",
       "       'Roman', 'Solomon', 'Krystyna', 'Katharine', 'Cammy', 'Ellsworth',\n",
       "       'Federico', 'Ferdy', 'Sunny', 'Shadow', 'Sharai', 'Celeste', 'Lea',\n",
       "       'Dyann', 'Delly', 'Malvin', 'Kaela', 'Evonne', 'Shannen', 'Bogey',\n",
       "       'Zondra', 'Barnebas', 'Alleen', 'Gerri', 'Antonietta', 'Raff',\n",
       "       'Lark', 'Cletis', 'Bartram', 'Theresa', 'Philbert', 'Egon',\n",
       "       'Dahlia', 'Timi', 'Dominick', 'Raye', 'Becka', 'Cirillo', 'Verla',\n",
       "       'Sherrie', 'Dexter', 'Konstanze', 'Bink', 'Taber', 'Debbi',\n",
       "       'Giana', 'Morton', 'Vittoria', 'Paquito', 'Dimitri', 'Shelli',\n",
       "       'Kermit', 'Biddie', 'Rupert', 'Geoff', 'Ange', 'Tiphanie',\n",
       "       'Zollie', 'Emelen', 'Linette', 'Manya', 'Brynna', 'Art', 'Alfi',\n",
       "       'Loleta', 'Aldric', 'Natividad', 'Seamus', 'Guss', 'Julietta',\n",
       "       'Roch', 'Audry', 'Cecelia', 'Clari', 'Zach', 'Paxon', 'Parnell',\n",
       "       'Honey', 'Sonny', 'Deirdre', 'Haleigh', 'Aldridge', 'Zechariah',\n",
       "       'Carry', 'Alon', 'Ahmed', 'Nil', 'Erhard', 'Vitia', 'Haskell',\n",
       "       'Ebony', 'Lincoln', 'Vladimir', 'Kylynn', 'Nicole', 'Celestina',\n",
       "       'Bessy', 'Diego', 'Lucilia', 'Cissiee', 'Eddy', 'Caron', 'Sandor',\n",
       "       'Gallagher', 'Murial', 'Delinda', 'Hussein', 'Giulietta', 'Kaylyn',\n",
       "       'Brynn', 'Tamas', 'Pace', 'Tracy', 'Muffin', 'Allsun', 'Kenneth',\n",
       "       'Clotilda', 'Augustus', 'Daisi', 'Gerik', 'Claresta', 'Arty',\n",
       "       'Giulia', 'Whit', 'Rowan', 'Ian', 'Agneta', 'Reginald', 'Link',\n",
       "       'Harriet', 'Sada', 'Gabrila', 'Almira', 'Alexa', 'Palmer',\n",
       "       'Porter', 'Kizzee', 'Isadora', 'Giffie', 'Fara', 'Carolann',\n",
       "       'Tamar', 'Kipp', 'Packston', 'Hanson', 'Demetria', 'Lura', 'Nora',\n",
       "       'Estevan', 'Aloysius', 'Bastien', 'Otha', 'Gannie', 'Dwayne',\n",
       "       'Leese', 'Dodi', 'Kippar', 'Laurie', 'Mair', 'Tanner', 'Hilliard',\n",
       "       'Justinn', 'Dennis', 'Freddi', 'Salomon', 'Sherill', 'Queenie',\n",
       "       'Etan', 'Donaugh', 'Harwell', 'Cheston', 'Suzy', 'Jobie', 'Guenna',\n",
       "       'Opal', 'Ottilie', 'Kipper', 'Marilin', 'Arel', 'Kit', 'Gregg',\n",
       "       'Skipp', 'Frederich', 'Rodolph', 'Craggie', 'Johna', 'Giralda',\n",
       "       'Rodney', 'Theresina', 'Gleda', 'Melany', 'Claudell', 'Garwin',\n",
       "       'Bunny', 'Matias', 'Anet', 'Katie', 'Celia', 'Stearne', 'Tristam',\n",
       "       'Laurena', 'Heloise', 'Dory', 'Marcellina', 'Gregorius', 'Deana',\n",
       "       'Kori', 'Lucky', 'Erasmus', 'Carita', 'Lynnett', 'Thorn', 'Lela',\n",
       "       'Norah', 'Moina', 'Ceciley', 'Torry', 'Sigismund', 'Irvine',\n",
       "       'Tomkin', 'Genni', 'Blondie', 'Carola', 'Fitzgerald', 'Ingmar',\n",
       "       'Tina', 'Huberto', 'Georgi', 'Adolpho', 'Kelsey', 'Lucien',\n",
       "       'Ariel', 'Bevvy', 'Alexina', 'Dawn', 'Claudette', 'Elianora',\n",
       "       'Park', 'Anthony', 'Liane', 'Romonda', 'Sula', 'Renell', 'Cliff',\n",
       "       'Clevey', 'Cariotta', 'George', 'Kissiah', 'Milty', 'Killian',\n",
       "       'Fredia', 'Katleen', 'Gaultiero', 'Inglebert', 'Jammal', 'Adriane',\n",
       "       'Jodi', 'Emelia', 'Andee', 'Isa', 'Zabrina', 'Maddalena', 'Sofie',\n",
       "       'Elmira', 'Free', 'Worthington', 'Bailey', 'Perry', 'Antony',\n",
       "       'Corene', 'Nico', 'Joline', 'Ivy', 'Dallas', 'Amabel', 'Hilario',\n",
       "       'Jim', 'Jacobo', 'Gretel', 'Jethro', 'Dwain', 'Lucretia', 'Claude',\n",
       "       'Donn', 'Laurel', 'Angie', 'Terrence', 'Katy', 'Sammy',\n",
       "       'Morganica', 'Nils', 'Beverlee', 'Reiko', 'Cord', 'Gabey',\n",
       "       'Jacqui', 'Byrom', 'Chico', 'Davidde', 'Charlie', 'Kamila',\n",
       "       'Barth', 'Padriac', 'Olive', 'Benedict', 'Virginia', 'Nicolas',\n",
       "       'Oswald', 'Ailyn', 'Karol', 'Esdras', 'Wilfrid', 'Charmain',\n",
       "       'Harlene', 'Kirsteni', 'Bobby', 'Shepherd', 'Berenice', 'Jesse',\n",
       "       'Cordi', 'Debbie', 'Judie', 'Flin', 'Noel', 'Letizia', 'Raynard',\n",
       "       'Kiley', 'Ethelred', 'Dena', 'Wyndham', 'Rochette', 'Jamal',\n",
       "       'Levin', 'Marinna', 'Kyle', 'Lanie', 'Gilbert', 'Gerianne',\n",
       "       'Chaim', 'Anson', 'Caitrin', 'Garreth', 'Annabell', 'Maximilian',\n",
       "       'Ajay', 'Jamison', 'Nicol', 'Agna', 'Nev', 'Lucius', 'Francisca',\n",
       "       'Mariette', 'Nanni', 'Delcina', 'Lek', 'Kellyann', 'Ewell',\n",
       "       'Madison', 'Ardis', 'Marissa', 'Terrel', 'Augie', 'Dillon',\n",
       "       'Osbourn', 'Lissa', 'Leisha', 'Kearney', 'Shellysheldon',\n",
       "       'Reinhard', 'Menard', 'Andree', 'Kata', 'Pierrette', 'Nady',\n",
       "       'Demott', 'Wendye', 'Irvin', 'Madella', 'Austine', 'Wolf', 'Aldin',\n",
       "       'Sindee', 'Truman', 'Gordon', 'Israel', 'Caritta', 'Annabelle',\n",
       "       'Darryl', 'Orly', 'Margette', 'Stephen', 'Giselbert', 'Lisette',\n",
       "       'Chicky', 'Xenia', 'Essie', 'Cecil', 'Lillis', 'Ted', 'Nixie',\n",
       "       'Briana', 'Cobbie', 'Wrennie', 'Sibylla', 'Kariotta', 'Wylie',\n",
       "       'Lizbeth', 'Averil', 'Myrtie', 'Ross', 'Sibby', 'Selle', 'Andrew',\n",
       "       'Maurizia', 'Keenan', 'Davide', 'Renie', 'Willard', 'Debby',\n",
       "       'Rockie', 'Harvey', 'Patrice', 'Arman', 'Gardiner', 'Cathleen',\n",
       "       'Thaddus', 'Josepha', 'Jillane', 'Lynnell', 'Ferdinand', 'Emeline',\n",
       "       'Roldan', 'Alta', 'Marc', 'Bertine', 'Wilbert', 'Seymour', 'Miran',\n",
       "       'Dorotea', 'Jenny', 'Hyman', 'Beatrix', 'Nalani', 'Brendis',\n",
       "       'Jaimie', 'Glendon', 'Calida', 'Hallsy', 'Lanny', 'Son', 'Halette',\n",
       "       'Killie', 'Mandi', 'Kylila', 'Yardley', 'Hamel', 'Fancie',\n",
       "       'Zebulen', 'Micheil', 'Cecily', 'Glory', 'Sinclair', 'Tomaso',\n",
       "       'Gilli', 'Errick', 'Damian', 'Agnola', 'Riki', 'Mikol', 'Phyllis',\n",
       "       'Burt', 'Adriana', 'Trudie', 'Frederigo', 'Glenda', 'Darb', 'Cal',\n",
       "       'Stephani', 'Meade', 'Flore', 'Leighton', 'Petr', 'Yorgos',\n",
       "       'Simmonds', 'Hagen', 'Cazzie', 'Simonette', 'Andrea', 'Juliann',\n",
       "       'Janaye', 'Dylan', 'Mel', 'Elvin', 'Dmitri', 'Sonni', 'Kellina',\n",
       "       'Yuma', 'Ashleigh', 'Therese', 'Pansie', 'Reinaldos', 'Calhoun',\n",
       "       'Winn', 'Rafi', 'Fey', 'Verne', 'Eleonora', 'Fayre', 'Eachelle',\n",
       "       'Carl', 'Cordie', 'Jackie', 'Carroll', 'Frans', 'Amara', 'Cherye',\n",
       "       'Ansell', 'Erminie', 'Rosene', 'Darlleen', 'Bryon', 'Sherwin',\n",
       "       'Luci', 'Sloan', 'Otes', 'Davie', 'Dorolice', 'Rikki', 'Adria',\n",
       "       'Rand', 'Rowen', 'Boothe', 'Noak', 'Callean', 'Keelby', 'Rodrique',\n",
       "       'Brod', 'Manny', 'Becky', 'Herbert', 'Cristie', 'Renate', 'Toma',\n",
       "       'Dorie', 'Ellie', 'Leonora', 'Teodor', 'Jared', 'Porty', 'Andy',\n",
       "       'Monty', 'Briano', 'Ginger', 'Logan', 'Nichols', 'Catha', 'Melosa',\n",
       "       'Maris', 'Wilburt', 'Rosabelle', 'Guilbert', 'Meridith', 'Leeland',\n",
       "       'Gerta', 'Karrah', 'Alick', 'Casandra', 'Maurine', 'Darwin',\n",
       "       'Hayes', 'Piper', 'Markus', 'Sile', 'Craggy', 'Egor', 'Reinald',\n",
       "       'Kissie', 'Quentin', 'Karoly', 'Clarine', 'Mycah', 'Clemmie',\n",
       "       'Randall', 'Donica', 'Lotty', 'Marie-jeanne', 'Babara', 'Rodolphe',\n",
       "       'Thorvald', 'Paulina', 'Lizette', 'Jeno', 'Brigg', 'Judi', 'Shara',\n",
       "       'Raleigh', 'Zachariah', 'Lesley', 'Adriena', 'Antoinette', 'Carr',\n",
       "       'Shay', 'Karney', 'Kelcie', 'Fabio', 'Heall', 'Rickert', 'Hedwig',\n",
       "       'Penrod', 'Pancho', 'Andriana', 'Nilson', 'Denny', 'Roth', 'Olia',\n",
       "       'Conway', 'Dru', 'Shaw', 'Brook', 'Aleece', 'Dolorita',\n",
       "       'Hildegarde', 'Launce', 'Ilise', 'Julita', 'Ashlen', 'Keely',\n",
       "       'Poul', 'Sheilakathryn', 'Rubia', 'Francklin', 'Wilone', 'Lezlie',\n",
       "       'Kathe', 'Dulce', 'Felice', 'Joane', 'Diane', 'Ogdan', 'Stephi',\n",
       "       'Martino', 'Morgen', 'Eugenie', 'Reinold', 'Jo', 'Jacklin',\n",
       "       'Colas', 'Claudetta', 'Angele', 'Cicily', 'Harland', 'Sim',\n",
       "       'Shanon', 'Chryste', 'Edin', 'Nolly', 'Michele', 'Candy', 'Noami',\n",
       "       'Lyndell', 'Maximilien', 'Benedikta', 'Rhodie', 'Afton',\n",
       "       'Blondell', 'Sonia', 'Benedikt', 'Don', 'Moll', 'Jammie', 'Inglis',\n",
       "       'Clarabelle', 'Tillie', 'Irving', 'Evered', 'Mavra', 'Frieda',\n",
       "       'Ellwood', 'Alex', 'Aundrea', 'Amby', 'Esme', 'Beverly', 'Artemis',\n",
       "       'Daryle', 'Leona', 'Bertrando', 'Augusta', 'Pauline', 'Lauralee',\n",
       "       'Consalve', 'Lolly', 'Vyky', 'Kellen', 'Jermaine', 'Bryan',\n",
       "       'Weidar', 'Datha', 'Burk', 'Melloney', 'Dickie', 'Sylas'],\n",
       "      dtype=object)"
      ]
     },
     "execution_count": 51,
     "metadata": {},
     "output_type": "execute_result"
    }
   ],
   "source": [
    "df.first_name.unique()"
   ]
  },
  {
   "cell_type": "code",
   "execution_count": 100,
   "metadata": {},
   "outputs": [
    {
     "data": {
      "text/plain": [
       "array(['Brister', 'Genery', 'Forrester', 'Stutt', 'Hadlee', 'Brandli',\n",
       "       'Hallt', 'Vian', 'Karlowicz', 'Docket', 'Matson', 'Winward', nan,\n",
       "       'Spellacy', 'Feares', 'Swire', 'Monkleigh', 'Beswetherick',\n",
       "       'Quick', 'Willavize', 'Burchill', 'Dallaghan', 'Ottey', 'Averill',\n",
       "       'Schnitter', 'Gillbard', 'Burwell', 'Barstowk', 'Roze',\n",
       "       'De Freyne', 'Claibourn', 'Heaton', 'MacCart', 'McNess', 'Maddox',\n",
       "       'Casbolt', 'Petford', 'MacCague', 'Whitwell', 'Britt', 'Incogna',\n",
       "       'Fishleigh', 'Argent', 'Suggey', 'Arling', 'Ewestace', 'Kybbye',\n",
       "       'Gobourn', 'Disbrow', 'Kingsbury', 'Shilstone', 'Steuhlmeyer',\n",
       "       'Kelsall', 'Mc Andrew', 'Seekings', 'Tuppeny', 'Ladley', 'Kirkup',\n",
       "       'Goodinge', 'Antonelli', 'Kedie', 'Smallcombe', 'Iltchev',\n",
       "       'Maroney', 'Barnardo', 'Duxbarry', 'Riha', 'Petti', 'Crayden',\n",
       "       'Canero', 'Roscow', 'Ferandez', 'Clementet', 'Wellbelove',\n",
       "       'Groucock', 'Woodhams', 'Flintoff', 'Mensler', 'Kinner',\n",
       "       'Carrivick', 'Pickover', 'Rooson', 'Crellim', \"O'Loughlin\",\n",
       "       'Buckleigh', 'Rouchy', 'Midden', 'Carlone', 'Juster', 'Everix',\n",
       "       'Bonafacino', 'Abramamov', 'McAughtry', 'Prestedge', 'Mawne',\n",
       "       'Penchen', 'Bilson', 'Boc', 'Treven', 'Mallon', 'Elman',\n",
       "       'Concannon', 'Wiltshire', 'Escot', 'Jiruca', 'Brittan', 'Sephton',\n",
       "       'Bryan', 'Stigell', 'Clampe', 'Napoleon', 'Tapp', 'Starmont',\n",
       "       'Milan', 'Louedey', 'Cosbey', 'Rubinshtein', 'Coutts', 'Bispham',\n",
       "       'Broadbent', 'Lagadu', 'Rantoull', 'Andren', 'Abbitt', 'Aggas',\n",
       "       'Dobrowski', 'Lovett', 'Cogger', 'Rhead', 'Skettles', 'Abyss',\n",
       "       'Preddy', 'Drance', 'Snel', 'Votier', 'Ricards', 'Pauncefort',\n",
       "       'Blakeway', 'Chaston', 'Bergstram', 'Cracker', 'Lourenco',\n",
       "       'Casbourne', 'Balasini', 'Coate', 'Anders', 'Capener', 'Delmonti',\n",
       "       'Spowart', 'Minshall', 'Blessed', 'Englishby', 'Yearsley',\n",
       "       'Friese', 'Caruth', 'Goodbanne', 'Harme', 'Leisman', 'Ennor',\n",
       "       'Hinrichsen', 'Levane', 'Brody', 'Corkill', 'Kurten', 'Mitchenson',\n",
       "       'Bownes', 'Fraschetti', 'Coulman', 'Sponton', 'Vickers', 'Cayet',\n",
       "       'Tappington', 'Kiefer', 'Alderwick', 'McDonand', 'Haversham',\n",
       "       'Newham', 'Rappaport', 'Rustman', 'Guinane', 'Mazin', 'Dornan',\n",
       "       'Galego', 'Kernar', 'Whellams', 'Kollasch', 'Comi', 'Fendley',\n",
       "       'Wohler', 'Petchell', 'Heindle', 'Lerway', 'Jopke', 'Jeffryes',\n",
       "       'Dory', 'Dorricott', 'Berney', 'Massel', 'Dobbs', 'Cartwight',\n",
       "       'Satchel', 'Baribal', 'Harniman', 'Darte', 'Fearnill', 'Gambrell',\n",
       "       'Macewan', 'Oldman', 'Curner', 'Killen', 'Goodale', 'Barabisch',\n",
       "       'Cubuzzi', 'Barnbrook', 'Stollen', 'Hayball', \"O'Shirine\",\n",
       "       'Disley', 'Thredder', 'Heinsius', 'Newart', 'Stubbert', 'Carletti',\n",
       "       'Saynor', 'Stivani', 'Sives', 'Artus', 'Bodle', 'Boxen',\n",
       "       'Petrovsky', 'Hedge', 'Esmead', 'Walklate', 'Springthorpe',\n",
       "       'Danovich', 'Lynds', 'Matyushkin', 'Monks', 'Eastwood', 'Bruck',\n",
       "       'Airey', 'Redbourn', 'Stoneham', 'Andrieux', 'Leuty', 'Hornung',\n",
       "       'Christescu', 'Yakutin', 'Priddie', 'Fretson', 'Ilyinski',\n",
       "       'Olechnowicz', 'Sunman', 'Ryhorovich', 'Hamberston', 'Romaines',\n",
       "       'Bembridge', 'Lewin', 'Attew', 'Ringham', 'Apfel', 'Eaken',\n",
       "       'Schimann', 'Egle', 'Waycott', 'Gonet', 'Longley', 'Di Lucia',\n",
       "       'Cowper', 'Raraty', 'Ortells', 'Shovlar', 'Duny', 'Asher', 'Roo',\n",
       "       'Hacon', 'Frossell', 'Dumingos', 'Godleman', 'Shutle', 'Hovie',\n",
       "       'Bentje', 'Szymon', 'Dannatt', 'Staresmeare', 'Petkens', 'Whitney',\n",
       "       'Atwood', 'Tribbeck', 'Bartholomaus', 'Lebond', 'Gorce', 'Marrow',\n",
       "       'Sitford', 'Chitham', 'Blackader', 'Crinidge', 'Pollen', 'Bidnall',\n",
       "       'Boman', 'Abramovici', 'Tivers', 'Carolan', 'Sabbins', 'Aberdalgy',\n",
       "       'Birney', 'Balducci', 'Dymick', 'Cains', 'Karim', 'Setchfield',\n",
       "       'Symson', 'Fann', 'Cisar', 'Voas', 'Hedman', 'Roomes', 'Lamprey',\n",
       "       'Gosdin', 'McCart', 'Turtle', 'Burgoine', 'Poskitt', 'McReidy',\n",
       "       'Costi', 'Pickthorne', 'Shirer', \"O'Moylane\", 'Axtens', 'Moxted',\n",
       "       'Conrad', 'Boler', 'Westmerland', 'Drowsfield', 'Ruckhard',\n",
       "       'Lethardy', 'Petrakov', 'Saladin', 'Van den Broek', 'Pollington',\n",
       "       'Sturch', 'Kezar', 'Stirland', 'Bromell', 'Bulloch', 'Ech',\n",
       "       'Tapenden', 'Garbott', 'Jakaway', 'Goodyear', 'Swatman',\n",
       "       'Clemonts', 'Andrejevic', 'Grigolon', 'Biner', 'Elleyne',\n",
       "       'Southers', 'Bourley', 'Tinwell', 'Woodroof', 'MacConnulty',\n",
       "       'Fontelles', 'Hazart', 'Emloch', 'Summerly', 'Rabat', 'McAmish',\n",
       "       'Jermy', 'Gorini', 'Brattan', 'Branton', 'Mc-Kerley', 'Toopin',\n",
       "       'Mangion', 'Strudwick', 'Dillet', 'Heaven', 'Buckenhill',\n",
       "       'Kemston', 'Ducker', 'Offill', 'Sarath', 'Raatz', 'Windmill',\n",
       "       'Stockport', 'Wackett', 'Eastes', 'Bausor', 'Fawdrie', 'Anselm',\n",
       "       'Eastment', 'Glowacz', 'Ibbeson', 'Langworthy', 'Bargh', 'Doel',\n",
       "       'Huckleby', 'Kiggel', 'Brimilcome', 'Beretta', 'Odlin', 'Erett',\n",
       "       'Copins', 'Terlinden', 'Dullard', 'Haruard', 'Meach', 'Shardlow',\n",
       "       'Varnham', 'Litherborough', 'Perkins', 'Learie', 'Prinett',\n",
       "       'Benedict', 'Kleinstein', 'Hritzko', 'Trounson', 'Runacres',\n",
       "       'Filisov', 'Cleare', 'Wanless', 'Circuit', 'Frome', 'Abramovitz',\n",
       "       'Easdon', 'Aimeric', 'Swales', 'Glantz', 'Denniss', 'Dering',\n",
       "       'Bunker', 'MacPeake', 'Trethewey', 'Howerd', 'Ladewig',\n",
       "       'Rounsefell', 'Nurden', 'Leebetter', 'Melloi', 'Dowyer', 'Roseman',\n",
       "       'Warhurst', 'Bryden', 'Trolley', 'Larose', 'Fairpool', 'Malpass',\n",
       "       'Baynton', 'Leal', 'Canton', 'Sparsholt', 'Klainman', 'Olenchenko',\n",
       "       'Sand', 'Tipper', 'Stigers', 'Billing', 'Mapis', 'Rosenbaum',\n",
       "       'Harg', 'de la Valette Parisot', 'Sedger', 'Headon', 'Bernlin',\n",
       "       'Fanstone', 'Killingsworth', 'Philler', 'Hellikes', 'Okenden',\n",
       "       'Dunstan', 'Mollatt', 'Bellerby', 'Hatt', 'McCloid', 'Openshaw',\n",
       "       'Mabley', 'Pyffe', 'Renackowna', 'Poolton', 'Lindstrom', 'Poizer',\n",
       "       'Thomann', 'Earley', 'Philipsson', 'Aisthorpe', 'Jose', 'Foat',\n",
       "       'Brauninger', 'Nettles', 'Favelle', 'Arnoult', 'Fibbens',\n",
       "       'Aspinal', 'Devenny', 'Richardson', 'Lermit', 'Ackwood', 'Huke',\n",
       "       'Fominov', 'Margram', 'Angood', 'Worsfold', 'Vasilyev', 'Rowland',\n",
       "       'Cohane', 'Bereford', 'Whitehurst', 'Tuma', 'Hallgate', 'Chadwick',\n",
       "       'Skipperbottom', 'Farr', 'Lavalde', 'McCulloch', 'Haddrell',\n",
       "       'Mucklow', 'Paschke', 'Mertel', 'Hatch', \"D'Agostini\", 'Bowstead',\n",
       "       'MacGregor', 'Devennie', 'Darthe', 'Tansley', 'Dalligan', 'Crooke',\n",
       "       'Borsi', 'Ainsbury', 'Champion', 'Querree', 'Eitter', 'Degenhardt',\n",
       "       'Dunsmore', 'Kennicott', 'Devey', 'Ramas', 'Ahmed', 'Dye',\n",
       "       'Cockroft', 'Dmych', 'Chaney', 'Parsonage', 'Sapshed',\n",
       "       'Collacombe', 'Mozzi', 'Rosas', 'De Antoni', \"O'Donnell\",\n",
       "       'MacCarlich', 'Howgate', 'Salthouse', 'Birchett', 'Gertray',\n",
       "       'Styles', 'Nono', 'Gritskov', 'Summersby', 'Dutchburn',\n",
       "       'Kaesmakers', 'Crosio', 'Thornton', 'Tillman', 'Pirkis',\n",
       "       'Yoskowitz', 'Poore', 'Grunder', 'Sissel', 'Pabst', 'Woolford',\n",
       "       'Haddacks', 'Dudgeon', 'Coxen', 'Kauschke', 'Michie', 'Cobbold',\n",
       "       \"O'Fallone\", 'Kaysor', 'McOnie', 'Kingdon', 'Dearnaly', 'Critten',\n",
       "       'Minett', 'Sommer', 'Downer', 'Geffen', 'Worham', 'Cashin',\n",
       "       'Emery', 'Swinford', 'Cowpe', 'Prosh', 'Hatchell', 'Pottage',\n",
       "       'Brookz', 'Ungerechts', 'Girodias', 'Hursey', 'Pimblett', 'Adshad',\n",
       "       'Paulusch', 'Lars', 'Taree', 'Godsil', \"O'Scandall\", 'Keynd',\n",
       "       'Swallwell', 'Bannister', 'Gherardini', 'Gawn', 'McConway',\n",
       "       'Cuddehy', 'Bichard', 'Oscroft', 'Venmore', 'Breeds', 'Harrop',\n",
       "       'Gummie', 'Withinshaw', 'Mullaly', 'Kleinplatz', 'Bevans',\n",
       "       'Marquiss', 'Speedy', 'Craft', 'Newsome', 'Jasik', 'Arlett',\n",
       "       'Rewan', 'Brough', 'Hovenden', 'Compston', 'Hanwell', 'Hovee',\n",
       "       'Nesbitt', 'Gibard', 'Bertot', 'Trowsdale', 'Tittershill',\n",
       "       'Pickring', 'Diss', 'Davers', 'Sinclar', 'Whyatt', 'Maleck',\n",
       "       'Withur', 'Gant', 'Eshmade', 'Izacenko', 'Shoesmith', 'Trill',\n",
       "       'Bruyett', 'Dwelly', 'Kibble', 'Naper', 'Huntingdon', 'Garvan',\n",
       "       'Ackery', 'Ostrich', 'Vidgen', 'Skinner', 'Casper', 'Froment',\n",
       "       'Ritmeyer', 'Moriarty', 'Senten', 'Fiveash', 'Booton', 'Balmadier',\n",
       "       'MacKibbon', 'Dwelley', 'Pariss', 'Yakubov', 'Gypps', 'Le Teve',\n",
       "       'Joder', 'Clamp', 'Simion', 'MacAdie', 'Billie', 'Bussens',\n",
       "       'Vezey', 'Baylis', 'Raybould', 'Weare', 'Pithcock', 'Keunemann',\n",
       "       'Smalles', \"O'Loughnan\", 'Fellibrand', 'Runchman', 'Fenwick',\n",
       "       'Massy', 'Petrolli', 'McGivena', 'Hallad', 'Butland', 'Pineaux',\n",
       "       'Lancastle', 'Malham', 'Bentke', 'Schaben', 'Voysey', 'Currall',\n",
       "       'Varney', 'Caltun', 'Densie', 'Adamsson', 'Basezzi', 'Matten',\n",
       "       'Leonards', 'Curzey', 'Woofendell', 'Emtage', 'Fleote', 'Faircley',\n",
       "       'Chilcott', 'Wark', 'Horsley', 'Christophers', 'Burgin', 'Renard',\n",
       "       'Batterson', 'Wandtke', 'Eck', 'Wibberley', 'Vasechkin',\n",
       "       'Saundercock', 'Phinnessy', 'Cribbott', 'Eliet', 'Van den Velde',\n",
       "       'Sidsaff', 'Bampton', 'Cashen', 'Firbanks', 'Westman', 'Dewhurst',\n",
       "       'Bapty', 'MacCarter', 'Stanwix', 'Gwillym', 'Sturgeon', 'Pendle',\n",
       "       'Siemantel', 'Eade', 'Stranio', 'Rochford', 'Trayhorn', 'Viant',\n",
       "       'Milligan', 'Haygreen', 'Dennick', 'Brotherhood', 'Beccero',\n",
       "       'Simmig', 'Mussington', 'Wells', 'Brettelle', 'Loalday',\n",
       "       'Wiszniewski', 'Brannigan', 'Noirel', 'Troyes', 'Brankley', 'Pays',\n",
       "       'Schlagman', 'Idale', 'Clow', 'Morison', 'Stanfield', 'Tolhurst',\n",
       "       'Rabidge', 'Beckey', 'Shalcras', 'Goundry', 'Minocchi', 'Dyter',\n",
       "       'Pudney', 'Elegood', 'Blay', 'Osmon', 'McReedy', 'Chaffey',\n",
       "       'Hencke', 'Winchcum', 'Sollas', 'Hayselden', 'Sleany', 'Wass',\n",
       "       'Sudlow', 'Vernon', 'Attrey', 'Mandy', 'Lassen', 'Heakey',\n",
       "       'Henryson', 'Bence', 'Whyte', 'Woolforde', 'Dunleavy', 'Toope',\n",
       "       'Swetenham', 'Mullinder', 'Fendlow', 'Hansed', 'Deeming',\n",
       "       'Thomazin', 'Janowski', 'Colomb', 'Devinn', 'Davitt', 'McOwan',\n",
       "       'Leete', 'Padden', 'Godsmark', 'Bearns', 'Urwin', 'Porrett',\n",
       "       'Howell', 'Baise', 'Betteridge', 'Clee', 'Bumpas', 'Daveren',\n",
       "       'Issacov', 'Pendrey', 'Zappel', 'Happel', 'Mariette', 'Bembrigg',\n",
       "       'Line', 'Gerleit', 'Piecha', 'Beaston', 'Bartoszewicz', 'Mason',\n",
       "       'Humby', 'Loach', 'Breawood', 'Glenton', 'Duckerin', 'Iannuzzelli',\n",
       "       'Padefield', 'McKeaveney', 'Bhar', 'Strafford', 'Himsworth',\n",
       "       'Cazereau', 'Bramhill', 'Pont', 'Meininking', 'Garey', 'Giffin',\n",
       "       'Hopkynson', 'Briand', 'Burstow', 'Yetts', 'Alflat', 'Kingaby',\n",
       "       'Commuzzo', 'Andrioli', 'Brasted', 'Jayme', 'Tomasicchio', 'Edis',\n",
       "       'Gosnoll', 'Wiggam', 'Spleving', 'Crum', \"O' Mullan\", 'Juarez',\n",
       "       'MacEvilly', 'Feige', 'Strutton', \"A'field\", 'Bamb', 'Gale',\n",
       "       'Clissold', 'Prene', 'Willbond', 'Bointon', 'Gaskin', 'Huff',\n",
       "       'Evetts', 'Cross', 'Champley', 'Clemits', 'Oller', 'Bradwell',\n",
       "       'Dechelette', 'Caldes', 'Furman', 'Blenkinship', 'Agget',\n",
       "       'Highton', 'Scoles', 'Newport', 'Brinson', 'Natt', 'Roberts',\n",
       "       'Duchant', 'Gabbitas', 'Ricciardiello', 'Cadore', 'Hast',\n",
       "       'Messenger', 'Constantinou', 'Rolfe', 'Oddboy', 'Patinkin',\n",
       "       'Ivanchikov', 'Pammenter', 'Abelevitz', 'Bangs', 'Cokly',\n",
       "       'Jereatt', 'Bourget', 'Naptin', 'Gaskall', 'Andrassy', 'Dibdall',\n",
       "       'Dunstall', 'Adamou', 'Spratling', 'Ogilby', 'Seldner', 'Pickaver',\n",
       "       'Broschek', 'Bisseker', 'Babcock', 'Gludor', 'Finan', 'Tavinor',\n",
       "       'Budden', 'Patshull', 'Outridge', 'Bodega', 'Pilipets', 'Domnick',\n",
       "       'Swanson', 'Marginson', 'Anshell', 'Shorrock', 'Carass', 'Munns',\n",
       "       'Dallosso', 'Fudge', 'Ballay', 'Prewer', 'Pegg', 'Pawelski',\n",
       "       'Bagshawe', 'Jachtym', 'Laundon', 'Etheridge', 'Fishburn',\n",
       "       'Romanetti', 'Wortley', 'Temby', 'Cubbini', 'Duffill'],\n",
       "      dtype=object)"
      ]
     },
     "execution_count": 100,
     "metadata": {},
     "output_type": "execute_result"
    }
   ],
   "source": [
    "df.last_name.unique()"
   ]
  },
  {
   "cell_type": "markdown",
   "metadata": {},
   "source": [
    "The unique first name and last name values are a huge number in the DataFrame as it can be seen above."
   ]
  },
  {
   "cell_type": "code",
   "execution_count": 54,
   "metadata": {},
   "outputs": [
    {
     "data": {
      "text/plain": [
       "array(['Male', 'Female', 'U'], dtype=object)"
      ]
     },
     "execution_count": 54,
     "metadata": {},
     "output_type": "execute_result"
    }
   ],
   "source": [
    "df.gender.unique()"
   ]
  },
  {
   "cell_type": "code",
   "execution_count": 101,
   "metadata": {},
   "outputs": [
    {
     "data": {
      "text/plain": [
       "array(['86', '69', '10', '64', '34', '39', '23', '74', '50', '72', '94',\n",
       "       '48', '60', '38', '32', '88', '61', '83', '65', '2', '11', '44',\n",
       "       '26', '5', '78', '19', '71', '84', '45', '62', '70', '27', '76',\n",
       "       '58', '73', '24', '79', '52', '29', '14', '85', '59', '12', '55',\n",
       "       '97', '87', '75', '51', '47', '31', '22', '54', '82', '98', '0',\n",
       "       '36', '15', '53', '9', '8', '49', '93', '25', '91', '18', '30',\n",
       "       '56', '21', '95', '1', '37', '57', '3', '66', '13', '42', '89',\n",
       "       '90', '28', '92', '6', '4', '40', '16', '96', '99', '33', '68',\n",
       "       '67', '7', '35', '46', '41', '17', '81', '63', '20', '80', '43',\n",
       "       '77'], dtype=object)"
      ]
     },
     "execution_count": 101,
     "metadata": {},
     "output_type": "execute_result"
    }
   ],
   "source": [
    "df.past_3_years_bike_related_purchases.unique()"
   ]
  },
  {
   "cell_type": "markdown",
   "metadata": {},
   "source": [
    "The past 3 years bike purchases for different customers.\n"
   ]
  },
  {
   "cell_type": "code",
   "execution_count": 102,
   "metadata": {},
   "outputs": [
    {
     "data": {
      "text/plain": [
       "array(['1957-07-12', '1970-03-22', datetime.datetime(1974, 8, 28, 0, 0),\n",
       "       '1979-01-28', '1965-09-21', '1951-04-29', '1976-10-06',\n",
       "       '1972-12-27', '1972-04-28', '1985-08-02', '1995-01-01',\n",
       "       '1999-08-30', '1990-05-13', '1976-12-09', '1964-04-19',\n",
       "       '1954-03-31', '1993-08-22', datetime.datetime(1976, 6, 8, 0, 0),\n",
       "       '1938-11-09', '1954-08-12', '1968-12-21', '1993-09-29',\n",
       "       '1998-02-05', datetime.datetime(1977, 12, 17, 0, 0), '1982-10-11',\n",
       "       '1945-08-03', '1952-06-27', '1966-07-20', '1960-12-10',\n",
       "       '1960-11-22', '1980-01-26', '1951-11-28', '1987-01-15',\n",
       "       '1981-09-22', datetime.datetime(1977, 5, 9, 0, 0), '1975-05-10',\n",
       "       '1968-03-25', '1979-04-11', '1955-06-13', '1993-08-28',\n",
       "       '1953-02-13', '1985-03-14', '1946-10-25', '1966-09-18',\n",
       "       '1961-12-05', '1956-08-30', '1956-07-16', '1994-12-04',\n",
       "       '1977-05-14', '1950-05-03', datetime.datetime(1978, 2, 11, 0, 0),\n",
       "       '1999-03-22', '1993-12-19', '1981-12-01', '1995-03-25',\n",
       "       '1981-02-03', '1979-12-17', '1972-10-31', '1966-07-29', nan,\n",
       "       '1983-02-11', '1971-12-29', '1942-02-06', '1967-03-18',\n",
       "       '1999-11-21', '1983-02-01', '1996-07-20', '1984-10-07',\n",
       "       '1999-06-08', '1988-09-18', '1996-08-03', '1994-08-04',\n",
       "       '1999-09-21', '1968-02-16', '1958-04-21', '1974-09-17',\n",
       "       '1961-04-15', '1956-10-22', '1972-01-14', '1973-11-28',\n",
       "       '1995-04-09', '1965-09-08', '1981-02-22',\n",
       "       datetime.datetime(1975, 9, 12, 0, 0), '1961-03-22', '1949-04-29',\n",
       "       '1999-02-15', '1942-11-01', '1950-02-10', '1971-08-18',\n",
       "       '1992-04-19', datetime.datetime(1978, 2, 19, 0, 0), '1977-09-01',\n",
       "       '1952-09-21', datetime.datetime(1978, 12, 14, 0, 0), '1999-10-20',\n",
       "       '1943-02-08', '1994-10-31', '1972-11-02', '2000-05-09',\n",
       "       '1991-01-22', '1994-02-11', '1940-01-18', '1980-10-20',\n",
       "       '1961-10-20', '1946-10-23', '1963-06-16', '1972-04-23',\n",
       "       '1961-10-22', '1969-11-09', '1968-11-15', '1939-12-09',\n",
       "       '1961-11-05', '1995-08-13', datetime.datetime(1977, 11, 8, 0, 0),\n",
       "       '1997-11-13', '1946-07-09', '1978-01-11', '1987-10-08',\n",
       "       '1952-12-14', '1981-10-29', '1997-05-28', '1969-07-20',\n",
       "       '1975-03-13', '1941-02-22', '1956-02-08', '1953-02-27',\n",
       "       '1975-03-10', '1940-02-02', '1990-07-12', '1962-07-28',\n",
       "       '1965-07-03', '1960-03-18', '1985-07-23', '1978-02-05',\n",
       "       '1970-11-08', '1990-05-29', '1967-09-27', '1979-06-18',\n",
       "       '1980-02-11', '1966-07-16', '2001-03-08', '1949-03-06',\n",
       "       '1975-12-27', '1981-08-08', '1950-11-05', '1965-07-15',\n",
       "       '1969-10-02', '1969-05-21', '1971-03-31', '1967-12-18',\n",
       "       '1961-12-26', '1969-02-10', '1961-08-14', '1956-09-04',\n",
       "       '1963-04-24', datetime.datetime(1976, 10, 24, 0, 0), '1957-05-25',\n",
       "       '1978-01-15', '1951-06-11', '1986-08-07', '1995-08-04',\n",
       "       '1969-08-27', '1951-07-10', '1979-05-22', '1976-03-12',\n",
       "       '1973-03-18', '1989-01-05', '1952-07-01', '1986-01-23',\n",
       "       '1955-06-05', '1956-02-22', '1989-11-18', '1995-02-19',\n",
       "       '1955-09-06', '1992-07-05', '1939-01-29', '1952-04-01',\n",
       "       '1950-12-26', '1975-03-26', '1965-01-08', '1974-12-09',\n",
       "       '1946-03-24', '1974-03-25', '1985-09-02', '1992-07-27',\n",
       "       '1971-11-28', datetime.datetime(1973, 5, 9, 0, 0), '1986-11-09',\n",
       "       '1996-05-30', '1992-03-27', '1938-10-16', '1970-03-19',\n",
       "       '1969-08-02', '1944-01-05', '1972-03-10', '1981-02-16',\n",
       "       '1990-01-09', '1993-11-18', '1966-01-02', '1940-12-05',\n",
       "       '1959-04-19', '1945-02-13', '1952-10-20', '1998-11-26',\n",
       "       '1948-10-12', '1976-08-27', '1955-08-18', '1958-01-03',\n",
       "       '1967-05-25', '1967-12-12', '1983-11-26', '1997-03-13',\n",
       "       '1956-10-16', '1947-02-28', '2000-04-07', '1997-09-04',\n",
       "       '1963-01-01', '1980-02-16', '1994-04-15', '1981-06-20',\n",
       "       datetime.datetime(1979, 2, 5, 0, 0), '1966-01-08', '2000-01-25',\n",
       "       datetime.datetime(1977, 12, 6, 0, 0), '2000-06-25', '1964-06-22',\n",
       "       '1954-11-13', '1963-12-13', '1978-05-31', '1943-09-24',\n",
       "       '1965-08-15', '1943-07-14', '1997-07-23', '1940-07-13',\n",
       "       '1943-10-05', '1939-04-04', '1941-10-02', '1961-05-27',\n",
       "       '1974-01-24', '1959-05-08', '1969-09-21', '1957-11-15',\n",
       "       '1950-09-05', '1967-09-11', '1963-05-02', '1971-04-26',\n",
       "       '1978-12-11', '1974-05-14', '1975-03-12', '1967-02-03',\n",
       "       '1961-01-16', '1980-09-16', '1997-09-25', '1939-07-17',\n",
       "       '1959-04-11', '1962-03-03', '2000-09-25', '1971-11-27',\n",
       "       '1969-07-06', '1991-06-07', '1992-11-18', '1948-01-13',\n",
       "       '1996-02-19', '1938-08-31', '1969-11-17', '1973-09-25',\n",
       "       '1951-12-16', '1972-01-17', '1996-07-01', '1961-01-03',\n",
       "       '1976-08-24', '1956-06-28', datetime.datetime(1976, 6, 11, 0, 0),\n",
       "       '1966-03-07', '1953-03-12', '1962-10-06',\n",
       "       datetime.datetime(1976, 3, 7, 0, 0), '1968-10-14', '1971-09-18',\n",
       "       datetime.datetime(1978, 4, 2, 0, 0), '1959-01-05', '1967-01-09',\n",
       "       '1957-03-23', '1947-04-22', '1958-12-28', '1976-04-20',\n",
       "       '1990-11-13', '1981-06-03', '1972-07-30', '1958-12-07',\n",
       "       '1963-05-11', '1980-02-01', '1988-01-30', '1970-08-08',\n",
       "       '1965-02-27', '1991-02-14', '1947-10-08', '1988-01-10',\n",
       "       '1993-08-09', '1981-08-05', '1949-05-20', '1955-07-17',\n",
       "       '1974-08-09', '1954-11-09', '1959-06-12', '1981-02-15',\n",
       "       '1971-08-19', '1991-02-07', '1965-12-13', '1989-12-15',\n",
       "       '1968-11-24', '1992-01-31', '1978-05-13', '1957-10-17',\n",
       "       '1985-03-26', '1955-07-28', '1981-09-11',\n",
       "       datetime.datetime(1976, 11, 6, 0, 0), '1977-04-08', '1981-11-29',\n",
       "       '1992-08-27', '1955-01-08', '1952-05-19', '1982-02-10',\n",
       "       datetime.datetime(1978, 7, 22, 0, 0), '1972-11-26', '1999-06-23',\n",
       "       '1959-12-25', '1997-09-27', '1978-05-27', '1945-08-08',\n",
       "       '1943-08-27', '1999-10-24', '1976-01-24', '1956-06-19',\n",
       "       '1975-03-28', '1969-10-09', '1968-12-11', '1951-11-27',\n",
       "       '1939-12-22', '1964-09-28', '1952-04-15', '1941-07-21',\n",
       "       '1961-02-11', '1953-08-08', '1981-05-26', '1956-12-02',\n",
       "       '1964-10-01', '1944-10-21', '1953-10-19', '2002-02-27',\n",
       "       '1980-07-30', '1944-11-10', '1971-01-11', '1990-07-28',\n",
       "       '1979-10-31', '1997-12-26', '1957-09-03', '1999-11-08',\n",
       "       '1981-08-17', '1971-12-24', '1959-06-13', '1957-10-01',\n",
       "       '1994-10-21', datetime.datetime(1978, 8, 2, 0, 0), '1963-08-20',\n",
       "       '1974-07-05', '1975-08-04', '1960-09-12',\n",
       "       datetime.datetime(1974, 11, 9, 0, 0), '1986-12-03', '1974-06-24',\n",
       "       '1942-01-23', '1963-01-14', '1996-01-24', '1964-01-31',\n",
       "       '1944-10-05', '1995-05-18', '1954-06-14', '1961-09-29',\n",
       "       '1973-08-25', '1993-03-02', '1948-06-30',\n",
       "       datetime.datetime(1979, 2, 26, 0, 0), '1939-08-28', '1982-12-10',\n",
       "       '1950-04-26', '1990-05-20', '1961-12-22', '2002-01-17',\n",
       "       '1961-01-05', '1942-08-09', '1979-03-24', '1976-11-04',\n",
       "       '1967-01-20', '1955-02-13', datetime.datetime(1978, 1, 21, 0, 0),\n",
       "       '1977-09-10', '1980-08-15', '1938-11-29', '1996-02-29',\n",
       "       '1983-03-08', '1957-12-05', '1946-03-15', '1995-12-09',\n",
       "       '1954-07-18', '1958-08-28', '1938-09-10', '1963-10-15',\n",
       "       '1953-05-17', '1989-01-14', '1998-01-12', '1991-12-18',\n",
       "       '1948-01-24', '1970-01-21', '1991-12-01', '1993-10-18',\n",
       "       '1945-11-08', '1947-07-19', '1975-01-08', '1969-02-09',\n",
       "       datetime.datetime(1977, 9, 26, 0, 0), '1940-11-10', '1974-12-12',\n",
       "       '1975-12-22', '1957-11-12', '1978-10-26',\n",
       "       datetime.datetime(1973, 11, 14, 0, 0), '1997-08-27', '1974-08-07',\n",
       "       '1952-10-05', '1941-04-04', '1997-03-17', '1987-03-01',\n",
       "       '1964-01-22', '1972-05-17', '1993-11-27', '1958-04-19',\n",
       "       '1966-04-30', '1977-02-03', '1998-11-22', '1996-11-24',\n",
       "       '1991-12-02', '1943-04-06', '1982-02-01', '1985-01-29',\n",
       "       '1961-07-31', '1976-09-07', '1972-08-27', '1947-03-11',\n",
       "       '1974-11-25', '1940-05-19', '1947-11-26', '1965-02-03',\n",
       "       '1977-03-20', '1993-08-03', '1972-05-19', '1970-12-17',\n",
       "       '2000-12-09', '2001-08-04', '1990-10-19', '1967-03-14',\n",
       "       '1999-11-29', '1956-04-21', '1979-07-28', '2001-12-29',\n",
       "       '1972-07-29', '1995-10-03', '1957-02-14', '1951-04-30',\n",
       "       '1959-03-01', '1939-03-06', '1961-08-27', '1970-01-14',\n",
       "       '1944-10-25', '1966-06-27', '1966-09-14', '1994-03-13',\n",
       "       '1975-06-15', '1975-10-12', '1965-05-28', '1996-02-11',\n",
       "       '1944-06-14', '1977-11-08', '1997-11-01', '1952-05-05',\n",
       "       '1960-05-09', '1989-03-17', '1954-10-21', '1967-02-02',\n",
       "       '1976-09-20', datetime.datetime(1974, 8, 19, 0, 0), '1960-12-19',\n",
       "       datetime.datetime(1975, 9, 11, 0, 0), '1945-07-10', '1980-09-01',\n",
       "       datetime.datetime(1974, 8, 29, 0, 0),\n",
       "       datetime.datetime(1976, 11, 24, 0, 0), '1980-03-14', '1973-10-13',\n",
       "       '1999-05-14', datetime.datetime(1976, 3, 10, 0, 0), '1954-01-30',\n",
       "       '1988-09-30', '1971-06-28', '2001-06-21', '1964-05-15',\n",
       "       '1999-07-28', '1954-10-06', '1951-10-14', '1956-05-17',\n",
       "       '1991-01-23', '1950-09-30', '1980-05-29', '1954-03-10',\n",
       "       '1964-11-06', '1953-05-24', '1972-06-27',\n",
       "       datetime.datetime(1973, 7, 3, 0, 0), '1998-12-19', '1981-09-14',\n",
       "       '1986-01-10', '1955-04-08', '1952-12-04', '1956-05-29',\n",
       "       datetime.datetime(1978, 12, 10, 0, 0), '1994-11-16', '1978-12-14',\n",
       "       '1997-11-29', '1965-04-22', '1976-09-25',\n",
       "       datetime.datetime(1975, 4, 8, 0, 0), '1950-11-30', '1998-02-19',\n",
       "       '1977-06-30', '1972-04-27', '1973-01-06', '1984-07-06',\n",
       "       '1991-04-21', datetime.datetime(1979, 1, 3, 0, 0), '1976-01-16',\n",
       "       '1999-04-21', '1958-05-14', '1995-10-01', '1993-11-02',\n",
       "       '1972-03-24', '1994-02-04', '1947-04-21', '1950-03-31',\n",
       "       '1951-01-29', '1954-03-08', '1994-06-16', '1967-04-07',\n",
       "       '1955-07-06', '1955-11-25', '1964-03-14', '1986-09-25',\n",
       "       '1991-11-24', '2001-09-27', '1968-07-29', '1950-12-09',\n",
       "       '1942-08-23', '1965-02-25', '1998-05-12', '1943-10-27',\n",
       "       '1976-08-12', '1994-10-15', '1973-01-04', '1990-07-06',\n",
       "       '1995-07-18', '1995-12-17', '1951-10-28', '1938-08-30',\n",
       "       '1996-04-13', '1994-04-17', '1974-12-25', '1987-04-20',\n",
       "       '1979-10-22', '1996-05-10', '1965-02-09', '1955-10-22',\n",
       "       datetime.datetime(1973, 3, 15, 0, 0), '1958-07-19',\n",
       "       datetime.datetime(1978, 12, 31, 0, 0), '1994-11-07', '1939-05-26',\n",
       "       '1996-01-21', '1997-06-29', '1973-01-29', '1961-05-23',\n",
       "       '1966-09-19', '1955-07-13', '1979-09-30', '1970-05-19',\n",
       "       '1998-08-24', datetime.datetime(1976, 12, 7, 0, 0), '1969-03-05',\n",
       "       '1950-05-08', '1951-03-19', '1957-06-10', '1963-07-31',\n",
       "       '1956-07-05', datetime.datetime(1973, 10, 3, 0, 0), '1959-01-08',\n",
       "       '1968-12-26', '1955-09-29', '1940-06-07', '1998-01-15',\n",
       "       '1967-01-19', '1960-04-12', '1993-09-20', '1973-07-13',\n",
       "       '1961-04-20', '1939-08-22', '1945-12-24', '1987-05-01',\n",
       "       '1962-09-21', '1975-10-31', '1997-05-18', '1954-01-06',\n",
       "       '1950-03-18', '1978-04-04', '1954-10-19', '1950-05-04',\n",
       "       '1966-08-04', '1968-02-17', '1982-12-15', '1996-05-28',\n",
       "       '1962-07-12', datetime.datetime(1976, 10, 8, 0, 0), '1940-05-23',\n",
       "       '1995-07-19', '1981-07-06', '1942-10-21', '1958-06-25',\n",
       "       '1988-01-07', '1976-10-29', '1997-04-03', '1958-04-25',\n",
       "       '1944-04-28', '1985-03-25', '1942-07-06',\n",
       "       datetime.datetime(1977, 9, 11, 0, 0), '1968-07-12', '1991-12-21',\n",
       "       '1959-07-28', '1980-10-29', '1940-10-26', '1960-01-21',\n",
       "       '1960-02-14', '1941-02-26', '1976-07-16',\n",
       "       datetime.datetime(1974, 10, 12, 0, 0), '1959-08-01', '1956-12-04',\n",
       "       '1944-03-18', '1956-03-19', '1940-03-11', '1962-08-05',\n",
       "       '1952-04-07', '1966-08-11', '1996-09-06', '1970-09-09',\n",
       "       '1996-06-18', '1947-12-28', '1981-05-05', '1978-03-27',\n",
       "       '1977-07-19', '1980-04-09', '1994-12-23', '1941-02-23',\n",
       "       '1992-10-10', '1938-09-02', '1992-06-24', '1978-04-20',\n",
       "       '1973-08-30', '1954-06-15', datetime.datetime(1977, 10, 7, 0, 0),\n",
       "       '1991-06-01', '1950-11-06', '1957-12-10', '1961-11-03',\n",
       "       '1974-07-03', '1981-01-29', datetime.datetime(1974, 12, 25, 0, 0),\n",
       "       '1965-09-04', '1973-04-29', '1953-08-07', '1951-07-22',\n",
       "       '1975-11-18', '1946-08-22', '1999-11-18', '1972-09-04',\n",
       "       '1983-12-10', '1983-05-18', '1971-10-11', '1975-07-09',\n",
       "       '1950-10-12', '1963-10-16', '1965-09-09', '1966-10-18',\n",
       "       '1999-11-30', '1966-01-30', '1972-10-23', '1965-08-21',\n",
       "       datetime.datetime(1977, 1, 3, 0, 0), '1969-03-06', '1970-03-11',\n",
       "       '1997-10-23', '1956-09-15', '1961-12-10', '1997-03-28',\n",
       "       '1992-04-07', '1945-06-11', '1991-03-06', '1981-04-14',\n",
       "       '1990-04-04', '1966-09-17', '1963-09-01', '1975-09-20',\n",
       "       '1947-06-12', '1939-09-09', '1974-02-21', '2001-04-16',\n",
       "       '1948-03-02', '1998-08-19', '1976-07-19', '1980-01-03',\n",
       "       '1962-05-12', datetime.datetime(1975, 7, 25, 0, 0), '1971-01-10',\n",
       "       '1950-04-15', '1960-07-04', '1965-03-15', '1974-06-17',\n",
       "       '1969-06-04', '1996-03-18', '1973-09-29', '1982-04-25',\n",
       "       '1978-06-21', datetime.datetime(1973, 12, 22, 0, 0), '1987-11-02',\n",
       "       '1950-09-09', '2002-01-04', '1983-02-08', '1960-10-01',\n",
       "       '1999-02-22', '1990-04-06', '1965-12-22', '1938-08-05',\n",
       "       '1947-12-15', '1984-12-13', '1953-04-02', '1989-07-23',\n",
       "       '1993-06-02', '1988-03-05', '1966-01-19', '1972-11-10',\n",
       "       '1996-04-05', '1981-07-28', '1964-07-07', '1955-01-15',\n",
       "       '1992-10-13', '1994-04-12', '1956-08-12', '1957-09-04',\n",
       "       '1982-03-20', '1980-04-23', '1974-01-26', '1973-03-12',\n",
       "       '1954-09-21', '1955-11-09', '1951-08-25', '1969-10-03',\n",
       "       '1966-11-17', '1938-06-08', '1981-07-05', '1949-08-11',\n",
       "       '1982-03-09', '1974-05-21', '1980-09-14', '1951-02-05',\n",
       "       '1947-07-13', '1952-05-30', '1964-11-10', '1940-11-25',\n",
       "       '1985-12-19', '1961-01-15', '1968-11-23', '1978-07-10',\n",
       "       '1991-02-06', '1952-12-09', '2000-04-10', '1960-04-23',\n",
       "       '1940-05-18', '1965-05-04', '1988-12-15', '1988-09-01',\n",
       "       '1978-08-06', '1966-11-05', '1977-01-28', '1973-05-11',\n",
       "       '1971-05-31', '1995-10-10', '2000-04-17', '1963-12-08',\n",
       "       '1992-03-09', '1962-05-05', '1973-08-11', '1967-10-05',\n",
       "       '1962-08-26', '1963-08-25', datetime.datetime(1979, 1, 9, 0, 0),\n",
       "       '1951-09-16', '1994-07-17', '1939-02-19', '1948-01-01',\n",
       "       '1979-09-29', '1958-04-16', '2001-04-17', '1973-04-14',\n",
       "       '1994-09-30', '1995-10-19', '1982-10-29', '1997-03-07',\n",
       "       '1957-01-24', '1959-11-13', '1956-11-07', '1998-08-16',\n",
       "       '1942-09-10', '1980-09-13', datetime.datetime(1978, 12, 27, 0, 0),\n",
       "       '1953-03-27', '1939-11-08', '1958-03-29', '1979-02-10',\n",
       "       '1980-11-26', '1953-08-21', '2000-05-20', '1990-09-15',\n",
       "       '1947-04-06', '1964-12-07', '1958-07-28', '1974-07-28',\n",
       "       '1967-06-01', '1961-08-23', '1953-10-12',\n",
       "       datetime.datetime(1974, 6, 8, 0, 0),\n",
       "       datetime.datetime(1974, 9, 28, 0, 0), '1995-10-20', '1956-03-08',\n",
       "       '1948-08-03', '1994-04-11', '1966-04-07', '1973-10-10',\n",
       "       '1997-03-03', '1964-11-02', '1938-06-09', '1994-03-29',\n",
       "       '1957-03-17', '1980-07-28', '1971-10-18', '1956-10-05',\n",
       "       '1972-07-02', '1999-06-18', '1984-09-01', '2000-03-24',\n",
       "       '1961-10-02', '1941-06-17', '1959-09-18', '1952-08-21',\n",
       "       '1968-05-28', '1970-12-30', '1964-05-19', '1996-02-15',\n",
       "       '1973-05-13', datetime.datetime(1973, 3, 24, 0, 0), '1967-03-02',\n",
       "       '1963-03-04', '2000-05-06', '1957-11-17', '1975-09-16',\n",
       "       '1991-05-21', '1960-12-27', '1961-02-10', '1939-01-15',\n",
       "       '1987-11-16', '1979-05-16', '1984-05-15', '1988-10-16',\n",
       "       '1950-06-15', '1958-05-15', '1990-12-21', '1981-04-06',\n",
       "       '1983-11-06', '1973-05-30', '1959-08-20', '1957-07-03',\n",
       "       datetime.datetime(1978, 3, 17, 0, 0), '1993-08-11', '1951-01-18',\n",
       "       '1976-07-25', '1987-09-09', datetime.datetime(1975, 1, 19, 0, 0),\n",
       "       '1960-08-31', '1963-08-10', '1964-08-23', '1945-10-31',\n",
       "       '1940-03-18', '1946-09-09', datetime.datetime(1974, 4, 30, 0, 0),\n",
       "       '1954-09-06', datetime.datetime(1974, 5, 28, 0, 0), '1992-08-09',\n",
       "       '1941-08-19', '1988-08-22', '1992-03-26', '1994-02-10',\n",
       "       '1983-06-26', '1976-11-25', '1966-03-03', '1977-12-08',\n",
       "       '1962-09-17', '1994-11-28', '1969-04-29', '1964-02-01',\n",
       "       '1998-10-14', '1967-01-03', '1975-07-30', '1969-01-05',\n",
       "       '1980-12-19', '1975-02-25', '1994-06-25', '1960-08-10',\n",
       "       '1986-01-17', '1967-08-23', '1999-03-04', '1998-06-03',\n",
       "       '2001-01-24', '1968-06-12', '1967-05-06', '1938-12-10',\n",
       "       '1977-02-12', '1986-06-27', '1992-04-08', '1951-08-23',\n",
       "       '1956-06-25', '1951-09-17', '1987-09-21', '1943-03-15',\n",
       "       '1945-07-26', '1954-05-14', '1974-05-15', '1973-12-18',\n",
       "       '1959-07-13', '1990-07-02', '1959-10-07', '2001-10-17',\n",
       "       '1954-10-05', '1952-12-17', '1955-10-02'], dtype=object)"
      ]
     },
     "execution_count": 102,
     "metadata": {},
     "output_type": "execute_result"
    }
   ],
   "source": [
    "df.DOB.unique()"
   ]
  },
  {
   "cell_type": "markdown",
   "metadata": {},
   "source": [
    "The total Date of Birth of different customers."
   ]
  },
  {
   "cell_type": "code",
   "execution_count": 103,
   "metadata": {},
   "outputs": [
    {
     "data": {
      "text/plain": [
       "array(['General Manager', 'Structural Engineer', 'Senior Cost Accountant',\n",
       "       'Account Representative III', 'Financial Analyst',\n",
       "       'Assistant Media Planner', 'Compensation Analyst',\n",
       "       'Human Resources Assistant II', 'Speech Pathologist',\n",
       "       'Accounting Assistant IV', 'Programmer Analyst I',\n",
       "       'Environmental Specialist', 'Human Resources Manager',\n",
       "       'VP Marketing', 'Clinical Specialist', nan, 'Associate Professor',\n",
       "       'Actuary', 'Internal Auditor', 'Programmer I', 'Quality Engineer',\n",
       "       'Quality Control Specialist', 'Account Executive', 'Engineer II',\n",
       "       'Nurse', 'Librarian', 'Paralegal', 'Assistant Manager',\n",
       "       'Senior Quality Engineer', 'Recruiting Manager', 'Design Engineer',\n",
       "       'Business Systems Development Analyst', 'VP Quality Control',\n",
       "       'Cost Accountant', 'Product Engineer', 'Social Worker',\n",
       "       'Payment Adjustment Coordinator', 'Marketing Assistant',\n",
       "       'Recruiter', 'VP Product Management', 'Media Manager III',\n",
       "       'Developer I', 'Senior Financial Analyst', 'Electrical Engineer',\n",
       "       'Accountant IV', 'Executive Secretary', 'Account Representative I',\n",
       "       'Dental Hygienist', 'GIS Technical Architect',\n",
       "       'Assistant Professor', 'Mechanical Systems Engineer',\n",
       "       'Budget/Accounting Analyst IV', 'Research Nurse',\n",
       "       'Computer Systems Analyst IV', 'Analyst Programmer',\n",
       "       'Desktop Support Technician', 'Editor', 'Biostatistician IV',\n",
       "       'Database Administrator III', 'Engineer III',\n",
       "       'Physical Therapy Assistant', 'Director of Sales', 'Teacher',\n",
       "       'Human Resources Assistant IV', 'Nurse Practicioner',\n",
       "       'Structural Analysis Engineer', 'Marketing Manager',\n",
       "       'Staff Accountant IV', 'VP Sales', 'Accountant III',\n",
       "       'Sales Representative', 'Food Chemist', 'Staff Scientist',\n",
       "       'Geologist IV', 'Information Systems Manager', 'Junior Executive',\n",
       "       'Automation Specialist II', 'Software Consultant',\n",
       "       'Civil Engineer', 'Geological Engineer', 'Graphic Designer',\n",
       "       'Staff Accountant II', 'Community Outreach Specialist',\n",
       "       'Programmer Analyst II', 'Pharmacist', 'Senior Editor',\n",
       "       'Sales Associate', 'Developer II', 'Staff Accountant I',\n",
       "       'Environmental Tech', 'Account Coordinator', 'Health Coach II',\n",
       "       'Programmer Analyst III', 'Geologist III', 'Senior Developer',\n",
       "       'Account Representative II', 'Help Desk Technician',\n",
       "       'Research Assistant IV', 'Research Associate',\n",
       "       'Computer Systems Analyst I', 'Account Representative IV',\n",
       "       'Safety Technician I', 'Analog Circuit Design manager',\n",
       "       'Senior Sales Associate', 'Research Assistant II',\n",
       "       'Chief Design Engineer', 'Legal Assistant',\n",
       "       'Occupational Therapist', 'Statistician I', 'Technical Writer',\n",
       "       'Health Coach IV', 'Media Manager II', 'Professor',\n",
       "       'Safety Technician II', 'Software Test Engineer IV',\n",
       "       'Nuclear Power Engineer', 'Software Engineer II', 'Engineer IV',\n",
       "       'Database Administrator II', 'Chemical Engineer',\n",
       "       'Office Assistant II', 'Database Administrator I',\n",
       "       'Research Assistant I', 'Financial Advisor',\n",
       "       'Systems Administrator I', 'Systems Administrator IV', 'Operator',\n",
       "       'Office Assistant I', 'Software Engineer I', 'Programmer III',\n",
       "       'Media Manager I', 'Data Coordiator', 'Web Developer IV',\n",
       "       'Registered Nurse', 'Media Manager IV', 'Programmer II',\n",
       "       'Computer Systems Analyst II', 'Web Designer I',\n",
       "       'Human Resources Assistant I', 'Help Desk Operator',\n",
       "       'Systems Administrator III', 'Software Engineer III',\n",
       "       'Developer IV', 'Tax Accountant', 'Automation Specialist IV',\n",
       "       'VP Accounting', 'Accountant II', 'Administrative Assistant II',\n",
       "       'Programmer IV', 'Web Designer IV', 'Administrative Officer',\n",
       "       'Office Assistant IV', 'Accounting Assistant III',\n",
       "       'Accounting Assistant I', 'Research Assistant III',\n",
       "       'Web Developer II', 'Statistician III', 'Programmer Analyst IV',\n",
       "       'Accountant I', 'Project Manager', 'Budget/Accounting Analyst II',\n",
       "       'Automation Specialist III', 'Administrative Assistant I',\n",
       "       'Engineer I', 'Health Coach III', 'Statistician II',\n",
       "       'Developer III', 'Accounting Assistant II',\n",
       "       'Database Administrator IV', 'Budget/Accounting Analyst III',\n",
       "       'Software Test Engineer I', 'Health Coach I',\n",
       "       'Safety Technician IV', 'Computer Systems Analyst III',\n",
       "       'Budget/Accounting Analyst I', 'Staff Accountant III',\n",
       "       'Human Resources Assistant III', 'Statistician IV',\n",
       "       'Automation Specialist I', 'Systems Administrator II',\n",
       "       'Software Test Engineer II', 'Software Test Engineer III',\n",
       "       'Geologist I', 'Web Designer II', 'Web Developer I'], dtype=object)"
      ]
     },
     "execution_count": 103,
     "metadata": {},
     "output_type": "execute_result"
    }
   ],
   "source": [
    "df.job_title.unique()"
   ]
  },
  {
   "cell_type": "markdown",
   "metadata": {},
   "source": [
    "The number of unique jobs that the customers are into."
   ]
  },
  {
   "cell_type": "code",
   "execution_count": 58,
   "metadata": {},
   "outputs": [
    {
     "data": {
      "text/plain": [
       "array(['Manufacturing', 'Property', 'Financial Services', 'Entertainment',\n",
       "       'Retail', 'IT', 'Telecommunications', 'Health', nan, 'Argiculture'],\n",
       "      dtype=object)"
      ]
     },
     "execution_count": 58,
     "metadata": {},
     "output_type": "execute_result"
    }
   ],
   "source": [
    "df.job_industry_category.unique()"
   ]
  },
  {
   "cell_type": "code",
   "execution_count": 59,
   "metadata": {},
   "outputs": [
    {
     "data": {
      "text/plain": [
       "array(['Mass Customer', 'Affluent Customer', 'High Net Worth'],\n",
       "      dtype=object)"
      ]
     },
     "execution_count": 59,
     "metadata": {},
     "output_type": "execute_result"
    }
   ],
   "source": [
    "df.wealth_segment.unique()"
   ]
  },
  {
   "cell_type": "code",
   "execution_count": 60,
   "metadata": {},
   "outputs": [
    {
     "data": {
      "text/plain": [
       "array(['N'], dtype=object)"
      ]
     },
     "execution_count": 60,
     "metadata": {},
     "output_type": "execute_result"
    }
   ],
   "source": [
    "df.deceased_indicator.unique()"
   ]
  },
  {
   "cell_type": "code",
   "execution_count": 61,
   "metadata": {},
   "outputs": [
    {
     "data": {
      "text/plain": [
       "array(['Yes', 'No'], dtype=object)"
      ]
     },
     "execution_count": 61,
     "metadata": {},
     "output_type": "execute_result"
    }
   ],
   "source": [
    "df.owns_car.unique()"
   ]
  },
  {
   "cell_type": "code",
   "execution_count": 62,
   "metadata": {},
   "outputs": [
    {
     "data": {
      "text/plain": [
       "array([14, 16, 10, 5, 19, 22, 8, 17, 3, 9, 4, 11, 12, 13, 7, 20, 15, 6,\n",
       "       18, 21, 2, 1, 0], dtype=object)"
      ]
     },
     "execution_count": 62,
     "metadata": {},
     "output_type": "execute_result"
    }
   ],
   "source": [
    "df.tenure.unique()"
   ]
  },
  {
   "cell_type": "code",
   "execution_count": 64,
   "metadata": {},
   "outputs": [
    {
     "data": {
      "text/plain": [
       "array(['45 Shopko Center', '14 Mccormick Park', '5 Colorado Crossing',\n",
       "       '207 Annamark Plaza', '115 Montana Place', '89105 Pearson Terrace',\n",
       "       '7 Nevada Crossing', '85 Carioca Point', '717 West Drive',\n",
       "       '80 Scofield Junction', '3682 Crowley Point',\n",
       "       '3 Golden Leaf Point', '0484 North Avenue', '0591 Anzinger Circle',\n",
       "       '39 Kedzie Pass', '64 Granby Parkway', '610 Swallow Street',\n",
       "       '61 4th Street', '1550 Russell Way', '193 North Point',\n",
       "       '321 Raven Plaza', '656 Fuller Street', '1562 Merchant Street',\n",
       "       '663 8th Parkway', '67 Shelley Street', '75 Cordelia Trail',\n",
       "       '51 Hooker Court', '1859 Forest Circle', '44557 Rutledge Court',\n",
       "       '11184 East Drive', '555 Hermina Avenue', '8 Novick Trail',\n",
       "       '74 Welch Pass', '3 Pleasure Drive', '8 Dennis Point',\n",
       "       '41042 Lotheville Crossing', '2330 Butternut Trail',\n",
       "       '240 Acker Avenue', '04 Dexter Way', '011 Northland Trail',\n",
       "       '8 Grayhawk Circle', '44 Darwin Lane', '2548 Arrowood Pass',\n",
       "       '938 Ilene Road', '6 Melby Center', '08708 Moulton Park',\n",
       "       '306 Clemons Junction', '18 Grim Road', '169 Bashford Drive',\n",
       "       '3 Vermont Lane', '998 Gale Park', '64 Mcguire Trail',\n",
       "       '74127 Blaine Point', '31756 Meadow Valley Lane',\n",
       "       '293 Mayfield Street', '261 Grayhawk Way', '2 Schlimgen Terrace',\n",
       "       '76733 Sunbrook Terrace', '683 Florence Way',\n",
       "       '7232 Fulton Parkway', '06936 Bobwhite Circle', '283 Acker Drive',\n",
       "       '9 Mosinee Parkway', '45 Becker Place', '27 Karstens Crossing',\n",
       "       '9630 Cottonwood Avenue', '989 Graedel Terrace',\n",
       "       '76 Bartelt Center', '29778 Mendota Drive', '69 Algoma Center',\n",
       "       '8288 Lyons Way', '4185 Florence Trail', '9608 Heffernan Drive',\n",
       "       '9 Union Center', '800 Emmet Park', '12351 Spenser Pass',\n",
       "       '4 Valley Edge Plaza', '1601 Rutledge Lane', '0 Mockingbird Plaza',\n",
       "       '1665 Kenwood Center', '5 4th Center', '92214 Spenser Road',\n",
       "       '5186 Main Trail', '564 Forest Dale Avenue', '83 Old Gate Point',\n",
       "       '387 Dixon Alley', '411 Twin Pines Way', '12 Arapahoe Park',\n",
       "       '4915 Debra Center', '76 Sunnyside Avenue', '1 Talisman Avenue',\n",
       "       '91164 Washington Terrace', '74 Carpenter Street',\n",
       "       '6776 Anderson Center', '1 Orin Hill', '88 Annamark Avenue',\n",
       "       '37439 High Crossing Circle', '5 Nevada Point',\n",
       "       '67 Grayhawk Circle', '0 Meadow Ridge Street', '5 Quincy Street',\n",
       "       '13025 Johnson Plaza', '966 Sunnyside Center', '802 Mallory Park',\n",
       "       '93 Judy Drive', '94 Manitowish Court', '5013 Erie Crossing',\n",
       "       '540 Sachs Road', '422 Forster Circle', '4275 Bluestem Pass',\n",
       "       '6 Anderson Junction', '276 Westend Road', '69 Garrison Point',\n",
       "       '65 Milwaukee Hill', '4252 Dovetail Pass', '56 Riverside Street',\n",
       "       '7 Cascade Park', '29307 Russell Avenue', '3 Mcguire Crossing',\n",
       "       '6 Golf View Alley', '83716 Russell Lane', '265 Stephen Trail',\n",
       "       '2 Charing Cross Trail', '8350 Moulton Terrace',\n",
       "       '578 Waywood Circle', '9722 Northport Way', '7026 Katie Lane',\n",
       "       '8 Eggendart Pass', '1 Bluejay Place', '28970 Monument Lane',\n",
       "       '235 Mendota Court', '49309 Redwing Lane', '367 Bay Point',\n",
       "       '932 Glendale Avenue', '492 Waywood Lane', '12683 Mifflin Point',\n",
       "       '6160 Weeping Birch Hill', '7 Oakridge Lane', '0 Dexter Parkway',\n",
       "       '75813 Lawn Lane', '74613 Northport Park', '68 Karstens Pass',\n",
       "       '87254 Hermina Pass', '801 Atwood Alley', '2 Morrow Alley',\n",
       "       '92934 Mallory Trail', '90820 Thackeray Street',\n",
       "       '48 Ludington Plaza', '49185 Derek Circle',\n",
       "       '0721 Meadow Ridge Pass', '115 Westridge Road', '7 Myrtle Lane',\n",
       "       '7795 Memorial Drive', '24695 Boyd Road', '95306 John Wall Avenue',\n",
       "       '6704 Pine View Lane', '98158 Alpine Point', '33652 Lyons Alley',\n",
       "       '8 Debs Road', '101 Starling Pass', '35151 Bunker Hill Crossing',\n",
       "       '2093 Amoth Pass', '57343 Eagan Avenue', '83 Armistice Terrace',\n",
       "       '5388 Burrows Alley', '5612 Toban Point', '65 Ridge Oak Court',\n",
       "       '74 Russell Terrace', '255 Loeprich Lane', '67 Northport Avenue',\n",
       "       '823 Wayridge Trail', '5 Golf Terrace', '40809 Truax Way',\n",
       "       '1398 Burning Wood Way', '3920 Swallow Junction', '4 Warner Park',\n",
       "       '534 Lien Lane', '48 Shoshone Park', '170 Briar Crest Place',\n",
       "       '0193 Northland Street', '5219 Pearson Drive',\n",
       "       '6156 Summit Center', '803 Badeau Point', '735 Westridge Road',\n",
       "       '1190 Hanson Street', '370 Division Junction', '90 Northport Hill',\n",
       "       '77785 Veith Lane', '232 Knutson Park', '25805 Eagan Place',\n",
       "       '743 Debra Court', '6966 Delladonna Street',\n",
       "       '98221 Pennsylvania Place', '307 Knutson Center',\n",
       "       '593 Alpine Drive', '45788 Stang Plaza', '96515 Di Loreto Pass',\n",
       "       '8625 Dakota Plaza', '02 Hoffman Road', '496 Logan Center',\n",
       "       '6065 Talisman Crossing', '72 Eliot Place', '67 Bluejay Plaza',\n",
       "       '518 Paget Hill', '87107 Shelley Crossing', '3 Mallory Circle',\n",
       "       '1582 Bashford Drive', '3 Homewood Park', '06 Old Gate Park',\n",
       "       '49 Surrey Point', '59254 Northland Alley', '4 North Drive',\n",
       "       '89 Parkside Street', '7 Hazelcrest Place', '013 David Junction',\n",
       "       '840 Graceland Street', '6 Lotheville Trail', '890 Truax Lane',\n",
       "       '72922 Cambridge Terrace', '60461 Esch Avenue', '6 Novick Alley',\n",
       "       '76 Donald Trail', '1607 Westridge Drive', '3630 Dawn Crossing',\n",
       "       '29007 Dapin Street', '68 Fairfield Street', '6 Iowa Center',\n",
       "       '5 Briar Crest Road', '945 Bobwhite Court', '2 Glendale Center',\n",
       "       '21824 Northridge Alley', '68 Anthes Park', '3 Anthes Court',\n",
       "       '036 Redwing Street', '92 Petterle Place', '72008 7th Avenue',\n",
       "       '87 Sheridan Junction', '811 Melrose Park', '2 Logan Avenue',\n",
       "       '538 Gina Way', '52761 Portage Crossing', '8 Fieldstone Street',\n",
       "       '8957 Anhalt Alley', '5 High Crossing Junction',\n",
       "       '75760 Toban Junction', '178 Waxwing Trail', '8648 Green Alley',\n",
       "       '08912 Carberry Place', '720 Menomonie Crossing',\n",
       "       '0686 Hallows Trail', '6668 Blue Bill Park Plaza',\n",
       "       '06 Dwight Park', '5202 Crowley Place', '14709 Portage Avenue',\n",
       "       '895 Glendale Park', '0474 Bowman Hill', '652 Fuller Terrace',\n",
       "       '5356 Sugar Plaza', '7 Schiller Point', '9193 Prairieview Drive',\n",
       "       '13272 Basil Avenue', '29 Aberg Crossing', '4 Monterey Road',\n",
       "       '416 Lighthouse Bay Lane', '05475 Elgar Place',\n",
       "       '343 Lakewood Center', '47 Kim Terrace', '590 Hagan Parkway',\n",
       "       '94694 Eagle Crest Terrace', '261 Orin Center',\n",
       "       '667 Waxwing Plaza', '83509 Delaware Street', '88 Mifflin Pass',\n",
       "       '10 Dexter Park', '3 Sundown Hill', '655 Glendale Trail',\n",
       "       '39192 Glendale Alley', '7307 Lake View Crossing',\n",
       "       '1199 Express Plaza', '1 Namekagon Point', '602 Meadow Vale Lane',\n",
       "       '6784 Spohn Alley', '67 Shelley Crossing', '07 Dayton Court',\n",
       "       '351 Sunfield Lane', '8427 Moulton Place', '984 Del Sol Junction',\n",
       "       '3 Pepper Wood Hill', '8737 Scoville Center', '385 Montana Place',\n",
       "       '3 Surrey Court', '2 Magdeline Street', '93235 Hoard Trail',\n",
       "       '356 Carberry Avenue', '71 Ludington Center',\n",
       "       '2116 Continental Terrace', '2 7th Way', '7 Elgar Road',\n",
       "       '00003 Hoffman Pass', '71 Stone Corner Avenue', '0 Esker Avenue',\n",
       "       '61825 Debs Terrace', '11 Oak Terrace', '7 Michigan Hill',\n",
       "       '8 Randy Park', '0 Mayfield Parkway', '57903 Hanson Parkway',\n",
       "       '763 Ridgeway Place', '99 Westend Court', '5 Caliangt Center',\n",
       "       '4472 Washington Junction', '31675 Corry Way',\n",
       "       '4882 Dakota Center', '4 Warner Circle',\n",
       "       '4 Manufacturers Crossing', '016 Westport Park', '19 Debs Parkway',\n",
       "       '665 Sachs Way', '4110 Mifflin Center', '62 Spaight Center',\n",
       "       '3 Express Lane', '7353 Mallard Junction', '066 Warner Trail',\n",
       "       '52752 Barby Hill', '57025 New Castle Street', '0 Stoughton Park',\n",
       "       '49 Jana Point', '7 Fordem Point', '797 Westend Street',\n",
       "       '5316 Farwell Hill', '770 Crest Line Parkway',\n",
       "       '50 American Street', '4793 Mcbride Pass', '01124 Dottie Lane',\n",
       "       '42681 Carey Alley', '2941 Talisman Alley', '990 Hoffman Avenue',\n",
       "       '5 Summer Ridge Court', '102 Charing Cross Terrace',\n",
       "       '5 Trailsway Avenue', '23694 Leroy Place', '53 Memorial Street',\n",
       "       '691 Valley Edge Alley', '60073 Pankratz Pass',\n",
       "       '8 Schlimgen Drive', '0237 Mallard Place',\n",
       "       '69710 Northfield Center', '1 Kinsman Crossing',\n",
       "       '40553 Rigney Avenue', '48578 Farmco Park',\n",
       "       '91634 Badeau Crossing', '391 Old Shore Lane',\n",
       "       '28 Golf View Terrace', '0197 Sachs Avenue', '48297 Stuart Circle',\n",
       "       '67 Heath Circle', '3 Sheridan Lane', '04 Oakridge Plaza',\n",
       "       '78 Clarendon Drive', '335 Cambridge Hill',\n",
       "       '5675 Burning Wood Trail', '4597 Marcy Point', '9 Walton Way',\n",
       "       '27429 Dottie Plaza', '42 Donald Hill', '3 Hoepker Parkway',\n",
       "       '19561 Express Street', '41 Kropf Road', '0516 Fremont Point',\n",
       "       '7872 South Junction', '81 Donald Parkway', '105 Carpenter Court',\n",
       "       '58231 Tomscot Plaza', '3 Loeprich Point', '5773 Acker Way',\n",
       "       '540 Katie Street', '9495 Jenna Way', '66 Ruskin Parkway',\n",
       "       '9736 Mitchell Pass', '9 Springview Terrace',\n",
       "       '1914 Oakridge Place', '179 Anzinger Center', '62 Melrose Court',\n",
       "       '84650 Novick Point', '5 Hoard Parkway', '376 Talmadge Street',\n",
       "       '5979 Green Ridge Way', '2972 Holy Cross Crossing',\n",
       "       '89 Riverside Court', '540 Forest Run Plaza',\n",
       "       '817 Bunker Hill Place', '4669 Troy Place', '02 Roth Drive',\n",
       "       '7 Northridge Court', '5735 Starling Plaza', '97 Transport Plaza',\n",
       "       '67183 Anniversary Parkway', '2 Emmet Parkway',\n",
       "       '61926 Tomscot Hill', '07 Susan Lane', '43094 Kedzie Pass',\n",
       "       '678 Lyons Trail', '1832 Burning Wood Place', '5642 Debs Terrace',\n",
       "       '73 Riverside Trail', '05 Everett Trail', '082 Welch Lane',\n",
       "       '72 Mccormick Circle', '15669 Arizona Trail',\n",
       "       '79 Armistice Parkway', '330 Melby Terrace', '2637 Monument Trail',\n",
       "       '37919 Old Gate Park', '00 Judy Terrace', '79 Armistice Junction',\n",
       "       '7 Clemons Circle', '6455 Mayfield Street',\n",
       "       '7873 Meadow Vale Plaza', '45 Banding Hill', '53 Moulton Avenue',\n",
       "       '7 Sauthoff Park', '9082 Waywood Avenue', '30049 Brown Road',\n",
       "       '7 Huxley Trail', '3 Service Center', '0627 Golf Center',\n",
       "       '24960 Shopko Crossing', '43 Stoughton Drive',\n",
       "       '247 Blue Bill Park Parkway', '2 David Pass', '3867 Barby Hill',\n",
       "       '52 Bobwhite Court', '32249 Sycamore Way', '3 Roth Junction',\n",
       "       '72423 Surrey Street', '76 Green Ridge Drive',\n",
       "       '9 Glacier Hill Circle', '91281 Transport Center', '11 Paget Road',\n",
       "       '3686 Waubesa Way', '6 Killdeer Way', '737 Service Lane',\n",
       "       '253 Katie Junction', '481 Moulton Place', '3864 Sheridan Alley',\n",
       "       '61416 Karstens Place', '0 Union Parkway', '4 Lukken Lane',\n",
       "       '1507 Schlimgen Trail', '4 Meadow Ridge Place', '31 Melody Circle',\n",
       "       '96 Rutledge Drive', '2905 Towne Place', '638 Caliangt Avenue',\n",
       "       '9645 Moose Terrace', '7 Messerschmidt Crossing',\n",
       "       '005 Loeprich Way', '3653 Steensland Road', '56 Comanche Terrace',\n",
       "       '66 Merry Court', '92 Ludington Street', '37 Rigney Park',\n",
       "       '0796 Barnett Plaza', '415 Rockefeller Trail',\n",
       "       '846 Loftsgordon Crossing', '9 Ridgeview Avenue',\n",
       "       '6218 Delladonna Parkway', '095 Glacier Hill Circle',\n",
       "       '057 Victoria Crossing', '0 Memorial Road', '409 Starling Lane',\n",
       "       '36963 Pierstorff Terrace', '8069 Sunbrook Way', '9 Hovde Way',\n",
       "       '94 Barby Lane', '0492 Kings Street', '1 Fair Oaks Alley',\n",
       "       '780 Norway Maple Hill', '625 Mandrake Junction', '1037 Roth Park',\n",
       "       '315 Center Park', '1 Graceland Plaza', '98555 Victoria Hill',\n",
       "       '31121 Pierstorff Center', '59 Garrison Terrace',\n",
       "       '2763 Buhler Circle', '309 Maple Wood Pass', '777 Fairfield Court',\n",
       "       '99 Quincy Parkway', '902 Westend Lane', '9 Rieder Junction',\n",
       "       '734 Veith Way', '0800 Dahle Alley', '5 Macpherson Drive',\n",
       "       '07 Boyd Drive', '427 Oak Avenue', '390 Express Plaza',\n",
       "       '703 Ludington Plaza', '7 Dayton Circle', '79 Manufacturers Plaza',\n",
       "       '600 Artisan Drive', '0 Veith Way', '2336 Continental Point',\n",
       "       '535 Corben Point', '1690 Forster Place', '54 6th Trail',\n",
       "       '16 Pepper Wood Junction', '4 Arapahoe Terrace',\n",
       "       '540 Farragut Avenue', '938 Bartillon Hill', '612 Annamark Center',\n",
       "       '18 Sage Plaza', '4 Randy Street', '05 Corry Center',\n",
       "       '1 South Street', '4810 Kim Park', '80388 Ryan Place',\n",
       "       '1092 Kinsman Parkway', '1 Bluejay Court', '7 Maple Wood Plaza',\n",
       "       '12 Eastlawn Terrace', '24929 Spaight Junction',\n",
       "       '846 Daystar Lane', '36 Golf Course Circle', '0 Nelson Crossing',\n",
       "       '93264 Almo Plaza', '2109 Shoshone Court', '355 Roxbury Lane',\n",
       "       '2 Warrior Crossing', '08470 Kingsford Lane', '16898 Donald Plaza',\n",
       "       '3128 Mallory Pass', '799 Luster Road', '53 Dryden Trail',\n",
       "       '5512 Ronald Regan Hill', '72 Melrose Street', '3460 Dapin Street',\n",
       "       '5 Hovde Lane', '4 Gale Center', '5263 Stone Corner Crossing',\n",
       "       '0439 Mandrake Park', '069 Hoard Pass', '89 Green Ridge Point',\n",
       "       '8 Cardinal Junction', '240 Main Hill', '67081 Burrows Center',\n",
       "       '0 Kipling Way', '1 Raven Way', '261 Holy Cross Park',\n",
       "       '891 Ohio Terrace', '1408 Hovde Circle', '50897 Northfield Road',\n",
       "       '596 Boyd Park', '8 Fordem Place', '656 Kennedy Crossing',\n",
       "       '2 Jackson Place', '39408 Manufacturers Road',\n",
       "       '168 Schlimgen Center', '8 Kim Avenue', '920 Cambridge Way',\n",
       "       '4 Schlimgen Trail', '31 Mccormick Court', '65 Milwaukee Lane',\n",
       "       '76 Mendota Park', '26667 Rigney Place', '898 Muir Court',\n",
       "       '88093 Pierstorff Plaza', '3319 Anthes Crossing',\n",
       "       '16 Mosinee Place', '197 Northport Plaza', '10236 Mifflin Avenue',\n",
       "       '5287 Clarendon Plaza', '38407 Sutteridge Circle',\n",
       "       '423 Holy Cross Lane', '0307 Namekagon Crossing',\n",
       "       '743 Stuart Terrace', '1478 Oak Valley Park',\n",
       "       '8970 Anhalt Junction', '563 Waywood Park', '9313 Mayer Street',\n",
       "       '2978 Mccormick Center', '527 Jay Trail', '6 Loftsgordon Pass',\n",
       "       '9940 Manley Drive', '0736 West Crossing', '95796 Mcbride Drive',\n",
       "       '20187 Loomis Court', '17393 Colorado Hill', '65 Rutledge Parkway',\n",
       "       '02023 Loeprich Drive', '9107 Pine View Plaza',\n",
       "       '822 Di Loreto Junction', '2712 Namekagon Crossing',\n",
       "       '32 Hazelcrest Court', '9 Forster Circle', '07226 Anzinger Avenue',\n",
       "       '936 Porter Lane', '6 Havey Pass', '882 Toban Lane',\n",
       "       '844 Forster Place', '42590 Bellgrove Court',\n",
       "       '6060 Veith Crossing', '25 Lakeland Point', '21667 Randy Crossing',\n",
       "       '608 Dapin Court', '8738 Lukken Terrace', '8634 Wayridge Pass',\n",
       "       '5 Homewood Road', '7 Dunning Avenue', '67 Beilfuss Plaza',\n",
       "       '976 Roxbury Alley', '2 Main Lane', '6115 Forest Crossing',\n",
       "       '432 Ronald Regan Court', '8600 Forster Lane',\n",
       "       '6692 Independence Way', '770 Farmco Point', '602 Toban Center',\n",
       "       '74 Shopko Pass', '804 Washington Point', '97 Merrick Center',\n",
       "       '29 Tennyson Alley', '8194 Lien Street', '9503 New Castle Street',\n",
       "       '0 Emmet Trail', '7 Spaight Drive', '45000 Randy Court',\n",
       "       '65 David Pass', '7 Golden Leaf Avenue', '43 Dayton Drive',\n",
       "       '5 Dryden Road', '14183 Iowa Center', '95 Del Mar Court',\n",
       "       '98 Shoshone Road', '7199 Springview Parkway',\n",
       "       '045 Magdeline Court', '5 Hoard Trail', '93 Scofield Pass',\n",
       "       '2 Ridgeway Avenue', '29 Maple Trail', '7 Brentwood Circle',\n",
       "       '28 Hazelcrest Drive', '01 Reindahl Circle', '5880 Hauk Street',\n",
       "       '0 Larry Park', '69 Sunfield Terrace', '7513 Swallow Drive',\n",
       "       '058 Morningstar Center', '0689 Melby Park', '3 Spohn Circle',\n",
       "       '91 Calypso Trail', '43863 Victoria Lane',\n",
       "       '54782 Lake View Parkway', '48971 Marquette Point',\n",
       "       '99 Sherman Parkway', '381 Emmet Terrace', '7 Beilfuss Road',\n",
       "       '37068 Montana Street', '7 Elgar Hill', '36506 Bartillon Point',\n",
       "       '8 Scott Drive', '653 2nd Park', '22 Shelley Plaza',\n",
       "       '504 Stuart Pass', '5 Red Cloud Place', '264 Valley Edge Pass',\n",
       "       '5 Southridge Hill', '539 Graceland Pass', '22435 Barnett Court',\n",
       "       '46057 Harbort Hill', '2 Shasta Place', '77608 Donald Center',\n",
       "       '0433 La Follette Road', '8593 Prairie Rose Way',\n",
       "       '179 Carey Terrace', '3 Ruskin Hill', '87 Crescent Oaks Alley',\n",
       "       '08822 Duke Road', '5 Schurz Street', '344 Darwin Junction',\n",
       "       '320 Acker Drive', '2874 Bay Hill', '3 Sunbrook Alley',\n",
       "       '34 Jay Hill', '78 Bluestem Road', '0 Express Lane',\n",
       "       '077 Hansons Point', '23737 Bartillon Street',\n",
       "       '2 Anniversary Trail', '05 Ronald Regan Alley',\n",
       "       '738 Spaight Drive', '8 Bunker Hill Court', '59846 2nd Pass',\n",
       "       '3745 Thierer Trail', '11121 Jackson Crossing', '1 Elgar Alley',\n",
       "       '32834 Caliangt Way', '27185 Fisk Drive', '2 Harper Junction',\n",
       "       '7 Caliangt Street', '5331 Ilene Parkway', '1009 Roxbury Point',\n",
       "       '660 Carey Avenue', '25 Oneill Alley', '2 Golden Leaf Parkway',\n",
       "       '18 Dottie Park', '85 Badeau Pass', '784 Lotheville Court',\n",
       "       '57568 Northview Junction', '283 Golf View Lane', '7 Johnson Hill',\n",
       "       '22580 Doe Crossing Drive', '96081 Lakewood Hill',\n",
       "       '6634 Old Gate Parkway', '72 Lukken Crossing',\n",
       "       '6 Meadow Ridge Pass', '290 Menomonie Circle',\n",
       "       '6 Sutherland Parkway', '1 Oriole Crossing', '51837 Canary Center',\n",
       "       '43030 Carberry Way', '0 Bay Drive', '6 Anzinger Pass',\n",
       "       '19453 Ramsey Point', '1861 Chive Court', '9 Westerfield Point',\n",
       "       '3 Redwing Center', '189 Bayside Court', '174 Farwell Point',\n",
       "       '356 Pennsylvania Point', '62 Dryden Junction',\n",
       "       '25 Westerfield Road', '64 Armistice Point', '74 Everett Court',\n",
       "       '38 Nobel Lane', '6936 Homewood Avenue', '8 Crowley Center',\n",
       "       '44 Ronald Regan Parkway', '174 Lotheville Crossing',\n",
       "       '8 Bluejay Road', '4286 Rowland Circle', '44 Thompson Center',\n",
       "       '70360 Onsgard Plaza', '53870 Jay Pass', '417 Killdeer Alley',\n",
       "       '28 Prentice Trail', '216 Bultman Park', '435 Mitchell Street',\n",
       "       '15621 Twin Pines Crossing', '03 Bellgrove Avenue',\n",
       "       '89100 Rusk Crossing', '82 Gina Junction', '077 Dennis Lane',\n",
       "       '42280 Namekagon Crossing', '1 Fordem Way', '780 Bonner Pass',\n",
       "       '77916 Moland Park', '00 Southridge Avenue',\n",
       "       '7870 Stuart Crossing', '4 Vera Pass', '7234 Sycamore Pass',\n",
       "       '98454 Dapin Park', '4 Talmadge Road', '47 Susan Park',\n",
       "       '7 Ramsey Trail', '6026 Mallory Drive', '1 Eliot Plaza',\n",
       "       '66 Hoffman Court', '7 Sycamore Terrace',\n",
       "       '31281 Meadow Valley Way', '28 Parkside Park',\n",
       "       '2782 Northridge Street', '3662 Beilfuss Lane',\n",
       "       '56334 Vera Crossing', '79 Sheridan Point', '95960 Warner Parkway',\n",
       "       '04769 Dahle Plaza', '5731 Bunker Hill Lane',\n",
       "       '89244 Macpherson Trail', '922 Utah Avenue', '25044 Bay Avenue',\n",
       "       '315 Hudson Road', '6112 Mariners Cove Park', '176 Fallview Plaza',\n",
       "       '544 Pawling Road', '11 Brickson Park Alley', '77 Paget Park',\n",
       "       '598 Memorial Place', '6227 Quincy Terrace',\n",
       "       '31351 Sunbrook Place', '80 Schiller Center', '1217 Melody Alley',\n",
       "       '46 Westerfield Place', '75024 Ronald Regan Hill', '15 Fisk Road',\n",
       "       '96 Hermina Place', '99376 Namekagon Street', '276 Derek Circle',\n",
       "       '56766 Mariners Cove Place', '13 Montana Place',\n",
       "       '1969 Melody Lane', '02463 Portage Center', '383 Graceland Avenue',\n",
       "       '005 Kensington Street', '1 Alpine Crossing', '2 Namekagon Trail',\n",
       "       '6771 Pleasure Terrace', '2632 Del Mar Point', '7021 5th Alley',\n",
       "       '602 Clove Center', '04153 Johnson Point', '9 Spohn Way',\n",
       "       '6030 Becker Plaza', '4 Mallory Pass', '64037 Swallow Crossing',\n",
       "       '4594 Jackson Hill', '4 Anzinger Street', '33 Pond Point',\n",
       "       '1 Roth Plaza', '0593 Stoughton Center', '8042 Cherokee Court',\n",
       "       '5864 Mcbride Trail', '180 Lakewood Park', '6 Union Center',\n",
       "       '41153 Pond Park', '6233 Fulton Point', '05123 Bobwhite Plaza',\n",
       "       '3413 Schmedeman Court', '4189 Laurel Center', '76 Melody Avenue',\n",
       "       '1 Mcguire Lane', '8734 Fulton Hill', '660 Hallows Place',\n",
       "       '43 Pond Junction', '6195 Bellgrove Lane', '768 Southridge Drive',\n",
       "       '63386 Talisman Hill', '30738 Muir Avenue', '3259 Eagan Parkway',\n",
       "       '160 Fremont Point', '266 Lakewood Terrace', '5280 Waxwing Point',\n",
       "       '192 South Junction', '900 Victoria Way', '06 Main Alley',\n",
       "       '22 Muir Avenue', '4871 Caliangt Hill', '47776 Packers Street',\n",
       "       '535 Graedel Circle', '9 Stephen Center', '074 Badeau Crossing',\n",
       "       '4897 Melody Road', '096 Gateway Road', '68 Bluestem Center',\n",
       "       '6 Maple Plaza', '6812 Gina Point', '1 Becker Parkway',\n",
       "       '52201 Tony Avenue', '2382 Anthes Crossing', '44350 Buell Alley',\n",
       "       '23 Del Sol Alley', '79 Mockingbird Plaza', '858 Portage Hill',\n",
       "       '629 Grasskamp Junction', '88 Aberg Circle', '18 Morning Circle',\n",
       "       '7523 Eggendart Hill', '2 Mandrake Street', '727 Morrow Parkway',\n",
       "       '83497 Memorial Plaza', '488 Briar Crest Court',\n",
       "       '78451 South Street', '6 Prairieview Pass', '5 Ohio Road',\n",
       "       '4787 Golf Terrace', '4 Pine View Junction',\n",
       "       '097 Hollow Ridge Alley', '860 Barby Lane', '6412 Butternut Road',\n",
       "       '15 Weeping Birch Crossing', '891 Sachtjen Hill',\n",
       "       '771 Union Crossing', '22 Farmco Avenue', '01 Bunker Hill Drive',\n",
       "       '7650 Gulseth Parkway', '24815 Lindbergh Avenue',\n",
       "       '924 Lindbergh Court', '1 Manitowish Court', '9 Derek Alley',\n",
       "       '5990 Fairfield Pass', '1 Mandrake Way', '4011 Prairieview Court',\n",
       "       '53877 Dakota Crossing', '49 Northfield Drive', '0 Summit Center',\n",
       "       '66 Shopko Circle', '370 Eastwood Road', '20 Hoffman Park',\n",
       "       '6293 Hooker Point', '30 Harper Trail', '64467 Pankratz Pass',\n",
       "       '900 Brown Junction', '8845 Spaight Way', '85420 Myrtle Road',\n",
       "       '276 Anthes Court', '6315 Mendota Parkway',\n",
       "       '66904 American Ash Hill', '90 Morningstar Drive',\n",
       "       '34020 Sheridan Park', '58 Meadow Valley Court',\n",
       "       '2030 Anderson Lane', '07 Acker Pass', '31815 Vermont Drive',\n",
       "       '5070 Division Parkway', '4 Fordem Avenue', '659 Comanche Plaza',\n",
       "       '5 Myrtle Junction', '723 Grayhawk Way', '55 Dorton Point',\n",
       "       '9 Killdeer Circle', '04 Miller Drive', '64213 Miller Point',\n",
       "       '24593 Jackson Parkway', '9346 Lyons Point', '0504 Nevada Drive',\n",
       "       '817 Loftsgordon Road', '30 Lukken Point', '4 Kingsford Trail',\n",
       "       '42 3rd Plaza', '6660 Riverside Circle', '21712 Texas Court',\n",
       "       '122 Marcy Park', '293 Mendota Park', '47 Scofield Junction',\n",
       "       '9 Washington Center', '7109 Grayhawk Avenue', '70 Evergreen Hill',\n",
       "       '20139 Lakewood Plaza', '9 Memorial Road', '3094 Elka Place',\n",
       "       '31 Schurz Parkway', '85894 Amoth Court', '955 Burning Wood Way',\n",
       "       '27 Crownhardt Center', '41002 Loomis Park', '10 Cottonwood Point',\n",
       "       '2115 Maryland Alley', '6 Milwaukee Hill', '6792 Kropf Hill',\n",
       "       '37 Mesta Road', '85340 Hovde Way', '02643 Moose Court',\n",
       "       '59252 Maryland Drive', '2886 Buena Vista Terrace',\n",
       "       '58770 Monterey Plaza', '2941 Loftsgordon Hill',\n",
       "       '345 Fieldstone Park', '251 Pierstorff Alley', '220 Cody Alley',\n",
       "       '34 Bunting Pass', '99 Park Meadow Hill', '4 Bluestem Pass',\n",
       "       '078 Erie Point', '6 Hansons Crossing', '8 Saint Paul Junction',\n",
       "       '14067 Armistice Plaza', '8491 Pennsylvania Crossing',\n",
       "       '59208 Barnett Avenue', '36 Killdeer Crossing',\n",
       "       '305 Sloan Junction', '88 Shopko Way', '7 Mallory Lane',\n",
       "       '79907 Randy Center', '446 High Crossing Way',\n",
       "       '1530 Columbus Lane', '669 Declaration Street', '9 Ruskin Way',\n",
       "       '8 Burning Wood Junction', '5 Melvin Park', '21316 Ohio Place',\n",
       "       '93 Sutherland Terrace', '1560 Grim Avenue', '1 Quincy Road',\n",
       "       '607 Memorial Avenue', '9594 Badeau Street', '9460 Monument Park',\n",
       "       '72 Village Terrace', '694 Coolidge Center',\n",
       "       '31854 Anniversary Terrace', '125 Manufacturers Parkway',\n",
       "       '260 Briar Crest Drive', '56 Moland Crossing', '1 Shelley Pass',\n",
       "       '0535 Jay Point', '6 Caliangt Way', '2 Sloan Way',\n",
       "       '04 Union Crossing', '33475 Fair Oaks Junction',\n",
       "       '57666 Victoria Way', '21875 Grover Drive'], dtype=object)"
      ]
     },
     "execution_count": 64,
     "metadata": {},
     "output_type": "execute_result"
    }
   ],
   "source": [
    "df.address.unique()"
   ]
  },
  {
   "cell_type": "code",
   "execution_count": 98,
   "metadata": {},
   "outputs": [
    {
     "data": {
      "text/plain": [
       "array(['4500', '2113', '3505', '4814', '2093', '4075', '2620', '2200',\n",
       "       '4151', '4573', '3216', '2032', '2232', '4053', '2500', '4051',\n",
       "       '3040', '2222', '2190', '2161', '2783', '4744', '2257', '4703',\n",
       "       '4817', '2640', 4000, '4171', '3056', '2280', '2470', '4122',\n",
       "       '3226', '2017', '3190', '3280', '2160', '2756', '3149', '2024',\n",
       "       '2761', '3027', '2034', '4852', '4305', '3741', '2067', '3174',\n",
       "       '4017', '3805', '3166', '2226', '2750', '3196', '3156', '3810',\n",
       "       '2763', '2072', '4504', '4214', '2168', '4208', '4078', '4036',\n",
       "       '4173', '2484', '2121', '4068', '2147', '2219', '2759', '3030',\n",
       "       '2212', '2518', '2097', '2046', '3161', '2576', '2026', '2035',\n",
       "       '2479', '4670', '2125', '2263', '2015', '4037', '4510', '2138',\n",
       "       '3350', '3173', '4118', '2390', '3919', '3047', '4116', '2230',\n",
       "       '3153', '2340', '3802', '4207', '2223', '4129', '2546', '2089',\n",
       "       '3094', '2287', '2145', '2209', '4306', '3500', '3818', '2835',\n",
       "       '4405', '2560', '2650', '3240', '4011', '2173', '2114', '4509',\n",
       "       '2284', '2380', '3081', '3765', '2176', '4217', '2164', '2218',\n",
       "       '2153', '3977', '2540', '4570', '2324', '2016', '3201', '4350',\n",
       "       '2170', '4212', '3934', '2564', '2068', '3109', '2326', '2073',\n",
       "       '2227', '2471', '3752', '2205', '2126', '3850', '3038', '2146',\n",
       "       '3122', '2066', '2120', '4179', '2148', '4352', '2177', '2454',\n",
       "       '3806', '3032', '2228', '2766', '4060', '2117', '2250', '3195',\n",
       "       '3687', '4109', '2210', '2448', '2300', '4605', '2429', '4018',\n",
       "       '2144', '4710', '3021', '2165', '4211', '2444', '4285', '2203',\n",
       "       '2446', '4650', '4115', '2519', '2099', '2430', '2007', '2011',\n",
       "       '3429', '2281', '2224', '4307', '4105', '3170', '4065', '3004',\n",
       "       '4556', '4006', '3134', '4680', '4506', '4119', '2166', '3031',\n",
       "       '3206', '4818', '4113', '2155', '3103', '4210', '4165', '2566',\n",
       "       '3199', '2480', '2529', '3976', '2092', '3804', '3046', '3791',\n",
       "       '2111', '4005', '4370', '2680', '4659', '4218', '2770', '3012',\n",
       "       '2019', '3165', '3082', '2795', '2760', '4019', '3167', '2076',\n",
       "       '4272', '2570', '2344', '2305', '4170', '3073', '3029', '2127',\n",
       "       '2582', '3020', '3000', '4503', '4161', '2800', '3013', '3630',\n",
       "       '3207', '3059', '4560', '3163', '4055', '2256', '4158', '3235',\n",
       "       '3101', '2747', '2290', '3075', '2075', '4551', '2641', '3145',\n",
       "       '2323', '4152', '2777', '3175', '3197', '2220', '3204', '4128',\n",
       "       '4600', '3579', '2456', '2211', '2261', '3754', '4124', '2767',\n",
       "       '4740', '2207', '2022', '3192', '4342', '2487', '3130', '3777',\n",
       "       '3023', '3194', '2259', '3106', '2163', '2765', '2460', '2009',\n",
       "       '2880', '2233', '2528', '2154', '2720', '2140', '3753', '2762',\n",
       "       '3356', '3065', '2705', '2440', '4130', '3142', '4301', '2090',\n",
       "       '3814', '3064', '2137', '4103', '3141', '2033', '2171', '3758',\n",
       "       '2571', '4172', '3168', '2322', '2565', '3215', '3930', '2318',\n",
       "       '2573', '3155', '2527', '3803', '4014', '3152', '3070', '4021',\n",
       "       '4183', '3858', '2010', '2320', '4125', '3796', '2000', '3078',\n",
       "       '3051', '2358', '4074', '2262', '3028', '3185', '2217', '3200',\n",
       "       '2289', '2151', '4280', '3335', '2526', '2158', '4701', '4131',\n",
       "       '4520', '2567', '2142', '2030', '3177', '4717', '4213', '2258',\n",
       "       '3133', '2028', '2574', '3585', '3677', '4132', '2539', '3037',\n",
       "       '2753', '2096', '2103', '3129', '2477', '4157', '4114', '3782',\n",
       "       '2070', '2049', '4020', '4032', '4221', '2400', '2062', '2782',\n",
       "       '3690', '2197', '2196', '3143', '2525', '2558', '4030', '3178',\n",
       "       '3083', '2047', '3060', '3816', '3150', '3198', '2130', '3222',\n",
       "       '3444', '4304', '4516', '2122', '2141', '2251', '4178', '3860',\n",
       "       '4508', '2298', '2077', '2069', '4209', '2110', '4102', '3759',\n",
       "       '3158', '2541', '4879', '3184', '3067', '2199', '3437', '2128',\n",
       "       '2042', '4408', '2134', '4575', '3338', '3844', '4034', '2036',\n",
       "       '2025', '3172', '4561', '2420', '2231', '3842', '3147', '2082',\n",
       "       '2234', '2292', '2195', '2135', '2107', '2536', '3981', '4557',\n",
       "       '2193', '4127', '2291', '3121', '2194', '3337', '2156', '2112',\n",
       "       '3105', '2071', '4300', '3250', '2088', '2221', '2101', '3169',\n",
       "       '2118', '4275', '2050', '3851', '3139', '2749', '3058', '2031',\n",
       "       '2871', '4133', '3049', '2450', '2768', '2330', '4227', '3910',\n",
       "       '4154', '2643', '4159', '2213', '3620', '3340', '3181', '2478',\n",
       "       '2530', '3015', '2038', '3048', '3564', '4123', '4035', '2104',\n",
       "       '2192', '3186', '3228', '4720', '2074', '3277', '2422', '3079',\n",
       "       '4702', '4215'], dtype=object)"
      ]
     },
     "execution_count": 98,
     "metadata": {},
     "output_type": "execute_result"
    }
   ],
   "source": [
    "df.postcode.unique()"
   ]
  },
  {
   "cell_type": "code",
   "execution_count": 99,
   "metadata": {},
   "outputs": [
    {
     "data": {
      "text/plain": [
       "2232    9\n",
       "2145    9\n",
       "4207    7\n",
       "3977    7\n",
       "2148    7\n",
       "       ..\n",
       "2326    1\n",
       "2420    1\n",
       "4306    1\n",
       "2487    1\n",
       "2118    1\n",
       "Name: postcode, Length: 522, dtype: int64"
      ]
     },
     "execution_count": 99,
     "metadata": {},
     "output_type": "execute_result"
    }
   ],
   "source": [
    "df['postcode'].value_counts()"
   ]
  },
  {
   "cell_type": "code",
   "execution_count": 66,
   "metadata": {},
   "outputs": [
    {
     "data": {
      "text/plain": [
       "array(['QLD', 'NSW', 'VIC'], dtype=object)"
      ]
     },
     "execution_count": 66,
     "metadata": {},
     "output_type": "execute_result"
    }
   ],
   "source": [
    "df.state.unique()"
   ]
  },
  {
   "cell_type": "code",
   "execution_count": 67,
   "metadata": {},
   "outputs": [
    {
     "data": {
      "text/plain": [
       "array(['Australia'], dtype=object)"
      ]
     },
     "execution_count": 67,
     "metadata": {},
     "output_type": "execute_result"
    }
   ],
   "source": [
    "df.country.unique()"
   ]
  },
  {
   "cell_type": "code",
   "execution_count": 96,
   "metadata": {},
   "outputs": [
    {
     "data": {
      "text/plain": [
       "array(['6', '11', '5', '1', '9', '7', '10', '8', '4', '2', 11, '12', '3',\n",
       "       8, 6, 7], dtype=object)"
      ]
     },
     "execution_count": 96,
     "metadata": {},
     "output_type": "execute_result"
    }
   ],
   "source": [
    "df.property_valuation.unique()"
   ]
  },
  {
   "cell_type": "code",
   "execution_count": 97,
   "metadata": {},
   "outputs": [
    {
     "data": {
      "text/plain": [
       "9     173\n",
       "8     161\n",
       "7     136\n",
       "10    116\n",
       "6      69\n",
       "11     61\n",
       "5      57\n",
       "4      53\n",
       "3      51\n",
       "12     46\n",
       "2      42\n",
       "1      30\n",
       "7       2\n",
       "11      1\n",
       "8       1\n",
       "6       1\n",
       "Name: property_valuation, dtype: int64"
      ]
     },
     "execution_count": 97,
     "metadata": {},
     "output_type": "execute_result"
    }
   ],
   "source": [
    "df['property_valuation'].value_counts()"
   ]
  },
  {
   "cell_type": "code",
   "execution_count": 95,
   "metadata": {},
   "outputs": [
    {
     "data": {
      "text/plain": [
       "760    13\n",
       "259    12\n",
       "133     9\n",
       "455     9\n",
       "904     9\n",
       "       ..\n",
       "201     1\n",
       "355     1\n",
       "947     1\n",
       "190     1\n",
       "590     1\n",
       "Name: Rank, Length: 324, dtype: int64"
      ]
     },
     "execution_count": 95,
     "metadata": {},
     "output_type": "execute_result"
    }
   ],
   "source": [
    "df['Rank'].value_counts()"
   ]
  },
  {
   "cell_type": "code",
   "execution_count": 69,
   "metadata": {},
   "outputs": [
    {
     "data": {
      "text/plain": [
       "array([1, 4, 6, 8, 10, 12, 13, 14, 16, 17, 19, 21, 23, 25, 26, 30, 32, 36,\n",
       "       38, 40, 42, 44, 46, 50, 52, 54, 57, 62, 65, 68, 72, 77, 78, 84, 85,\n",
       "       88, 89, 96, 99, 102, 104, 111, 114, 120, 125, 127, 132, 133, 142,\n",
       "       144, 146, 152, 153, 154, 155, 157, 158, 163, 166, 173, 174, 177,\n",
       "       181, 188, 190, 191, 195, 201, 202, 206, 212, 215, 218, 219, 223,\n",
       "       226, 230, 231, 233, 237, 240, 241, 244, 248, 249, 250, 252, 259,\n",
       "       271, 274, 278, 282, 284, 285, 287, 289, 291, 295, 297, 302, 304,\n",
       "       310, 312, 320, 322, 324, 326, 329, 334, 338, 341, 345, 349, 355,\n",
       "       356, 358, 361, 366, 370, 371, 372, 375, 378, 382, 386, 395, 396,\n",
       "       401, 405, 408, 409, 414, 415, 418, 419, 420, 427, 429, 430, 433,\n",
       "       436, 441, 444, 450, 455, 464, 466, 468, 471, 473, 475, 478, 483,\n",
       "       485, 486, 492, 494, 495, 498, 500, 502, 504, 507, 513, 515, 520,\n",
       "       524, 526, 529, 530, 536, 544, 546, 549, 551, 552, 555, 561, 562,\n",
       "       563, 568, 574, 575, 582, 583, 587, 590, 591, 594, 595, 599, 602,\n",
       "       603, 604, 606, 609, 612, 615, 617, 620, 625, 626, 632, 634, 637,\n",
       "       641, 642, 643, 644, 646, 648, 651, 653, 655, 657, 658, 662, 666,\n",
       "       668, 672, 674, 676, 682, 684, 688, 691, 698, 700, 708, 715, 719,\n",
       "       722, 724, 725, 731, 733, 739, 741, 744, 747, 748, 750, 751, 754,\n",
       "       755, 760, 773, 774, 778, 780, 782, 785, 786, 788, 791, 793, 794,\n",
       "       795, 797, 801, 804, 808, 810, 817, 820, 828, 830, 832, 838, 840,\n",
       "       842, 843, 845, 851, 854, 856, 859, 862, 865, 870, 871, 877, 879,\n",
       "       882, 883, 888, 893, 896, 898, 899, 903, 904, 913, 920, 921, 924,\n",
       "       926, 928, 930, 936, 937, 939, 944, 947, 948, 951, 954, 956, 960,\n",
       "       963, 967, 972, 974, 977, 979, 983, 985, 987, 988, 993, 994, 996,\n",
       "       997, 1000], dtype=object)"
      ]
     },
     "execution_count": 69,
     "metadata": {},
     "output_type": "execute_result"
    }
   ],
   "source": [
    "df.Rank.unique()"
   ]
  },
  {
   "cell_type": "code",
   "execution_count": 71,
   "metadata": {},
   "outputs": [
    {
     "data": {
      "text/plain": [
       "array([1.71875, 1.703125, 1.671875, 1.65625, 1.640625, 1.625, 1.609375,\n",
       "       1.59375, 1.5625, 1.546875, 1.53125, 1.515625, 1.5, 1.484375,\n",
       "       1.46875, 1.4609375, 1.453125, 1.44765625, 1.4375, 1.434375,\n",
       "       1.421875, 1.42109375, 1.4078125, 1.40625, 1.39453125, 1.38125,\n",
       "       1.375, 1.36796875, 1.3625, 1.3546875, 1.35, 1.34140625, 1.3375,\n",
       "       1.328125, 1.325, 1.31484375, 1.3125, 1.3, 1.296875, 1.28828125,\n",
       "       1.2875, 1.28125, 1.275, 1.2625, 1.26171875, 1.25, 1.2484375,\n",
       "       1.2375, 1.23515625, 1.234375, 1.225, 1.221875, 1.21875, 1.203125,\n",
       "       1.2, 1.1953125, 1.1875, 1.18203125, 1.175, 1.171875, 1.16875,\n",
       "       1.1625, 1.158125, 1.15625, 1.15546875, 1.15, 1.1475, 1.1421875,\n",
       "       1.140625, 1.1375, 1.136875, 1.12890625, 1.12625, 1.125, 1.115625,\n",
       "       1.1125, 1.109375, 1.105, 1.1, 1.094375, 1.09, 1.0875, 1.08375,\n",
       "       1.078125, 1.07578125, 1.075, 1.073125, 1.0625, 1.06, 1.051875,\n",
       "       1.05, 1.04921875, 1.046875, 1.04125, 1.04, 1.0375, 1.0359375,\n",
       "       1.03125, 1.030625, 1.03, 1.025, 1.02265625, 1.02, 1.015625, 1.0125,\n",
       "       1.01, 1.009375, 1, 0.9987499999999998, 0.99609375, 0.99, 0.988125,\n",
       "       0.9875, 0.984375, 0.9828125, 0.98, 0.9775, 0.9750000000000001,\n",
       "       0.97, 0.96875, 0.9668749999999999, 0.96, 0.9562499999999999, 0.95,\n",
       "       0.945625, 0.94, 0.9375, 0.935, 0.93, 0.9296875, 0.925, 0.924375,\n",
       "       0.9218749999999999, 0.918, 0.91640625, 0.91375, 0.9125, 0.91,\n",
       "       0.9095, 0.90625, 0.903125, 0.901, 0.9, 0.8999999999999999, 0.8925,\n",
       "       0.8906249999999999, 0.89, 0.8898437499999999, 0.8875, 0.884,\n",
       "       0.8818749999999999, 0.88, 0.8765625, 0.8755, 0.875,\n",
       "       0.8712499999999999, 0.867, 0.86328125, 0.8606250000000001, 0.86,\n",
       "       0.8584999999999999, 0.8500000000000001, 0.85, 0.8415, 0.839375,\n",
       "       0.8375, 0.83671875, 0.833, 0.83, 0.8287500000000001,\n",
       "       0.8250000000000001, 0.8245, 0.8234374999999999, 0.82, 0.818125,\n",
       "       0.816, 0.8125, 0.81015625, 0.81, 0.8075, 0.8, 0.7989999999999999,\n",
       "       0.796875, 0.79, 0.7875, 0.78625, 0.7835937499999999, 0.782,\n",
       "       0.78125, 0.775625, 0.775, 0.7735, 0.7703125, 0.765,\n",
       "       0.7649999999999999, 0.7625, 0.7570312499999999, 0.7565,\n",
       "       0.7543749999999999, 0.75, 0.748, 0.74375, 0.74, 0.7394999999999999,\n",
       "       0.7374999999999999, 0.7343749999999999, 0.7331249999999999, 0.731,\n",
       "       0.73046875, 0.73, 0.725, 0.7225, 0.7187500000000001, 0.7171875,\n",
       "       0.714, 0.7124999999999999, 0.711875, 0.71, 0.7054999999999999,\n",
       "       0.7039062500000001, 0.703125, 0.70125, 0.7000000000000001, 0.7,\n",
       "       0.697, 0.6906249999999999, 0.69, 0.6875, 0.68, 0.67734375, 0.675,\n",
       "       0.6715, 0.67, 0.6693749999999999, 0.6640625, 0.6625000000000001,\n",
       "       0.66, 0.65875, 0.65625, 0.6545, 0.65078125, 0.65, 0.648125, 0.646,\n",
       "       0.64, 0.6375, 0.63, 0.626875, 0.625, 0.6242187499999999,\n",
       "       0.6204999999999999, 0.62, 0.61625, 0.6125, 0.612,\n",
       "       0.6109375000000001, 0.6056249999999999, 0.6034999999999999, 0.6,\n",
       "       0.59765625, 0.5950000000000001, 0.595, 0.5874999999999999,\n",
       "       0.5864999999999999, 0.584375, 0.58, 0.5780000000000001,\n",
       "       0.5750000000000001, 0.57375, 0.57109375, 0.57, 0.5695,\n",
       "       0.5631250000000001, 0.5625, 0.561, 0.56, 0.5578124999999999,\n",
       "       0.5525, 0.55, 0.544, 0.541875, 0.54, 0.5375, 0.5355, 0.53125,\n",
       "       0.525, 0.520625, 0.52, 0.5125, 0.51, 0.5015, 0.5,\n",
       "       0.4993749999999999, 0.4929999999999999, 0.49, 0.48875,\n",
       "       0.4844999999999999, 0.48, 0.478125, 0.476, 0.47, 0.4675, 0.46,\n",
       "       0.459, 0.456875, 0.4505, 0.45, 0.44625, 0.442, 0.44,\n",
       "       0.4356249999999999, 0.43, 0.425, 0.42, 0.4165, 0.41, 0.408, 0.4,\n",
       "       0.3995, 0.391, 0.3825, 0.374, 0.357, 0.34], dtype=object)"
      ]
     },
     "execution_count": 71,
     "metadata": {},
     "output_type": "execute_result"
    }
   ],
   "source": [
    "df.Value.unique()"
   ]
  },
  {
   "cell_type": "code",
   "execution_count": 72,
   "metadata": {},
   "outputs": [
    {
     "data": {
      "text/plain": [
       "<matplotlib.axes._subplots.AxesSubplot at 0x2973723b708>"
      ]
     },
     "execution_count": 72,
     "metadata": {},
     "output_type": "execute_result"
    },
    {
     "data": {
      "image/png": "[encoded data removed]",
      "text/plain": [
       "<Figure size 720x360 with 1 Axes>"
      ]
     },
     "metadata": {},
     "output_type": "display_data"
    }
   ],
   "source": [
    "sns.countplot(x = \"gender\", data = df)"
   ]
  },
  {
   "cell_type": "code",
   "execution_count": 81,
   "metadata": {},
   "outputs": [
    {
     "data": {
      "text/plain": [
       "<matplotlib.axes._subplots.AxesSubplot at 0x2973722ae48>"
      ]
     },
     "execution_count": 81,
     "metadata": {},
     "output_type": "execute_result"
    },
    {
     "data": {
      "image/png": "[encoded data removed]",
      "text/plain": [
       "<Figure size 720x360 with 1 Axes>"
      ]
     },
     "metadata": {},
     "output_type": "display_data"
    }
   ],
   "source": [
    "sns.countplot(x = \"wealth_segment\", data = df)"
   ]
  },
  {
   "cell_type": "code",
   "execution_count": 82,
   "metadata": {},
   "outputs": [
    {
     "data": {
      "text/plain": [
       "<matplotlib.axes._subplots.AxesSubplot at 0x29735c65c48>"
      ]
     },
     "execution_count": 82,
     "metadata": {},
     "output_type": "execute_result"
    },
    {
     "data": {
      "image/png": "[encoded data removed]",
      "text/plain": [
       "<Figure size 720x360 with 1 Axes>"
      ]
     },
     "metadata": {},
     "output_type": "display_data"
    }
   ],
   "source": [
    "sns.countplot(x = \"owns_car\", data = df)"
   ]
  },
  {
   "cell_type": "code",
   "execution_count": 83,
   "metadata": {},
   "outputs": [
    {
     "data": {
      "text/plain": [
       "<matplotlib.axes._subplots.AxesSubplot at 0x29735bf1188>"
      ]
     },
     "execution_count": 83,
     "metadata": {},
     "output_type": "execute_result"
    },
    {
     "data": {
      "image/png": "[encoded data removed]",
      "text/plain": [
       "<Figure size 720x360 with 1 Axes>"
      ]
     },
     "metadata": {},
     "output_type": "display_data"
    }
   ],
   "source": [
    "df['tenure'].plot.hist(bins = 20)"
   ]
  },
  {
   "cell_type": "code",
   "execution_count": 84,
   "metadata": {},
   "outputs": [
    {
     "data": {
      "text/plain": [
       "<matplotlib.axes._subplots.AxesSubplot at 0x29737faebc8>"
      ]
     },
     "execution_count": 84,
     "metadata": {},
     "output_type": "execute_result"
    },
    {
     "data": {
      "image/png": "[encoded data removed]",
      "text/plain": [
       "<Figure size 720x360 with 1 Axes>"
      ]
     },
     "metadata": {},
     "output_type": "display_data"
    }
   ],
   "source": [
    "sns.countplot(x = \"state\", data = df)"
   ]
  },
  {
   "cell_type": "code",
   "execution_count": 85,
   "metadata": {},
   "outputs": [
    {
     "data": {
      "text/plain": [
       "<matplotlib.axes._subplots.AxesSubplot at 0x297374f84c8>"
      ]
     },
     "execution_count": 85,
     "metadata": {},
     "output_type": "execute_result"
    },
    {
     "data": {
      "image/png": "[encoded data removed]",
      "text/plain": [
       "<Figure size 720x360 with 1 Axes>"
      ]
     },
     "metadata": {},
     "output_type": "display_data"
    }
   ],
   "source": [
    "sns.countplot(x = \"property_valuation\", data = df)"
   ]
  },
  {
   "cell_type": "code",
   "execution_count": 88,
   "metadata": {},
   "outputs": [
    {
     "data": {
      "text/plain": [
       "<matplotlib.axes._subplots.AxesSubplot at 0x2973799b148>"
      ]
     },
     "execution_count": 88,
     "metadata": {},
     "output_type": "execute_result"
    },
    {
     "data": {
      "image/png": "[encoded data removed]",
      "text/plain": [
       "<Figure size 720x360 with 1 Axes>"
      ]
     },
     "metadata": {},
     "output_type": "display_data"
    }
   ],
   "source": [
    "df['Rank'].plot.hist(bins = 20)"
   ]
  },
  {
   "cell_type": "code",
   "execution_count": 89,
   "metadata": {},
   "outputs": [
    {
     "data": {
      "text/plain": [
       "<matplotlib.axes._subplots.AxesSubplot at 0x29737504fc8>"
      ]
     },
     "execution_count": 89,
     "metadata": {},
     "output_type": "execute_result"
    },
    {
     "data": {
      "image/png": "[encoded data removed]",
      "text/plain": [
       "<Figure size 720x360 with 1 Axes>"
      ]
     },
     "metadata": {},
     "output_type": "display_data"
    }
   ],
   "source": [
    "df['Value'].plot.hist(bins = 20)"
   ]
  },
  {
   "cell_type": "markdown",
   "metadata": {},
   "source": [
    "The values are having \n",
    "\n",
    "1.) Good accurate values with column specified values.\n",
    "\n",
    "2.) The values are consistent in their respective columns with proper feed.\n",
    "\n",
    "3.) The values are up to date from the year they are collected and are valid for that year.\n",
    "\n",
    "4.) Relevant values related to the customers are present in the field with no extra values that take up unecessary space.\n",
    "\n",
    "5.) Valid values are present inside the columns which makes the dataset suitbale for usage with a brief editing.\n",
    "\n",
    "6.) Unique valuesa are present in the dataframe as showned above."
   ]
  },
  {
   "cell_type": "code",
   "execution_count": null,
   "metadata": {},
   "outputs": [],
   "source": []
  }
 ],
 "metadata": {
  "kernelspec": {
   "display_name": "Python 3",
   "language": "python",
   "name": "python3"
  },
  "language_info": {
   "codemirror_mode": {
    "name": "ipython",
    "version": 3
   },
   "file_extension": ".py",
   "mimetype": "text/x-python",
   "name": "python",
   "nbconvert_exporter": "python",
   "pygments_lexer": "ipython3",
   "version": "3.7.4"
  }
 },
 "nbformat": 4,
 "nbformat_minor": 2
}
