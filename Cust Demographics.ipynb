{
 "cells": [
  {
   "cell_type": "code",
   "execution_count": 1,
   "metadata": {},
   "outputs": [],
   "source": [
    "import pandas as pd\n",
    "import matplotlib.pyplot as plt\n",
    "import seaborn as sns\n",
    "%matplotlib inline"
   ]
  },
  {
   "cell_type": "code",
   "execution_count": 2,
   "metadata": {},
   "outputs": [],
   "source": [
    "df = pd.read_excel('KPMG.xlsx', sheet_name = 'CustomerDemographic')"
   ]
  },
  {
   "cell_type": "code",
   "execution_count": 3,
   "metadata": {},
   "outputs": [
    {
     "data": {
      "text/html": [
       "<div>\n",
       "<style scoped>\n",
       "    .dataframe tbody tr th:only-of-type {\n",
       "        vertical-align: middle;\n",
       "    }\n",
       "\n",
       "    .dataframe tbody tr th {\n",
       "        vertical-align: top;\n",
       "    }\n",
       "\n",
       "    .dataframe thead th {\n",
       "        text-align: right;\n",
       "    }\n",
       "</style>\n",
       "<table border=\"1\" class=\"dataframe\">\n",
       "  <thead>\n",
       "    <tr style=\"text-align: right;\">\n",
       "      <th></th>\n",
       "      <th>Note: The data and information in this document is reflective of a hypothetical situation and client. This document is to be used for KPMG Virtual Internship purposes only.</th>\n",
       "      <th>Unnamed: 1</th>\n",
       "      <th>Unnamed: 2</th>\n",
       "      <th>Unnamed: 3</th>\n",
       "      <th>Unnamed: 4</th>\n",
       "      <th>Unnamed: 5</th>\n",
       "      <th>Unnamed: 6</th>\n",
       "      <th>Unnamed: 7</th>\n",
       "      <th>Unnamed: 8</th>\n",
       "      <th>Unnamed: 9</th>\n",
       "      <th>Unnamed: 10</th>\n",
       "      <th>Unnamed: 11</th>\n",
       "      <th>Unnamed: 12</th>\n",
       "    </tr>\n",
       "  </thead>\n",
       "  <tbody>\n",
       "    <tr>\n",
       "      <td>0</td>\n",
       "      <td>customer_id</td>\n",
       "      <td>first_name</td>\n",
       "      <td>last_name</td>\n",
       "      <td>gender</td>\n",
       "      <td>past_3_years_bike_related_purchases</td>\n",
       "      <td>DOB</td>\n",
       "      <td>job_title</td>\n",
       "      <td>job_industry_category</td>\n",
       "      <td>wealth_segment</td>\n",
       "      <td>deceased_indicator</td>\n",
       "      <td>default</td>\n",
       "      <td>owns_car</td>\n",
       "      <td>tenure</td>\n",
       "    </tr>\n",
       "    <tr>\n",
       "      <td>1</td>\n",
       "      <td>1</td>\n",
       "      <td>Laraine</td>\n",
       "      <td>Medendorp</td>\n",
       "      <td>F</td>\n",
       "      <td>93</td>\n",
       "      <td>1953-10-12 00:00:00</td>\n",
       "      <td>Executive Secretary</td>\n",
       "      <td>Health</td>\n",
       "      <td>Mass Customer</td>\n",
       "      <td>N</td>\n",
       "      <td>\"'</td>\n",
       "      <td>Yes</td>\n",
       "      <td>11</td>\n",
       "    </tr>\n",
       "    <tr>\n",
       "      <td>2</td>\n",
       "      <td>2</td>\n",
       "      <td>Eli</td>\n",
       "      <td>Bockman</td>\n",
       "      <td>Male</td>\n",
       "      <td>81</td>\n",
       "      <td>1980-12-16 00:00:00</td>\n",
       "      <td>Administrative Officer</td>\n",
       "      <td>Financial Services</td>\n",
       "      <td>Mass Customer</td>\n",
       "      <td>N</td>\n",
       "      <td>&lt;script&gt;alert('hi')&lt;/script&gt;</td>\n",
       "      <td>Yes</td>\n",
       "      <td>16</td>\n",
       "    </tr>\n",
       "    <tr>\n",
       "      <td>3</td>\n",
       "      <td>3</td>\n",
       "      <td>Arlin</td>\n",
       "      <td>Dearle</td>\n",
       "      <td>Male</td>\n",
       "      <td>61</td>\n",
       "      <td>1954-01-20 00:00:00</td>\n",
       "      <td>Recruiting Manager</td>\n",
       "      <td>Property</td>\n",
       "      <td>Mass Customer</td>\n",
       "      <td>N</td>\n",
       "      <td>2018-02-01 00:00:00</td>\n",
       "      <td>Yes</td>\n",
       "      <td>15</td>\n",
       "    </tr>\n",
       "    <tr>\n",
       "      <td>4</td>\n",
       "      <td>4</td>\n",
       "      <td>Talbot</td>\n",
       "      <td>NaN</td>\n",
       "      <td>Male</td>\n",
       "      <td>33</td>\n",
       "      <td>1961-10-03 00:00:00</td>\n",
       "      <td>NaN</td>\n",
       "      <td>IT</td>\n",
       "      <td>Mass Customer</td>\n",
       "      <td>N</td>\n",
       "      <td>() { _; } &gt;_[$($())] { touch /tmp/blns.shellsh...</td>\n",
       "      <td>No</td>\n",
       "      <td>7</td>\n",
       "    </tr>\n",
       "  </tbody>\n",
       "</table>\n",
       "</div>"
      ],
      "text/plain": [
       "  Note: The data and information in this document is reflective of a hypothetical situation and client. This document is to be used for KPMG Virtual Internship purposes only.   \\\n",
       "0                                        customer_id                                                                                                                              \n",
       "1                                                  1                                                                                                                              \n",
       "2                                                  2                                                                                                                              \n",
       "3                                                  3                                                                                                                              \n",
       "4                                                  4                                                                                                                              \n",
       "\n",
       "   Unnamed: 1 Unnamed: 2 Unnamed: 3                           Unnamed: 4  \\\n",
       "0  first_name  last_name     gender  past_3_years_bike_related_purchases   \n",
       "1     Laraine  Medendorp          F                                   93   \n",
       "2         Eli    Bockman       Male                                   81   \n",
       "3       Arlin     Dearle       Male                                   61   \n",
       "4      Talbot        NaN       Male                                   33   \n",
       "\n",
       "            Unnamed: 5              Unnamed: 6             Unnamed: 7  \\\n",
       "0                  DOB               job_title  job_industry_category   \n",
       "1  1953-10-12 00:00:00     Executive Secretary                 Health   \n",
       "2  1980-12-16 00:00:00  Administrative Officer     Financial Services   \n",
       "3  1954-01-20 00:00:00      Recruiting Manager               Property   \n",
       "4  1961-10-03 00:00:00                     NaN                     IT   \n",
       "\n",
       "       Unnamed: 8          Unnamed: 9  \\\n",
       "0  wealth_segment  deceased_indicator   \n",
       "1   Mass Customer                   N   \n",
       "2   Mass Customer                   N   \n",
       "3   Mass Customer                   N   \n",
       "4   Mass Customer                   N   \n",
       "\n",
       "                                         Unnamed: 10 Unnamed: 11 Unnamed: 12  \n",
       "0                                            default    owns_car      tenure  \n",
       "1                                                 \"'         Yes          11  \n",
       "2                       <script>alert('hi')</script>         Yes          16  \n",
       "3                                2018-02-01 00:00:00         Yes          15  \n",
       "4  () { _; } >_[$($())] { touch /tmp/blns.shellsh...          No           7  "
      ]
     },
     "execution_count": 3,
     "metadata": {},
     "output_type": "execute_result"
    }
   ],
   "source": [
    "df.head()"
   ]
  },
  {
   "cell_type": "code",
   "execution_count": 70,
   "metadata": {},
   "outputs": [
    {
     "data": {
      "text/plain": [
       "(4000, 13)"
      ]
     },
     "execution_count": 70,
     "metadata": {},
     "output_type": "execute_result"
    }
   ],
   "source": [
    "df.shape"
   ]
  },
  {
   "cell_type": "markdown",
   "metadata": {},
   "source": [
    "# Converting column headings into appropriate values"
   ]
  },
  {
   "cell_type": "code",
   "execution_count": 9,
   "metadata": {},
   "outputs": [],
   "source": [
    "df.rename(columns ={'Note: The data and information in this document is reflective of a hypothetical situation and client. This document is to be used for KPMG Virtual Internship purposes only. ':'customer_id',\n",
    "                   'Unnamed: 1':'first_name','Unnamed: 2':'last_name','Unnamed: 3':'gender','Unnamed: 4':'past_3_years_bike_related_purchases','Unnamed: 5':'DOB','Unnamed: 6':'job_title','Unnamed: 7':'job_industry_category',\n",
    "                    'Unnamed: 8':'wealth_segment','Unnamed: 9':'deceased_indicator','Unnamed: 10':'default','Unnamed: 11':'owns_car','Unnamed: 12':'tenure'\n",
    "                   } ,inplace = True)"
   ]
  },
  {
   "cell_type": "code",
   "execution_count": 10,
   "metadata": {},
   "outputs": [
    {
     "data": {
      "text/html": [
       "<div>\n",
       "<style scoped>\n",
       "    .dataframe tbody tr th:only-of-type {\n",
       "        vertical-align: middle;\n",
       "    }\n",
       "\n",
       "    .dataframe tbody tr th {\n",
       "        vertical-align: top;\n",
       "    }\n",
       "\n",
       "    .dataframe thead th {\n",
       "        text-align: right;\n",
       "    }\n",
       "</style>\n",
       "<table border=\"1\" class=\"dataframe\">\n",
       "  <thead>\n",
       "    <tr style=\"text-align: right;\">\n",
       "      <th></th>\n",
       "      <th>customer_id</th>\n",
       "      <th>first_name</th>\n",
       "      <th>last_name</th>\n",
       "      <th>gender</th>\n",
       "      <th>past_3_years_bike_related_purchases</th>\n",
       "      <th>DOB</th>\n",
       "      <th>job_title</th>\n",
       "      <th>job_industry_category</th>\n",
       "      <th>wealth_segment</th>\n",
       "      <th>deceased_indicator</th>\n",
       "      <th>default</th>\n",
       "      <th>owns_car</th>\n",
       "      <th>tenure</th>\n",
       "    </tr>\n",
       "  </thead>\n",
       "  <tbody>\n",
       "    <tr>\n",
       "      <td>0</td>\n",
       "      <td>customer_id</td>\n",
       "      <td>first_name</td>\n",
       "      <td>last_name</td>\n",
       "      <td>gender</td>\n",
       "      <td>past_3_years_bike_related_purchases</td>\n",
       "      <td>DOB</td>\n",
       "      <td>job_title</td>\n",
       "      <td>job_industry_category</td>\n",
       "      <td>wealth_segment</td>\n",
       "      <td>deceased_indicator</td>\n",
       "      <td>default</td>\n",
       "      <td>owns_car</td>\n",
       "      <td>tenure</td>\n",
       "    </tr>\n",
       "    <tr>\n",
       "      <td>1</td>\n",
       "      <td>1</td>\n",
       "      <td>Laraine</td>\n",
       "      <td>Medendorp</td>\n",
       "      <td>F</td>\n",
       "      <td>93</td>\n",
       "      <td>1953-10-12 00:00:00</td>\n",
       "      <td>Executive Secretary</td>\n",
       "      <td>Health</td>\n",
       "      <td>Mass Customer</td>\n",
       "      <td>N</td>\n",
       "      <td>\"'</td>\n",
       "      <td>Yes</td>\n",
       "      <td>11</td>\n",
       "    </tr>\n",
       "    <tr>\n",
       "      <td>2</td>\n",
       "      <td>2</td>\n",
       "      <td>Eli</td>\n",
       "      <td>Bockman</td>\n",
       "      <td>Male</td>\n",
       "      <td>81</td>\n",
       "      <td>1980-12-16 00:00:00</td>\n",
       "      <td>Administrative Officer</td>\n",
       "      <td>Financial Services</td>\n",
       "      <td>Mass Customer</td>\n",
       "      <td>N</td>\n",
       "      <td>&lt;script&gt;alert('hi')&lt;/script&gt;</td>\n",
       "      <td>Yes</td>\n",
       "      <td>16</td>\n",
       "    </tr>\n",
       "    <tr>\n",
       "      <td>3</td>\n",
       "      <td>3</td>\n",
       "      <td>Arlin</td>\n",
       "      <td>Dearle</td>\n",
       "      <td>Male</td>\n",
       "      <td>61</td>\n",
       "      <td>1954-01-20 00:00:00</td>\n",
       "      <td>Recruiting Manager</td>\n",
       "      <td>Property</td>\n",
       "      <td>Mass Customer</td>\n",
       "      <td>N</td>\n",
       "      <td>2018-02-01 00:00:00</td>\n",
       "      <td>Yes</td>\n",
       "      <td>15</td>\n",
       "    </tr>\n",
       "    <tr>\n",
       "      <td>4</td>\n",
       "      <td>4</td>\n",
       "      <td>Talbot</td>\n",
       "      <td>NaN</td>\n",
       "      <td>Male</td>\n",
       "      <td>33</td>\n",
       "      <td>1961-10-03 00:00:00</td>\n",
       "      <td>NaN</td>\n",
       "      <td>IT</td>\n",
       "      <td>Mass Customer</td>\n",
       "      <td>N</td>\n",
       "      <td>() { _; } &gt;_[$($())] { touch /tmp/blns.shellsh...</td>\n",
       "      <td>No</td>\n",
       "      <td>7</td>\n",
       "    </tr>\n",
       "  </tbody>\n",
       "</table>\n",
       "</div>"
      ],
      "text/plain": [
       "   customer_id  first_name  last_name  gender  \\\n",
       "0  customer_id  first_name  last_name  gender   \n",
       "1            1     Laraine  Medendorp       F   \n",
       "2            2         Eli    Bockman    Male   \n",
       "3            3       Arlin     Dearle    Male   \n",
       "4            4      Talbot        NaN    Male   \n",
       "\n",
       "   past_3_years_bike_related_purchases                  DOB  \\\n",
       "0  past_3_years_bike_related_purchases                  DOB   \n",
       "1                                   93  1953-10-12 00:00:00   \n",
       "2                                   81  1980-12-16 00:00:00   \n",
       "3                                   61  1954-01-20 00:00:00   \n",
       "4                                   33  1961-10-03 00:00:00   \n",
       "\n",
       "                job_title  job_industry_category  wealth_segment  \\\n",
       "0               job_title  job_industry_category  wealth_segment   \n",
       "1     Executive Secretary                 Health   Mass Customer   \n",
       "2  Administrative Officer     Financial Services   Mass Customer   \n",
       "3      Recruiting Manager               Property   Mass Customer   \n",
       "4                     NaN                     IT   Mass Customer   \n",
       "\n",
       "   deceased_indicator                                            default  \\\n",
       "0  deceased_indicator                                            default   \n",
       "1                   N                                                 \"'   \n",
       "2                   N                       <script>alert('hi')</script>   \n",
       "3                   N                                2018-02-01 00:00:00   \n",
       "4                   N  () { _; } >_[$($())] { touch /tmp/blns.shellsh...   \n",
       "\n",
       "   owns_car  tenure  \n",
       "0  owns_car  tenure  \n",
       "1       Yes      11  \n",
       "2       Yes      16  \n",
       "3       Yes      15  \n",
       "4        No       7  "
      ]
     },
     "execution_count": 10,
     "metadata": {},
     "output_type": "execute_result"
    }
   ],
   "source": [
    "df.head()"
   ]
  },
  {
   "cell_type": "code",
   "execution_count": 11,
   "metadata": {},
   "outputs": [],
   "source": [
    "df.drop(df.index[0],inplace = True)"
   ]
  },
  {
   "cell_type": "code",
   "execution_count": 71,
   "metadata": {},
   "outputs": [
    {
     "data": {
      "text/html": [
       "<div>\n",
       "<style scoped>\n",
       "    .dataframe tbody tr th:only-of-type {\n",
       "        vertical-align: middle;\n",
       "    }\n",
       "\n",
       "    .dataframe tbody tr th {\n",
       "        vertical-align: top;\n",
       "    }\n",
       "\n",
       "    .dataframe thead th {\n",
       "        text-align: right;\n",
       "    }\n",
       "</style>\n",
       "<table border=\"1\" class=\"dataframe\">\n",
       "  <thead>\n",
       "    <tr style=\"text-align: right;\">\n",
       "      <th></th>\n",
       "      <th>customer_id</th>\n",
       "      <th>first_name</th>\n",
       "      <th>last_name</th>\n",
       "      <th>gender</th>\n",
       "      <th>past_3_years_bike_related_purchases</th>\n",
       "      <th>DOB</th>\n",
       "      <th>job_title</th>\n",
       "      <th>job_industry_category</th>\n",
       "      <th>wealth_segment</th>\n",
       "      <th>deceased_indicator</th>\n",
       "      <th>default</th>\n",
       "      <th>owns_car</th>\n",
       "      <th>tenure</th>\n",
       "    </tr>\n",
       "  </thead>\n",
       "  <tbody>\n",
       "    <tr>\n",
       "      <td>1</td>\n",
       "      <td>1</td>\n",
       "      <td>Laraine</td>\n",
       "      <td>Medendorp</td>\n",
       "      <td>F</td>\n",
       "      <td>93</td>\n",
       "      <td>1953-10-12 00:00:00</td>\n",
       "      <td>Executive Secretary</td>\n",
       "      <td>Health</td>\n",
       "      <td>Mass Customer</td>\n",
       "      <td>N</td>\n",
       "      <td>\"'</td>\n",
       "      <td>Yes</td>\n",
       "      <td>11</td>\n",
       "    </tr>\n",
       "    <tr>\n",
       "      <td>2</td>\n",
       "      <td>2</td>\n",
       "      <td>Eli</td>\n",
       "      <td>Bockman</td>\n",
       "      <td>Male</td>\n",
       "      <td>81</td>\n",
       "      <td>1980-12-16 00:00:00</td>\n",
       "      <td>Administrative Officer</td>\n",
       "      <td>Financial Services</td>\n",
       "      <td>Mass Customer</td>\n",
       "      <td>N</td>\n",
       "      <td>&lt;script&gt;alert('hi')&lt;/script&gt;</td>\n",
       "      <td>Yes</td>\n",
       "      <td>16</td>\n",
       "    </tr>\n",
       "    <tr>\n",
       "      <td>3</td>\n",
       "      <td>3</td>\n",
       "      <td>Arlin</td>\n",
       "      <td>Dearle</td>\n",
       "      <td>Male</td>\n",
       "      <td>61</td>\n",
       "      <td>1954-01-20 00:00:00</td>\n",
       "      <td>Recruiting Manager</td>\n",
       "      <td>Property</td>\n",
       "      <td>Mass Customer</td>\n",
       "      <td>N</td>\n",
       "      <td>2018-02-01 00:00:00</td>\n",
       "      <td>Yes</td>\n",
       "      <td>15</td>\n",
       "    </tr>\n",
       "    <tr>\n",
       "      <td>4</td>\n",
       "      <td>4</td>\n",
       "      <td>Talbot</td>\n",
       "      <td>NaN</td>\n",
       "      <td>Male</td>\n",
       "      <td>33</td>\n",
       "      <td>1961-10-03 00:00:00</td>\n",
       "      <td>NaN</td>\n",
       "      <td>IT</td>\n",
       "      <td>Mass Customer</td>\n",
       "      <td>N</td>\n",
       "      <td>() { _; } &gt;_[$($())] { touch /tmp/blns.shellsh...</td>\n",
       "      <td>No</td>\n",
       "      <td>7</td>\n",
       "    </tr>\n",
       "    <tr>\n",
       "      <td>5</td>\n",
       "      <td>5</td>\n",
       "      <td>Sheila-kathryn</td>\n",
       "      <td>Calton</td>\n",
       "      <td>Female</td>\n",
       "      <td>56</td>\n",
       "      <td>1977-05-13 00:00:00</td>\n",
       "      <td>Senior Editor</td>\n",
       "      <td>NaN</td>\n",
       "      <td>Affluent Customer</td>\n",
       "      <td>N</td>\n",
       "      <td>NIL</td>\n",
       "      <td>Yes</td>\n",
       "      <td>8</td>\n",
       "    </tr>\n",
       "  </tbody>\n",
       "</table>\n",
       "</div>"
      ],
      "text/plain": [
       "  customer_id      first_name  last_name  gender  \\\n",
       "1           1         Laraine  Medendorp       F   \n",
       "2           2             Eli    Bockman    Male   \n",
       "3           3           Arlin     Dearle    Male   \n",
       "4           4          Talbot        NaN    Male   \n",
       "5           5  Sheila-kathryn     Calton  Female   \n",
       "\n",
       "  past_3_years_bike_related_purchases                  DOB  \\\n",
       "1                                  93  1953-10-12 00:00:00   \n",
       "2                                  81  1980-12-16 00:00:00   \n",
       "3                                  61  1954-01-20 00:00:00   \n",
       "4                                  33  1961-10-03 00:00:00   \n",
       "5                                  56  1977-05-13 00:00:00   \n",
       "\n",
       "                job_title job_industry_category     wealth_segment  \\\n",
       "1     Executive Secretary                Health      Mass Customer   \n",
       "2  Administrative Officer    Financial Services      Mass Customer   \n",
       "3      Recruiting Manager              Property      Mass Customer   \n",
       "4                     NaN                    IT      Mass Customer   \n",
       "5           Senior Editor                   NaN  Affluent Customer   \n",
       "\n",
       "  deceased_indicator                                            default  \\\n",
       "1                  N                                                 \"'   \n",
       "2                  N                       <script>alert('hi')</script>   \n",
       "3                  N                                2018-02-01 00:00:00   \n",
       "4                  N  () { _; } >_[$($())] { touch /tmp/blns.shellsh...   \n",
       "5                  N                                                NIL   \n",
       "\n",
       "  owns_car tenure  \n",
       "1      Yes     11  \n",
       "2      Yes     16  \n",
       "3      Yes     15  \n",
       "4       No      7  \n",
       "5      Yes      8  "
      ]
     },
     "execution_count": 71,
     "metadata": {},
     "output_type": "execute_result"
    }
   ],
   "source": [
    "df.head()"
   ]
  },
  {
   "cell_type": "markdown",
   "metadata": {},
   "source": [
    "# Checking for COMPLETENESS dimension"
   ]
  },
  {
   "cell_type": "code",
   "execution_count": 40,
   "metadata": {
    "scrolled": true
   },
   "outputs": [
    {
     "data": {
      "text/plain": [
       "customer_id                              0\n",
       "first_name                               0\n",
       "last_name                              125\n",
       "gender                                   0\n",
       "past_3_years_bike_related_purchases      0\n",
       "DOB                                     87\n",
       "job_title                              506\n",
       "job_industry_category                  656\n",
       "wealth_segment                           0\n",
       "deceased_indicator                       0\n",
       "default                                302\n",
       "owns_car                                 0\n",
       "tenure                                  87\n",
       "dtype: int64"
      ]
     },
     "execution_count": 40,
     "metadata": {},
     "output_type": "execute_result"
    }
   ],
   "source": [
    "df.isnull().sum()"
   ]
  },
  {
   "cell_type": "code",
   "execution_count": 72,
   "metadata": {},
   "outputs": [
    {
     "data": {
      "text/plain": [
       "<matplotlib.axes._subplots.AxesSubplot at 0x190bca3fa08>"
      ]
     },
     "execution_count": 72,
     "metadata": {},
     "output_type": "execute_result"
    },
    {
     "data": {
      "image/png": "[encoded data removed]",
      "text/plain": [
       "<Figure size 1080x360 with 2 Axes>"
      ]
     },
     "metadata": {},
     "output_type": "display_data"
    }
   ],
   "source": [
    "sns.set(rc={'figure.figsize':(15,5)})\n",
    "\n",
    "sns.heatmap(df.isnull(),yticklabels=False)"
   ]
  },
  {
   "cell_type": "markdown",
   "metadata": {},
   "source": [
    "# Checking for ACCURACY, CONSISTENCY, CURRENCY, RELEVANCY, VALIDITY & UNIQUENESS"
   ]
  },
  {
   "cell_type": "code",
   "execution_count": 15,
   "metadata": {},
   "outputs": [
    {
     "data": {
      "text/plain": [
       "array([1, 2, 3, ..., 3998, 3999, 4000], dtype=object)"
      ]
     },
     "execution_count": 15,
     "metadata": {},
     "output_type": "execute_result"
    }
   ],
   "source": [
    "df.customer_id.unique()\n"
   ]
  },
  {
   "cell_type": "code",
   "execution_count": 16,
   "metadata": {},
   "outputs": [
    {
     "data": {
      "text/plain": [
       "array(['Laraine', 'Eli', 'Arlin', ..., 'Stephie', 'Rusty', 'Sarene'],\n",
       "      dtype=object)"
      ]
     },
     "execution_count": 16,
     "metadata": {},
     "output_type": "execute_result"
    }
   ],
   "source": [
    "df.first_name.unique()"
   ]
  },
  {
   "cell_type": "code",
   "execution_count": 17,
   "metadata": {},
   "outputs": [
    {
     "data": {
      "text/plain": [
       "array(['Medendorp', 'Bockman', 'Dearle', ..., 'Halgarth', 'Woolley',\n",
       "       'Oldland'], dtype=object)"
      ]
     },
     "execution_count": 17,
     "metadata": {},
     "output_type": "execute_result"
    }
   ],
   "source": [
    "df.last_name.unique()"
   ]
  },
  {
   "cell_type": "code",
   "execution_count": 18,
   "metadata": {},
   "outputs": [
    {
     "data": {
      "text/plain": [
       "array(['F', 'Male', 'Female', 'U', 'Femal', 'M'], dtype=object)"
      ]
     },
     "execution_count": 18,
     "metadata": {},
     "output_type": "execute_result"
    }
   ],
   "source": [
    "df.gender.unique()"
   ]
  },
  {
   "cell_type": "markdown",
   "metadata": {},
   "source": [
    "The spelling of Female is wrong in gender column."
   ]
  },
  {
   "cell_type": "code",
   "execution_count": 19,
   "metadata": {},
   "outputs": [
    {
     "data": {
      "text/plain": [
       "array([93, 81, 61, 33, 56, 35, 6, 31, 97, 49, 99, 58, 38, 85, 91, 57, 79,\n",
       "       76, 72, 74, 43, 55, 12, 37, 5, 62, 18, 3, 17, 44, 59, 40, 46, 64,\n",
       "       24, 63, 98, 51, 68, 22, 2, 48, 87, 26, 60, 47, 73, 21, 67, 16, 78,\n",
       "       30, 94, 28, 20, 11, 1, 75, 41, 69, 19, 80, 83, 25, 54, 4, 23, 65,\n",
       "       88, 10, 77, 9, 82, 27, 53, 32, 34, 71, 36, 90, 95, 8, 39, 7, 42,\n",
       "       13, 45, 50, 14, 89, 84, 96, 70, 66, 0, 15, 86, 92, 29, 52],\n",
       "      dtype=object)"
      ]
     },
     "execution_count": 19,
     "metadata": {},
     "output_type": "execute_result"
    }
   ],
   "source": [
    "df.past_3_years_bike_related_purchases.unique()"
   ]
  },
  {
   "cell_type": "code",
   "execution_count": 31,
   "metadata": {},
   "outputs": [
    {
     "data": {
      "text/plain": [
       "dtype('O')"
      ]
     },
     "execution_count": 31,
     "metadata": {},
     "output_type": "execute_result"
    }
   ],
   "source": [
    "df['DOB'].dtype"
   ]
  },
  {
   "cell_type": "code",
   "execution_count": 59,
   "metadata": {},
   "outputs": [
    {
     "data": {
      "text/plain": [
       "array([datetime.datetime(1953, 10, 12, 0, 0),\n",
       "       datetime.datetime(1980, 12, 16, 0, 0),\n",
       "       datetime.datetime(1954, 1, 20, 0, 0), ...,\n",
       "       datetime.datetime(1975, 12, 12, 0, 0),\n",
       "       datetime.datetime(2001, 7, 13, 0, 0),\n",
       "       datetime.datetime(1991, 11, 5, 0, 0)], dtype=object)"
      ]
     },
     "execution_count": 59,
     "metadata": {},
     "output_type": "execute_result"
    }
   ],
   "source": [
    "df.DOB.unique()"
   ]
  },
  {
   "cell_type": "code",
   "execution_count": 61,
   "metadata": {},
   "outputs": [
    {
     "data": {
      "text/plain": [
       "1978-01-30    7\n",
       "1962-12-17    4\n",
       "1976-07-16    4\n",
       "1977-05-13    4\n",
       "1978-08-19    4\n",
       "             ..\n",
       "1998-06-13    1\n",
       "1976-05-21    1\n",
       "1997-07-06    1\n",
       "1993-10-13    1\n",
       "1985-08-20    1\n",
       "Name: DOB, Length: 3448, dtype: int64"
      ]
     },
     "execution_count": 61,
     "metadata": {},
     "output_type": "execute_result"
    }
   ],
   "source": [
    "df['DOB'].value_counts()"
   ]
  },
  {
   "cell_type": "code",
   "execution_count": 68,
   "metadata": {},
   "outputs": [
    {
     "data": {
      "text/plain": [
       "array(['Executive Secretary', 'Administrative Officer',\n",
       "       'Recruiting Manager', nan, 'Senior Editor', 'Media Manager I',\n",
       "       'Business Systems Development Analyst', 'Senior Quality Engineer',\n",
       "       'Nuclear Power Engineer', 'Developer I', 'Account Executive',\n",
       "       'Junior Executive', 'Media Manager IV', 'Sales Associate',\n",
       "       'Professor', 'Geological Engineer', 'Project Manager',\n",
       "       'Safety Technician I', 'Research Assistant I',\n",
       "       'Accounting Assistant III', 'Editor', 'Research Nurse',\n",
       "       'Safety Technician III', 'Staff Accountant III', 'Legal Assistant',\n",
       "       'Product Engineer', 'Information Systems Manager',\n",
       "       'VP Quality Control', 'Social Worker', 'Senior Cost Accountant',\n",
       "       'Assistant Media Planner', 'Payment Adjustment Coordinator',\n",
       "       'Food Chemist', 'Accountant III', 'Director of Sales',\n",
       "       'Senior Financial Analyst', 'Registered Nurse',\n",
       "       'Biostatistician II', 'Computer Systems Analyst II',\n",
       "       'Software Test Engineer II', 'Paralegal', 'VP Sales',\n",
       "       'Chief Design Engineer', 'Office Assistant III',\n",
       "       'Physical Therapy Assistant', 'Help Desk Operator',\n",
       "       'Web Developer II', 'Research Associate', 'Teacher',\n",
       "       'VP Product Management', 'Statistician II',\n",
       "       'Automation Specialist IV', 'Data Coordiator',\n",
       "       'Software Test Engineer III', 'Internal Auditor',\n",
       "       'Analyst Programmer', 'Occupational Therapist',\n",
       "       'Speech Pathologist', 'Quality Control Specialist',\n",
       "       'Civil Engineer', 'Software Engineer III',\n",
       "       'Community Outreach Specialist', 'Safety Technician IV',\n",
       "       'VP Accounting', 'General Manager', 'Nurse Practicioner',\n",
       "       'Automation Specialist II', 'Marketing Assistant',\n",
       "       'Marketing Manager', 'Staff Scientist', 'Assistant Professor',\n",
       "       'Budget/Accounting Analyst IV', 'Associate Professor',\n",
       "       'Graphic Designer', 'Administrative Assistant II',\n",
       "       'Compensation Analyst', 'Systems Administrator III',\n",
       "       'Financial Advisor', 'Chemical Engineer', 'Web Designer I',\n",
       "       'Senior Developer', 'Office Assistant II', 'Recruiter', 'Operator',\n",
       "       'Programmer Analyst III', 'Quality Engineer', 'Environmental Tech',\n",
       "       'Analog Circuit Design manager', 'Cost Accountant', 'Librarian',\n",
       "       'Structural Analysis Engineer', 'Pharmacist', 'Assistant Manager',\n",
       "       'Accountant I', 'Web Designer III', 'Geologist III',\n",
       "       'Software Test Engineer I', 'Structural Engineer',\n",
       "       'Safety Technician II', 'Web Developer III',\n",
       "       'Programmer Analyst II', 'Design Engineer', 'Statistician I',\n",
       "       'VP Marketing', 'Desktop Support Technician', 'Actuary',\n",
       "       'Database Administrator III', 'Electrical Engineer',\n",
       "       'Tax Accountant', 'Clinical Specialist',\n",
       "       'Database Administrator IV', 'Systems Administrator II',\n",
       "       'Account Coordinator', 'Programmer III',\n",
       "       'Administrative Assistant III', 'Nurse', 'Technical Writer',\n",
       "       'Staff Accountant II', 'Dental Hygienist', 'Sales Representative',\n",
       "       'Budget/Accounting Analyst III', 'Computer Systems Analyst IV',\n",
       "       'Geologist I', 'Financial Analyst', 'Accounting Assistant II',\n",
       "       'Senior Sales Associate', 'Database Administrator II',\n",
       "       'Engineer I', 'Budget/Accounting Analyst I', 'Developer IV',\n",
       "       'Database Administrator I', 'Environmental Specialist',\n",
       "       'Computer Systems Analyst I', 'Account Representative IV',\n",
       "       'Statistician IV', 'Human Resources Manager',\n",
       "       'GIS Technical Architect', 'Programmer IV',\n",
       "       'Accounting Assistant IV', 'Software Engineer IV', 'Programmer II',\n",
       "       'Engineer III', 'Software Consultant', 'Biostatistician IV',\n",
       "       'Help Desk Technician', 'Automation Specialist I', 'Developer III',\n",
       "       'Human Resources Assistant I', 'Geologist IV', 'Media Manager II',\n",
       "       'Statistician III', 'Engineer II', 'Health Coach II',\n",
       "       'Developer II', 'Systems Administrator I', 'Web Developer I',\n",
       "       'Software Engineer II', 'Accounting Assistant I',\n",
       "       'Research Assistant II', 'Programmer Analyst IV', 'Health Coach I',\n",
       "       'Accountant II', 'Automation Specialist III',\n",
       "       'Administrative Assistant I', 'Health Coach IV',\n",
       "       'Media Manager III', 'Account Representative III',\n",
       "       'Web Designer IV', 'Budget/Accounting Analyst II',\n",
       "       'Web Developer IV', 'Programmer I', 'Biostatistician III',\n",
       "       'Software Test Engineer IV', 'Research Assistant IV',\n",
       "       'Account Representative I', 'Accountant IV', 'Biostatistician I',\n",
       "       'Human Resources Assistant IV', 'Administrative Assistant IV',\n",
       "       'Office Assistant I', 'Human Resources Assistant II',\n",
       "       'Mechanical Systems Engineer', 'Engineer IV', 'Health Coach III',\n",
       "       'Office Assistant IV', 'Software Engineer I',\n",
       "       'Human Resources Assistant III', 'Staff Accountant I',\n",
       "       'Computer Systems Analyst III', 'Geologist II', 'Web Designer II',\n",
       "       'Staff Accountant IV', 'Account Representative II',\n",
       "       'Programmer Analyst I', 'Systems Administrator IV',\n",
       "       'Research Assistant III'], dtype=object)"
      ]
     },
     "execution_count": 68,
     "metadata": {},
     "output_type": "execute_result"
    }
   ],
   "source": [
    "df.job_title.unique()"
   ]
  },
  {
   "cell_type": "code",
   "execution_count": 69,
   "metadata": {},
   "outputs": [
    {
     "data": {
      "text/plain": [
       "Business Systems Development Analyst    45\n",
       "Social Worker                           44\n",
       "Tax Accountant                          44\n",
       "Internal Auditor                        42\n",
       "Legal Assistant                         41\n",
       "                                        ..\n",
       "Systems Administrator IV                 4\n",
       "Health Coach III                         3\n",
       "Research Assistant III                   3\n",
       "Health Coach I                           3\n",
       "Developer I                              1\n",
       "Name: job_title, Length: 195, dtype: int64"
      ]
     },
     "execution_count": 69,
     "metadata": {},
     "output_type": "execute_result"
    }
   ],
   "source": [
    "df['job_title'].value_counts()"
   ]
  },
  {
   "cell_type": "code",
   "execution_count": 67,
   "metadata": {},
   "outputs": [
    {
     "data": {
      "text/plain": [
       "array(['Health', 'Financial Services', 'Property', 'IT', nan, 'Retail',\n",
       "       'Argiculture', 'Manufacturing', 'Telecommunications',\n",
       "       'Entertainment'], dtype=object)"
      ]
     },
     "execution_count": 67,
     "metadata": {},
     "output_type": "execute_result"
    }
   ],
   "source": [
    "df.job_industry_category.unique()"
   ]
  },
  {
   "cell_type": "code",
   "execution_count": 66,
   "metadata": {},
   "outputs": [
    {
     "data": {
      "text/plain": [
       "Manufacturing         799\n",
       "Financial Services    774\n",
       "Health                602\n",
       "Retail                358\n",
       "Property              267\n",
       "IT                    223\n",
       "Entertainment         136\n",
       "Argiculture           113\n",
       "Telecommunications     72\n",
       "Name: job_industry_category, dtype: int64"
      ]
     },
     "execution_count": 66,
     "metadata": {},
     "output_type": "execute_result"
    }
   ],
   "source": [
    "df['job_industry_category'].value_counts()"
   ]
  },
  {
   "cell_type": "code",
   "execution_count": 35,
   "metadata": {},
   "outputs": [
    {
     "data": {
      "text/plain": [
       "array(['Mass Customer', 'Affluent Customer', 'High Net Worth'],\n",
       "      dtype=object)"
      ]
     },
     "execution_count": 35,
     "metadata": {},
     "output_type": "execute_result"
    }
   ],
   "source": [
    "df.wealth_segment.unique()"
   ]
  },
  {
   "cell_type": "code",
   "execution_count": 36,
   "metadata": {},
   "outputs": [
    {
     "data": {
      "text/plain": [
       "array(['N', 'Y'], dtype=object)"
      ]
     },
     "execution_count": 36,
     "metadata": {},
     "output_type": "execute_result"
    }
   ],
   "source": [
    "df.deceased_indicator.unique()"
   ]
  },
  {
   "cell_type": "code",
   "execution_count": 37,
   "metadata": {},
   "outputs": [
    {
     "data": {
      "text/plain": [
       "array(['\"\\'', \"<script>alert('hi')</script>\",\n",
       "       datetime.datetime(2018, 2, 1, 0, 0),\n",
       "       '() { _; } >_[$($())] { touch /tmp/blns.shellshock2.fail; }',\n",
       "       'NIL', 'ðµ ð ð ð', 'â°â´âµâââ', '(â¯Â°â¡Â°ï¼â¯ï¸µ â»ââ»)', '0/0',\n",
       "       'ð©ð½', 'ÅâÂ´Â®â\\xa0Â¥Â¨ËÃ¸Ïââ', 'nil', -100, 'â°â´âµ', 'ð',\n",
       "       1000000000000000049861653971908893017010268485438462151574892930611988399099305815384459015356416,\n",
       "       'ï¾ï½¥â¿ã¾â²(ï½¡ââ¿âï½¡)â±â¿ï½¥ï¾', 'Î©âÃ§ââ«ËÂµâ¤â¥Ã·',\n",
       "       'ÅâÂ´â°ËÃÂ¨ËÃâââ', 'ï¼ï¼ï¼',\n",
       "       '../../../../../../../../../../../etc/hosts',\n",
       "       '×Ö¸×Ö°×ªÖ¸×testØ§ÙØµÙØ\\xadØ§Øª Ø§ÙØªÙØ\\xadÙÙ', '<>?:\"{}|_+',\n",
       "       '\\'\\'\\'\\'\"', \",./;'[]\\\\-=\",\n",
       "       '() { 0; }; touch /tmp/blns.shellshock1.fail;',\n",
       "       'ì¬íê³¼íì ì´íì°êµ¬ì', 'testâ\\xa0testâ«',\n",
       "       '0ï¸â£ 1ï¸â£ 2ï¸â£ 3ï¸â£ 4ï¸â£ 5ï¸â£ 6ï¸â£ 7ï¸â£ 8ï¸â£ 9ï¸â£ ð',\n",
       "       nan, '!@#$%^&*()', \"'\",\n",
       "       'Ì¦HÍÌ¬Ì¤ÌÌ¤eÍ ÍÌÌ¥ÌÌ»ÍÌwÌhÌÌ¯ÍoÌÍÌÍÌ±Ì® ÒÌºÌÌÌÍWÌ·Ì¼Ì\\xadaÌºÌªÍiÌ¨ÍÍÌ\\xadÍÌ¯ÌtÌ¶Ì¼Ì®sÌÌÍÍ Ì\\xa0Ì«Ì\\xa0BÌ»ÍÍÍÍÌ³eÌµhÌµÌ¬ÍÌ«ÍiÌÌ¹ÍÌ³Ì³Ì®ÍÌ«nÍdÌ´ÌªÌÌ ÍÌ°ÍÌ©ÍÍÍÌ²TÍ¢ÍÌ¼ÍÌªhÍÍÌ®Ì»eÌ¬ÌÍÌ Ì¤Ì¹ÌWÍÍÍÌÌÍÍaÍÍÍÌ¹Ì¼',\n",
       "       '../../../../../../../../../../../etc/passwd%00', 'åè£½æ¼¢èª',\n",
       "       '`ââ¬â¹âºï¬ï¬â¡Â°Â·ââÂ±', 'ãã¼ãã£ã¼ã¸è¡ããªãã', 1, -0.5,\n",
       "       'ZÌ®ÌÍÌ\\xa0ÍÍAÌ¥ÌÌÍÌ»ÌLÌ£ÍÍÌ¯Ì¹ÌÍGÌ»OÌ\\xadÌÌ®', 'ã', 100,\n",
       "       '1;DROP TABLE users', -1, 'á', '(ï¾à²¥çà²¥ï¼ï¾ï»¿ â»ââ»', '00ËÆ$-',\n",
       "       '1/0', 'ï½ï½¨(Â´âï½â©', \"<svg><script>0<1>alert('XSS')</script>\",\n",
       "       'âââ', 'ã»(ï¿£âï¿£)ã»:*:', ',ãã»:*:ã»ãâ( â» Ï â» )ãã»:*:ã»ãâ',\n",
       "       'â¢', 'ç°ä¸\\xadããã«ããã¦ä¸ãã', '__ï¾(,_,*)', 'Ù¡Ù¢Ù£',\n",
       "       'Ø«Ù ÙÙØ³ Ø³ÙØ·Øª ÙØ¨Ø§ÙØªØ\\xadØ¯ÙØ¯Ø, Ø¬Ø²ÙØ±ØªÙ Ø¨Ø§Ø³ØªØ®Ø¯Ø§Ù Ø£Ù Ø¯ÙÙ. Ø¥Ø° ÙÙØ§Ø Ø§ÙØ³ØªØ§Ø± ÙØªÙØµÙØ¨ ÙØ§Ù. Ø£ÙÙÙ Ø§ÙØ·Ø§ÙÙØ§Ø Ø¨Ø±ÙØ·Ø§ÙÙØ§-ÙØ±ÙØ³Ø§ ÙØ¯ Ø£Ø®Ø°. Ø³ÙÙÙØ§ÙØ Ø¥ØªÙØ§ÙÙØ© Ø¨ÙÙ ÙØ§, ÙØ°ÙØ± Ø',\n",
       "       'ð¾ ð ð ð ð ð ð ð§', \"<img src=x onerror=alert('hi') />\",\n",
       "       'ã½à¼¼àºÙÍàºà¼½ï¾ ã½à¼¼àºÙÍàºà¼½ï¾', 'âð¿ ðªð¿ ðð¿ ðð¿ ðð¿ ðð¿',\n",
       "       'TÌÌ\\xadÌºÌºoÍ Ì·iÌ²Ì¬ÍÌªÍnÌÌÍvÍÌÌÌÌ¦oÌ¶ÌÌ°Ì\\xa0keÍÍÌ®ÌºÌªÌ¹Ì±Ì¤ ÌtÍÌÍÌ³Ì£Ì»ÌªhÌ¼ÍÌ²Ì¦Ì³ÌÌ²eÍÌ£Ì°Ì¦Ì¬Í Ì¢Ì¼Ì»Ì±ÌhÍÍÍÍÌÌ£Ì²iÌ¦Ì²Ì£Ì°Ì¤vÌ»ÍeÌºÌ\\xadÌ³ÌªÌ°-mÌ¢iÍnÌÌºÌÌ²Ì¯Ì°dÌµÌ¼ÌÍÌ©Ì¼ÌÌ³ ÌÌ¥Ì±Ì³Ì\\xadrÌÌÌeÍpÍ\\xa0rÌ¼ÌÌ»Ì\\xadÌeÍÌºÌ\\xa0Ì£sÌ',\n",
       "       'ÃÃÃÃËÃÃï£¿ÃÃÃâ', '(ï½¡â â âï½¡)', 'é¨è½æ\\xa0¼',\n",
       "       \"ËÉnbá´lÉ ÉuÆÉÉ¯ ÇÉ¹olop ÊÇ ÇÉ¹oqÉl Ên Êunpá´pá´Éuá´ É¹odÉ¯ÇÊ poÉ¯sná´Ç op pÇs 'Êá´lÇ Æuá´Ésá´dá´pÉ É¹nÊÇÊÉÇsuoÉ 'ÊÇÉ¯É Êá´s É¹olop É¯nsdá´ É¯ÇÉ¹oË¥\",\n",
       "       'á\\xa0',\n",
       "       '×Ö¼Ö°×¨Öµ××©×Ö´××ª, ×Ö¼Ö¸×¨Ö¸× ×Ö±×Ö¹×Ö´××, ×Öµ×ª ×Ö·×©Ö¼×Ö¸×Ö·×Ö´×, ×Ö°×Öµ×ª ×Ö¸×Ö¸×¨Ö¶×¥',\n",
       "       'Â¡â¢Â£Â¢âÂ§Â¶â¢ÂªÂºââ\\xa0',\n",
       "       '/dev/null; touch /tmp/blns.fail ; echo', \"1'; DROP TABLE users--\",\n",
       "       'ð¾ ð ð ð ð ð ð ð',\n",
       "       'Ì¡ÍÍÌIÍÌÌÌ¦nÍÍÍvÌ®Ì«okÌ²Ì«ÌÍiÌÍÌ\\xadÌ¹Ì\\xa0ÌnÌ¡Ì»Ì®Ì£ÌºgÌ²ÍÍÌ\\xadÍÌ¬Í Ì°tÍÌ¦hÌÌ²eÌ¢Ì¤ ÍÌ¬Ì²ÍfÌ´ÌÍÌ£eÍÍeÌ£Ì¥Ì©lÍÍÍiÍ\\xa0ÍÍÌ¦nÍÍÌÍÌ³Ì®gÍ Ì¨oÍ¡ÍÌªfÌÌ£Ì¬ ÌÌÍÌÍÌ®cÒÍÌ«ÍÍÍÍÍhÌµÌ¤Ì£ÍÍaÍÌÌ¼ÍÍoÌ¼Ì£Ì¥sÍ¢Ì±ÍÌºÌÌ¦Ì».ÌÌ',\n",
       "       'â', 'Â¸ËÃâÄ±ËÃÂ¯ËÂ¿', 'ì¸ëë°í\\xa0ë¥´',\n",
       "       'ÌÌºÍÌ¹Ì¯ÍTÌ±Ì¤ÍÌ¥ÍÍhÍÌ²eÍÍÌ¼ÌÌÌ¼Ì£Í ÍÌÌ±Ì\\xa0ÍÍÍNÍ\\xa0ÍeÌÌ±zÌÌÌÌºÍpÌ¤ÌºÌ¹ÍÌ¯ÍeÍÌ\\xa0Ì»Ì\\xa0rÌ¨Ì¤ÍÌºÌÍÌÌdÍÌ\\xa0ÌÌ\\xadÌ¬ÌiÌ¦ÍÌ©ÍÍÌ¤aÌ\\xa0ÌÌ¬ÍÌnÍÍ Ì»ÌÌ°ÍÍhÌµÍiÌ³ÌvÌ¢ÍeÍÌ\\xadÍ-ÒÌ\\xadÌ©Ì¼ÍmÌ¤Ì\\xadÌ«iÍÍÌÌ¦nÌÍdÌ£Ì ÍÌ¯Ì²ÍoÌ¨ÌÌ¯Ì°Ì²',\n",
       "       0, 'â©testâ©', 'â£', 'Ã¥ÃâÆÂ©ËâËÂ¬â¦Ã¦',\n",
       "       'ç¤¾æç§å\\xad¸é¢èªå\\xad¸ç\\xa0ç©¶æ', 'âªâªtestâª', 'ï»¿',\n",
       "       'â¤ï¸ ð ð ð ð ð ð ð ð ð ð ð ð ð ð', 'â«testâ«', 'â¦testâ§',\n",
       "       '\\'\"\\'\\'\\'\\'\"', 'â¡', 'ð\\xa0ð\\xa0±ð\\xa0¹ð\\xa0±ð\\xa0±¸ð\\xa0²ð\\xa0³'],\n",
       "      dtype=object)"
      ]
     },
     "execution_count": 37,
     "metadata": {},
     "output_type": "execute_result"
    }
   ],
   "source": [
    "df.default.unique()"
   ]
  },
  {
   "cell_type": "markdown",
   "metadata": {},
   "source": [
    "The values stored under the column default is having unkown values. This column can be dropped as it doesn't portray anything as such."
   ]
  },
  {
   "cell_type": "code",
   "execution_count": 38,
   "metadata": {},
   "outputs": [
    {
     "data": {
      "text/plain": [
       "array(['Yes', 'No'], dtype=object)"
      ]
     },
     "execution_count": 38,
     "metadata": {},
     "output_type": "execute_result"
    }
   ],
   "source": [
    "df.owns_car.unique()"
   ]
  },
  {
   "cell_type": "code",
   "execution_count": 39,
   "metadata": {},
   "outputs": [
    {
     "data": {
      "text/plain": [
       "array([11, 16, 15, 7, 8, 13, 20, 9, 6, 1, 18, 21, 12, 19, 14, 4, 22, 5,\n",
       "       17, 2, 3, 10, nan], dtype=object)"
      ]
     },
     "execution_count": 39,
     "metadata": {},
     "output_type": "execute_result"
    }
   ],
   "source": [
    "df.tenure.unique()"
   ]
  },
  {
   "cell_type": "code",
   "execution_count": 52,
   "metadata": {},
   "outputs": [
    {
     "data": {
      "text/plain": [
       "<matplotlib.axes._subplots.AxesSubplot at 0x190b9cb5ec8>"
      ]
     },
     "execution_count": 52,
     "metadata": {},
     "output_type": "execute_result"
    },
    {
     "data": {
      "image/png": "[encoded data removed]",
      "text/plain": [
       "<Figure size 1080x360 with 1 Axes>"
      ]
     },
     "metadata": {},
     "output_type": "display_data"
    }
   ],
   "source": [
    "sns.countplot(x = \"gender\", data = df)"
   ]
  },
  {
   "cell_type": "markdown",
   "metadata": {},
   "source": [
    "This shows that the values F,Femal and M are not used much. They have only been used once."
   ]
  },
  {
   "cell_type": "code",
   "execution_count": 53,
   "metadata": {},
   "outputs": [
    {
     "data": {
      "text/plain": [
       "<matplotlib.axes._subplots.AxesSubplot at 0x190bb34e588>"
      ]
     },
     "execution_count": 53,
     "metadata": {},
     "output_type": "execute_result"
    },
    {
     "data": {
      "image/png": "[encoded data removed]",
      "text/plain": [
       "<Figure size 1080x360 with 1 Axes>"
      ]
     },
     "metadata": {},
     "output_type": "display_data"
    }
   ],
   "source": [
    "sns.countplot(x = \"past_3_years_bike_related_purchases\", data = df)"
   ]
  },
  {
   "cell_type": "code",
   "execution_count": 54,
   "metadata": {},
   "outputs": [
    {
     "data": {
      "text/plain": [
       "<matplotlib.axes._subplots.AxesSubplot at 0x190bc0a54c8>"
      ]
     },
     "execution_count": 54,
     "metadata": {},
     "output_type": "execute_result"
    },
    {
     "data": {
      "image/png": "[encoded data removed]",
      "text/plain": [
       "<Figure size 1080x360 with 1 Axes>"
      ]
     },
     "metadata": {},
     "output_type": "display_data"
    }
   ],
   "source": [
    "sns.countplot(x = \"job_industry_category\", data = df)"
   ]
  },
  {
   "cell_type": "code",
   "execution_count": 55,
   "metadata": {},
   "outputs": [
    {
     "data": {
      "text/plain": [
       "<matplotlib.axes._subplots.AxesSubplot at 0x190bc0a0ec8>"
      ]
     },
     "execution_count": 55,
     "metadata": {},
     "output_type": "execute_result"
    },
    {
     "data": {
      "image/png": "[encoded data removed]",
      "text/plain": [
       "<Figure size 1080x360 with 1 Axes>"
      ]
     },
     "metadata": {},
     "output_type": "display_data"
    }
   ],
   "source": [
    "sns.countplot(x = \"wealth_segment\", data = df)"
   ]
  },
  {
   "cell_type": "code",
   "execution_count": 56,
   "metadata": {},
   "outputs": [
    {
     "data": {
      "text/plain": [
       "<matplotlib.axes._subplots.AxesSubplot at 0x190bc561c08>"
      ]
     },
     "execution_count": 56,
     "metadata": {},
     "output_type": "execute_result"
    },
    {
     "data": {
      "image/png": "[encoded data removed]",
      "text/plain": [
       "<Figure size 1080x360 with 1 Axes>"
      ]
     },
     "metadata": {},
     "output_type": "display_data"
    }
   ],
   "source": [
    "sns.countplot(x = \"deceased_indicator\", data = df)"
   ]
  },
  {
   "cell_type": "code",
   "execution_count": 57,
   "metadata": {},
   "outputs": [
    {
     "data": {
      "text/plain": [
       "<matplotlib.axes._subplots.AxesSubplot at 0x190bc3fb208>"
      ]
     },
     "execution_count": 57,
     "metadata": {},
     "output_type": "execute_result"
    },
    {
     "data": {
      "image/png": "[encoded data removed]",
      "text/plain": [
       "<Figure size 1080x360 with 1 Axes>"
      ]
     },
     "metadata": {},
     "output_type": "display_data"
    }
   ],
   "source": [
    "sns.countplot(x = \"owns_car\", data = df)"
   ]
  },
  {
   "cell_type": "code",
   "execution_count": 58,
   "metadata": {},
   "outputs": [
    {
     "data": {
      "text/plain": [
       "<matplotlib.axes._subplots.AxesSubplot at 0x190bc6fcb88>"
      ]
     },
     "execution_count": 58,
     "metadata": {},
     "output_type": "execute_result"
    },
    {
     "data": {
      "image/png": "[encoded data removed]",
      "text/plain": [
       "<Figure size 1080x360 with 1 Axes>"
      ]
     },
     "metadata": {},
     "output_type": "display_data"
    }
   ],
   "source": [
    "sns.countplot(x = \"tenure\", data = df)"
   ]
  },
  {
   "cell_type": "markdown",
   "metadata": {},
   "source": [
    "The values are having \n",
    "\n",
    "1.) Good accurate values with column specified values.The exceptions are Gender and Default.\n",
    "\n",
    "2.) The values are consistent in their respective columns with proper feed. The exceptions are Gender and Default.\n",
    "\n",
    "3.) The values are up to date from the year they are collected and are valid for that year.The exceptions are Gender and Default.\n",
    "\n",
    "4.) Relevant values related to the customers are present in the field with no extra values that take up unecessary space.The exceptions are Gender and Default.\n",
    "\n",
    "5.) Valid values are present inside the columns which makes the dataset suitbale for usage with a brief editing.The exceptions are Gender and Default.\n",
    "\n",
    "6.) Unique valuesa are present in the dataframe as showned above.The exceptions are Gender and Default."
   ]
  },
  {
   "cell_type": "code",
   "execution_count": null,
   "metadata": {},
   "outputs": [],
   "source": []
  }
 ],
 "metadata": {
  "kernelspec": {
   "display_name": "Python 3",
   "language": "python",
   "name": "python3"
  },
  "language_info": {
   "codemirror_mode": {
    "name": "ipython",
    "version": 3
   },
   "file_extension": ".py",
   "mimetype": "text/x-python",
   "name": "python",
   "nbconvert_exporter": "python",
   "pygments_lexer": "ipython3",
   "version": "3.7.4"
  }
 },
 "nbformat": 4,
 "nbformat_minor": 2
}
